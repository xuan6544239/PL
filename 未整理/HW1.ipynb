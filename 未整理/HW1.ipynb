{
 "cells": [
  {
   "cell_type": "code",
   "execution_count": 1,
   "id": "68986344",
   "metadata": {},
   "outputs": [],
   "source": [
    "import numpy as np\n",
    "import pandas as pd\n",
    "import csv\n",
    "import matplotlib\n",
    "import seaborn as sns"
   ]
  },
  {
   "cell_type": "code",
   "execution_count": 27,
   "id": "a6aa6abc",
   "metadata": {},
   "outputs": [],
   "source": [
    "# 读取CSV文件\n",
    "df1 = pd.read_csv('GDP.csv')\n",
    "df2 = pd.read_csv('Fertility rate.csv')"
   ]
  },
  {
   "cell_type": "markdown",
   "id": "a4a98d41",
   "metadata": {},
   "source": [
    "<font size=\"6\">**Q1.調查日本每年的GDP與每年的生育率關係**<font size>"
   ]
  },
  {
   "cell_type": "code",
   "execution_count": 28,
   "id": "909adaa5",
   "metadata": {},
   "outputs": [
    {
     "data": {
      "text/html": [
       "<div>\n",
       "<style scoped>\n",
       "    .dataframe tbody tr th:only-of-type {\n",
       "        vertical-align: middle;\n",
       "    }\n",
       "\n",
       "    .dataframe tbody tr th {\n",
       "        vertical-align: top;\n",
       "    }\n",
       "\n",
       "    .dataframe thead th {\n",
       "        text-align: right;\n",
       "    }\n",
       "</style>\n",
       "<table border=\"1\" class=\"dataframe\">\n",
       "  <thead>\n",
       "    <tr style=\"text-align: right;\">\n",
       "      <th></th>\n",
       "      <th>Country Name</th>\n",
       "      <th>Country Code</th>\n",
       "      <th>Indicator Name</th>\n",
       "      <th>Indicator Code</th>\n",
       "      <th>1960</th>\n",
       "      <th>1961</th>\n",
       "      <th>1962</th>\n",
       "      <th>1963</th>\n",
       "      <th>1964</th>\n",
       "      <th>1965</th>\n",
       "      <th>...</th>\n",
       "      <th>2013</th>\n",
       "      <th>2014</th>\n",
       "      <th>2015</th>\n",
       "      <th>2016</th>\n",
       "      <th>2017</th>\n",
       "      <th>2018</th>\n",
       "      <th>2019</th>\n",
       "      <th>2020</th>\n",
       "      <th>2021</th>\n",
       "      <th>2022</th>\n",
       "    </tr>\n",
       "  </thead>\n",
       "  <tbody>\n",
       "    <tr>\n",
       "      <th>0</th>\n",
       "      <td>Aruba</td>\n",
       "      <td>ABW</td>\n",
       "      <td>GDP per capita, PPP (current international $)</td>\n",
       "      <td>NY.GDP.PCAP.PP.CD</td>\n",
       "      <td>NaN</td>\n",
       "      <td>NaN</td>\n",
       "      <td>NaN</td>\n",
       "      <td>NaN</td>\n",
       "      <td>NaN</td>\n",
       "      <td>NaN</td>\n",
       "      <td>...</td>\n",
       "      <td>36932.184160</td>\n",
       "      <td>36846.848290</td>\n",
       "      <td>37343.912960</td>\n",
       "      <td>37583.840320</td>\n",
       "      <td>38865.188200</td>\n",
       "      <td>41685.363320</td>\n",
       "      <td>42510.065590</td>\n",
       "      <td>35012.391470</td>\n",
       "      <td>42887.374910</td>\n",
       "      <td>NaN</td>\n",
       "    </tr>\n",
       "    <tr>\n",
       "      <th>1</th>\n",
       "      <td>Africa Eastern and Southern</td>\n",
       "      <td>AFE</td>\n",
       "      <td>GDP per capita, PPP (current international $)</td>\n",
       "      <td>NY.GDP.PCAP.PP.CD</td>\n",
       "      <td>NaN</td>\n",
       "      <td>NaN</td>\n",
       "      <td>NaN</td>\n",
       "      <td>NaN</td>\n",
       "      <td>NaN</td>\n",
       "      <td>NaN</td>\n",
       "      <td>...</td>\n",
       "      <td>3334.654696</td>\n",
       "      <td>3471.665125</td>\n",
       "      <td>3498.864893</td>\n",
       "      <td>3592.092621</td>\n",
       "      <td>3635.259642</td>\n",
       "      <td>3724.994882</td>\n",
       "      <td>3778.210236</td>\n",
       "      <td>3624.820674</td>\n",
       "      <td>3858.004651</td>\n",
       "      <td>4169.019532</td>\n",
       "    </tr>\n",
       "    <tr>\n",
       "      <th>2</th>\n",
       "      <td>Afghanistan</td>\n",
       "      <td>AFG</td>\n",
       "      <td>GDP per capita, PPP (current international $)</td>\n",
       "      <td>NY.GDP.PCAP.PP.CD</td>\n",
       "      <td>NaN</td>\n",
       "      <td>NaN</td>\n",
       "      <td>NaN</td>\n",
       "      <td>NaN</td>\n",
       "      <td>NaN</td>\n",
       "      <td>NaN</td>\n",
       "      <td>...</td>\n",
       "      <td>2062.059176</td>\n",
       "      <td>2110.829568</td>\n",
       "      <td>2128.125938</td>\n",
       "      <td>2023.834656</td>\n",
       "      <td>2096.093111</td>\n",
       "      <td>2110.239384</td>\n",
       "      <td>2168.133765</td>\n",
       "      <td>2078.595086</td>\n",
       "      <td>1673.964059</td>\n",
       "      <td>NaN</td>\n",
       "    </tr>\n",
       "    <tr>\n",
       "      <th>3</th>\n",
       "      <td>Africa Western and Central</td>\n",
       "      <td>AFW</td>\n",
       "      <td>GDP per capita, PPP (current international $)</td>\n",
       "      <td>NY.GDP.PCAP.PP.CD</td>\n",
       "      <td>NaN</td>\n",
       "      <td>NaN</td>\n",
       "      <td>NaN</td>\n",
       "      <td>NaN</td>\n",
       "      <td>NaN</td>\n",
       "      <td>NaN</td>\n",
       "      <td>...</td>\n",
       "      <td>3952.023188</td>\n",
       "      <td>4144.259662</td>\n",
       "      <td>4077.321424</td>\n",
       "      <td>4003.756559</td>\n",
       "      <td>4051.271199</td>\n",
       "      <td>4161.782756</td>\n",
       "      <td>4267.050522</td>\n",
       "      <td>4179.632366</td>\n",
       "      <td>4429.952133</td>\n",
       "      <td>4798.434519</td>\n",
       "    </tr>\n",
       "    <tr>\n",
       "      <th>4</th>\n",
       "      <td>Angola</td>\n",
       "      <td>AGO</td>\n",
       "      <td>GDP per capita, PPP (current international $)</td>\n",
       "      <td>NY.GDP.PCAP.PP.CD</td>\n",
       "      <td>NaN</td>\n",
       "      <td>NaN</td>\n",
       "      <td>NaN</td>\n",
       "      <td>NaN</td>\n",
       "      <td>NaN</td>\n",
       "      <td>NaN</td>\n",
       "      <td>...</td>\n",
       "      <td>7643.921944</td>\n",
       "      <td>8123.048065</td>\n",
       "      <td>7274.090475</td>\n",
       "      <td>7027.146634</td>\n",
       "      <td>7216.061373</td>\n",
       "      <td>7043.955360</td>\n",
       "      <td>6882.279123</td>\n",
       "      <td>6367.437317</td>\n",
       "      <td>6523.463613</td>\n",
       "      <td>6973.696299</td>\n",
       "    </tr>\n",
       "  </tbody>\n",
       "</table>\n",
       "<p>5 rows × 67 columns</p>\n",
       "</div>"
      ],
      "text/plain": [
       "                  Country Name Country Code  \\\n",
       "0                        Aruba          ABW   \n",
       "1  Africa Eastern and Southern          AFE   \n",
       "2                  Afghanistan          AFG   \n",
       "3   Africa Western and Central          AFW   \n",
       "4                       Angola          AGO   \n",
       "\n",
       "                                  Indicator Name     Indicator Code  1960  \\\n",
       "0  GDP per capita, PPP (current international $)  NY.GDP.PCAP.PP.CD   NaN   \n",
       "1  GDP per capita, PPP (current international $)  NY.GDP.PCAP.PP.CD   NaN   \n",
       "2  GDP per capita, PPP (current international $)  NY.GDP.PCAP.PP.CD   NaN   \n",
       "3  GDP per capita, PPP (current international $)  NY.GDP.PCAP.PP.CD   NaN   \n",
       "4  GDP per capita, PPP (current international $)  NY.GDP.PCAP.PP.CD   NaN   \n",
       "\n",
       "   1961  1962  1963  1964  1965  ...          2013          2014  \\\n",
       "0   NaN   NaN   NaN   NaN   NaN  ...  36932.184160  36846.848290   \n",
       "1   NaN   NaN   NaN   NaN   NaN  ...   3334.654696   3471.665125   \n",
       "2   NaN   NaN   NaN   NaN   NaN  ...   2062.059176   2110.829568   \n",
       "3   NaN   NaN   NaN   NaN   NaN  ...   3952.023188   4144.259662   \n",
       "4   NaN   NaN   NaN   NaN   NaN  ...   7643.921944   8123.048065   \n",
       "\n",
       "           2015          2016          2017          2018          2019  \\\n",
       "0  37343.912960  37583.840320  38865.188200  41685.363320  42510.065590   \n",
       "1   3498.864893   3592.092621   3635.259642   3724.994882   3778.210236   \n",
       "2   2128.125938   2023.834656   2096.093111   2110.239384   2168.133765   \n",
       "3   4077.321424   4003.756559   4051.271199   4161.782756   4267.050522   \n",
       "4   7274.090475   7027.146634   7216.061373   7043.955360   6882.279123   \n",
       "\n",
       "           2020          2021         2022  \n",
       "0  35012.391470  42887.374910          NaN  \n",
       "1   3624.820674   3858.004651  4169.019532  \n",
       "2   2078.595086   1673.964059          NaN  \n",
       "3   4179.632366   4429.952133  4798.434519  \n",
       "4   6367.437317   6523.463613  6973.696299  \n",
       "\n",
       "[5 rows x 67 columns]"
      ]
     },
     "execution_count": 28,
     "metadata": {},
     "output_type": "execute_result"
    }
   ],
   "source": [
    "df1.head()"
   ]
  },
  {
   "cell_type": "code",
   "execution_count": 29,
   "id": "f747c2ee",
   "metadata": {
    "scrolled": false
   },
   "outputs": [
    {
     "data": {
      "text/html": [
       "<div>\n",
       "<style scoped>\n",
       "    .dataframe tbody tr th:only-of-type {\n",
       "        vertical-align: middle;\n",
       "    }\n",
       "\n",
       "    .dataframe tbody tr th {\n",
       "        vertical-align: top;\n",
       "    }\n",
       "\n",
       "    .dataframe thead th {\n",
       "        text-align: right;\n",
       "    }\n",
       "</style>\n",
       "<table border=\"1\" class=\"dataframe\">\n",
       "  <thead>\n",
       "    <tr style=\"text-align: right;\">\n",
       "      <th></th>\n",
       "      <th>Country Name</th>\n",
       "      <th>Country Code</th>\n",
       "      <th>Indicator Name</th>\n",
       "      <th>Indicator Code</th>\n",
       "      <th>1960</th>\n",
       "      <th>1961</th>\n",
       "      <th>1962</th>\n",
       "      <th>1963</th>\n",
       "      <th>1964</th>\n",
       "      <th>1965</th>\n",
       "      <th>...</th>\n",
       "      <th>2013</th>\n",
       "      <th>2014</th>\n",
       "      <th>2015</th>\n",
       "      <th>2016</th>\n",
       "      <th>2017</th>\n",
       "      <th>2018</th>\n",
       "      <th>2019</th>\n",
       "      <th>2020</th>\n",
       "      <th>2021</th>\n",
       "      <th>2022</th>\n",
       "    </tr>\n",
       "  </thead>\n",
       "  <tbody>\n",
       "    <tr>\n",
       "      <th>0</th>\n",
       "      <td>Aruba</td>\n",
       "      <td>ABW</td>\n",
       "      <td>Fertility rate, total (births per woman)</td>\n",
       "      <td>SP.DYN.TFRT.IN</td>\n",
       "      <td>4.820000</td>\n",
       "      <td>4.655000</td>\n",
       "      <td>4.471000</td>\n",
       "      <td>4.271000</td>\n",
       "      <td>4.059000</td>\n",
       "      <td>3.842000</td>\n",
       "      <td>...</td>\n",
       "      <td>2.11700</td>\n",
       "      <td>2.148000</td>\n",
       "      <td>1.972000</td>\n",
       "      <td>1.953000</td>\n",
       "      <td>1.839000</td>\n",
       "      <td>1.587000</td>\n",
       "      <td>1.486000</td>\n",
       "      <td>1.325000</td>\n",
       "      <td>1.180000</td>\n",
       "      <td>NaN</td>\n",
       "    </tr>\n",
       "    <tr>\n",
       "      <th>1</th>\n",
       "      <td>Africa Eastern and Southern</td>\n",
       "      <td>AFE</td>\n",
       "      <td>Fertility rate, total (births per woman)</td>\n",
       "      <td>SP.DYN.TFRT.IN</td>\n",
       "      <td>6.724125</td>\n",
       "      <td>6.742752</td>\n",
       "      <td>6.762930</td>\n",
       "      <td>6.778712</td>\n",
       "      <td>6.788420</td>\n",
       "      <td>6.800322</td>\n",
       "      <td>...</td>\n",
       "      <td>4.80882</td>\n",
       "      <td>4.739861</td>\n",
       "      <td>4.677618</td>\n",
       "      <td>4.615670</td>\n",
       "      <td>4.570409</td>\n",
       "      <td>4.527705</td>\n",
       "      <td>4.482898</td>\n",
       "      <td>4.416900</td>\n",
       "      <td>4.354709</td>\n",
       "      <td>NaN</td>\n",
       "    </tr>\n",
       "    <tr>\n",
       "      <th>2</th>\n",
       "      <td>Afghanistan</td>\n",
       "      <td>AFG</td>\n",
       "      <td>Fertility rate, total (births per woman)</td>\n",
       "      <td>SP.DYN.TFRT.IN</td>\n",
       "      <td>7.282000</td>\n",
       "      <td>7.284000</td>\n",
       "      <td>7.292000</td>\n",
       "      <td>7.302000</td>\n",
       "      <td>7.304000</td>\n",
       "      <td>7.305000</td>\n",
       "      <td>...</td>\n",
       "      <td>5.69600</td>\n",
       "      <td>5.560000</td>\n",
       "      <td>5.405000</td>\n",
       "      <td>5.262000</td>\n",
       "      <td>5.129000</td>\n",
       "      <td>5.002000</td>\n",
       "      <td>4.870000</td>\n",
       "      <td>4.750000</td>\n",
       "      <td>4.643000</td>\n",
       "      <td>NaN</td>\n",
       "    </tr>\n",
       "    <tr>\n",
       "      <th>3</th>\n",
       "      <td>Africa Western and Central</td>\n",
       "      <td>AFW</td>\n",
       "      <td>Fertility rate, total (births per woman)</td>\n",
       "      <td>SP.DYN.TFRT.IN</td>\n",
       "      <td>6.458448</td>\n",
       "      <td>6.471518</td>\n",
       "      <td>6.491826</td>\n",
       "      <td>6.506088</td>\n",
       "      <td>6.525355</td>\n",
       "      <td>6.541102</td>\n",
       "      <td>...</td>\n",
       "      <td>5.50635</td>\n",
       "      <td>5.437493</td>\n",
       "      <td>5.385059</td>\n",
       "      <td>5.328709</td>\n",
       "      <td>5.255345</td>\n",
       "      <td>5.186319</td>\n",
       "      <td>5.118932</td>\n",
       "      <td>5.049329</td>\n",
       "      <td>4.978662</td>\n",
       "      <td>NaN</td>\n",
       "    </tr>\n",
       "    <tr>\n",
       "      <th>4</th>\n",
       "      <td>Angola</td>\n",
       "      <td>AGO</td>\n",
       "      <td>Fertility rate, total (births per woman)</td>\n",
       "      <td>SP.DYN.TFRT.IN</td>\n",
       "      <td>6.708000</td>\n",
       "      <td>6.790000</td>\n",
       "      <td>6.872000</td>\n",
       "      <td>6.954000</td>\n",
       "      <td>7.036000</td>\n",
       "      <td>7.116000</td>\n",
       "      <td>...</td>\n",
       "      <td>5.95300</td>\n",
       "      <td>5.864000</td>\n",
       "      <td>5.774000</td>\n",
       "      <td>5.686000</td>\n",
       "      <td>5.600000</td>\n",
       "      <td>5.519000</td>\n",
       "      <td>5.442000</td>\n",
       "      <td>5.371000</td>\n",
       "      <td>5.304000</td>\n",
       "      <td>NaN</td>\n",
       "    </tr>\n",
       "  </tbody>\n",
       "</table>\n",
       "<p>5 rows × 67 columns</p>\n",
       "</div>"
      ],
      "text/plain": [
       "                  Country Name Country Code  \\\n",
       "0                        Aruba          ABW   \n",
       "1  Africa Eastern and Southern          AFE   \n",
       "2                  Afghanistan          AFG   \n",
       "3   Africa Western and Central          AFW   \n",
       "4                       Angola          AGO   \n",
       "\n",
       "                             Indicator Name  Indicator Code      1960  \\\n",
       "0  Fertility rate, total (births per woman)  SP.DYN.TFRT.IN  4.820000   \n",
       "1  Fertility rate, total (births per woman)  SP.DYN.TFRT.IN  6.724125   \n",
       "2  Fertility rate, total (births per woman)  SP.DYN.TFRT.IN  7.282000   \n",
       "3  Fertility rate, total (births per woman)  SP.DYN.TFRT.IN  6.458448   \n",
       "4  Fertility rate, total (births per woman)  SP.DYN.TFRT.IN  6.708000   \n",
       "\n",
       "       1961      1962      1963      1964      1965  ...     2013      2014  \\\n",
       "0  4.655000  4.471000  4.271000  4.059000  3.842000  ...  2.11700  2.148000   \n",
       "1  6.742752  6.762930  6.778712  6.788420  6.800322  ...  4.80882  4.739861   \n",
       "2  7.284000  7.292000  7.302000  7.304000  7.305000  ...  5.69600  5.560000   \n",
       "3  6.471518  6.491826  6.506088  6.525355  6.541102  ...  5.50635  5.437493   \n",
       "4  6.790000  6.872000  6.954000  7.036000  7.116000  ...  5.95300  5.864000   \n",
       "\n",
       "       2015      2016      2017      2018      2019      2020      2021  2022  \n",
       "0  1.972000  1.953000  1.839000  1.587000  1.486000  1.325000  1.180000   NaN  \n",
       "1  4.677618  4.615670  4.570409  4.527705  4.482898  4.416900  4.354709   NaN  \n",
       "2  5.405000  5.262000  5.129000  5.002000  4.870000  4.750000  4.643000   NaN  \n",
       "3  5.385059  5.328709  5.255345  5.186319  5.118932  5.049329  4.978662   NaN  \n",
       "4  5.774000  5.686000  5.600000  5.519000  5.442000  5.371000  5.304000   NaN  \n",
       "\n",
       "[5 rows x 67 columns]"
      ]
     },
     "execution_count": 29,
     "metadata": {},
     "output_type": "execute_result"
    }
   ],
   "source": [
    "df2.head()"
   ]
  },
  {
   "cell_type": "code",
   "execution_count": 30,
   "id": "5022cba7",
   "metadata": {},
   "outputs": [
    {
     "name": "stdout",
     "output_type": "stream",
     "text": [
      "Japan 在第 119 行\n",
      "Japan 所在的行数据:\n",
      "Country Name                                              Japan\n",
      "Country Code                                                JPN\n",
      "Indicator Name    GDP per capita, PPP (current international $)\n",
      "Indicator Code                                NY.GDP.PCAP.PP.CD\n",
      "1960                                                        NaN\n",
      "                                      ...                      \n",
      "2018                                                    42141.9\n",
      "2019                                                      42271\n",
      "2020                                                    41683.9\n",
      "2021                                                    42833.9\n",
      "2022                                                    45572.7\n",
      "Name: 119, Length: 67, dtype: object\n"
     ]
    }
   ],
   "source": [
    "# 找到data1 \"Japan\" 所在的行列位置\n",
    "japan_index = df1[df1['Country Name'] == 'Japan'].index[0]\n",
    "japan_row = df1[df1['Country Name'] == 'Japan'].iloc[0]\n",
    "\n",
    "print(\"Japan 在第\", japan_index, \"行\")\n",
    "print(\"Japan 所在的行数据:\")\n",
    "print(japan_row)\n"
   ]
  },
  {
   "cell_type": "code",
   "execution_count": 31,
   "id": "cecdad2d",
   "metadata": {},
   "outputs": [
    {
     "name": "stdout",
     "output_type": "stream",
     "text": [
      "Japan 在第 119 行\n",
      "Japan 所在的行数据:\n",
      "Country Name                                         Japan\n",
      "Country Code                                           JPN\n",
      "Indicator Name    Fertility rate, total (births per woman)\n",
      "Indicator Code                              SP.DYN.TFRT.IN\n",
      "1960                                                     2\n",
      "                                    ...                   \n",
      "2018                                                  1.42\n",
      "2019                                                  1.36\n",
      "2020                                                  1.33\n",
      "2021                                                   1.3\n",
      "2022                                                   NaN\n",
      "Name: 119, Length: 67, dtype: object\n"
     ]
    }
   ],
   "source": [
    "# 找到data2 \"Japan\" 所在的行列位置\n",
    "japan_index = df2[df2['Country Name'] == 'Japan'].index[0]\n",
    "japan_row = df2[df2['Country Name'] == 'Japan'].iloc[0]\n",
    "\n",
    "print(\"Japan 在第\", japan_index, \"行\")\n",
    "print(\"Japan 所在的行数据:\")\n",
    "print(japan_row)\n"
   ]
  },
  {
   "cell_type": "code",
   "execution_count": 106,
   "id": "66e47989",
   "metadata": {
    "scrolled": true
   },
   "outputs": [
    {
     "data": {
      "text/html": [
       "<div>\n",
       "<style scoped>\n",
       "    .dataframe tbody tr th:only-of-type {\n",
       "        vertical-align: middle;\n",
       "    }\n",
       "\n",
       "    .dataframe tbody tr th {\n",
       "        vertical-align: top;\n",
       "    }\n",
       "\n",
       "    .dataframe thead th {\n",
       "        text-align: right;\n",
       "    }\n",
       "</style>\n",
       "<table border=\"1\" class=\"dataframe\">\n",
       "  <thead>\n",
       "    <tr style=\"text-align: right;\">\n",
       "      <th></th>\n",
       "      <th>JapanGDP</th>\n",
       "      <th>JapanFertility</th>\n",
       "    </tr>\n",
       "  </thead>\n",
       "  <tbody>\n",
       "    <tr>\n",
       "      <th>2018</th>\n",
       "      <td>10405</td>\n",
       "      <td>5552</td>\n",
       "    </tr>\n",
       "    <tr>\n",
       "      <th>2019</th>\n",
       "      <td>10678.8</td>\n",
       "      <td>5480</td>\n",
       "    </tr>\n",
       "    <tr>\n",
       "      <th>2020</th>\n",
       "      <td>9724.16</td>\n",
       "      <td>5432</td>\n",
       "    </tr>\n",
       "    <tr>\n",
       "      <th>2021</th>\n",
       "      <td>10601.2</td>\n",
       "      <td>5408</td>\n",
       "    </tr>\n",
       "    <tr>\n",
       "      <th>2022</th>\n",
       "      <td>11821.6</td>\n",
       "      <td>NaN</td>\n",
       "    </tr>\n",
       "  </tbody>\n",
       "</table>\n",
       "</div>"
      ],
      "text/plain": [
       "     JapanGDP JapanFertility\n",
       "2018    10405           5552\n",
       "2019  10678.8           5480\n",
       "2020  9724.16           5432\n",
       "2021  10601.2           5408\n",
       "2022  11821.6            NaN"
      ]
     },
     "execution_count": 106,
     "metadata": {},
     "output_type": "execute_result"
    }
   ],
   "source": [
    "Japan = df1.loc[117]\n",
    "Fertility = df2.loc[117]*4000\n",
    " \n",
    "alldata = {\n",
    "    \"JapanGDP\": Japan,\n",
    "    \"JapanFertility\": Fertility\n",
    "}\n",
    "\n",
    "df = pd.DataFrame(alldata)\n",
    "\n",
    "df.tail()"
   ]
  },
  {
   "cell_type": "code",
   "execution_count": 107,
   "id": "c7c765e7",
   "metadata": {},
   "outputs": [
    {
     "data": {
      "text/html": [
       "<div>\n",
       "<style scoped>\n",
       "    .dataframe tbody tr th:only-of-type {\n",
       "        vertical-align: middle;\n",
       "    }\n",
       "\n",
       "    .dataframe tbody tr th {\n",
       "        vertical-align: top;\n",
       "    }\n",
       "\n",
       "    .dataframe thead th {\n",
       "        text-align: right;\n",
       "    }\n",
       "</style>\n",
       "<table border=\"1\" class=\"dataframe\">\n",
       "  <thead>\n",
       "    <tr style=\"text-align: right;\">\n",
       "      <th></th>\n",
       "      <th>JapanGDP</th>\n",
       "      <th>JapanFertility</th>\n",
       "      <th>Year</th>\n",
       "    </tr>\n",
       "  </thead>\n",
       "  <tbody>\n",
       "    <tr>\n",
       "      <th>2018</th>\n",
       "      <td>10405</td>\n",
       "      <td>5552</td>\n",
       "      <td>2018</td>\n",
       "    </tr>\n",
       "    <tr>\n",
       "      <th>2019</th>\n",
       "      <td>10678.8</td>\n",
       "      <td>5480</td>\n",
       "      <td>2019</td>\n",
       "    </tr>\n",
       "    <tr>\n",
       "      <th>2020</th>\n",
       "      <td>9724.16</td>\n",
       "      <td>5432</td>\n",
       "      <td>2020</td>\n",
       "    </tr>\n",
       "    <tr>\n",
       "      <th>2021</th>\n",
       "      <td>10601.2</td>\n",
       "      <td>5408</td>\n",
       "      <td>2021</td>\n",
       "    </tr>\n",
       "    <tr>\n",
       "      <th>2022</th>\n",
       "      <td>11821.6</td>\n",
       "      <td>NaN</td>\n",
       "      <td>2022</td>\n",
       "    </tr>\n",
       "  </tbody>\n",
       "</table>\n",
       "</div>"
      ],
      "text/plain": [
       "     JapanGDP JapanFertility  Year\n",
       "2018    10405           5552  2018\n",
       "2019  10678.8           5480  2019\n",
       "2020  9724.16           5432  2020\n",
       "2021  10601.2           5408  2021\n",
       "2022  11821.6            NaN  2022"
      ]
     },
     "execution_count": 107,
     "metadata": {},
     "output_type": "execute_result"
    }
   ],
   "source": [
    "df = df.drop(labels='Indicator Name', axis=0)\n",
    "df = df.drop(labels='Country Code', axis=0)\n",
    "df = df.drop(labels='Country Name', axis=0)\n",
    "df = df.drop(labels='Indicator Code', axis=0)\n",
    "df['Year'] = range(1960, 2023)\n",
    "df.tail()\n"
   ]
  },
  {
   "cell_type": "code",
   "execution_count": 108,
   "id": "b926d033",
   "metadata": {},
   "outputs": [
    {
     "name": "stdout",
     "output_type": "stream",
     "text": [
      "     JapanGDP JapanFertility  Year\n",
      "1991     5177          11624  1991\n",
      "1992  5348.17          11808  1992\n",
      "1993  5930.86          11848  1993\n",
      "1994  6079.21          11756  1994\n",
      "1995  6288.77          11524  1995\n",
      "1996  6337.23          10696  1996\n",
      "1997  6317.97          10636  1997\n",
      "1998  6187.58          10376  1998\n",
      "1999   6292.4           9788  1999\n",
      "2000   6451.9           8840  2000\n",
      "2001  6652.37           8692  2001\n",
      "2002  6857.45           8596  2002\n",
      "2003  7214.21           8520  2003\n",
      "2004  7469.31           8508  2004\n",
      "2005  7735.11           8252  2005\n",
      "2006  8165.92           8276  2006\n",
      "2007  8470.29           7632  2007\n",
      "2008  8530.61           7560  2008\n",
      "2009  8178.96           7456  2009\n",
      "2010  8122.35           6968  2010\n",
      "2011  8396.88           6912  2011\n",
      "2012  8431.38           6784  2012\n",
      "2013  8703.54           6544  2013\n",
      "2014  8823.11           6276  2014\n",
      "2015  9095.92           6352  2015\n",
      "2016  9533.84           6064  2016\n",
      "2017  9984.58           5760  2017\n",
      "2018    10405           5552  2018\n",
      "2019  10678.8           5480  2019\n",
      "2020  9724.16           5432  2020\n",
      "2021  10601.2           5408  2021\n",
      "2022  11821.6            NaN  2022\n"
     ]
    }
   ],
   "source": [
    "# 创建一个布尔掩码，标识 'Year' 列在1990到1960之间的行\n",
    "mask = (df['Year'] >= 1960) & (df['Year'] <= 1990)\n",
    "\n",
    "# 使用布尔掩码来删除符合条件的行，并在原始 DataFrame 上进行修改\n",
    "df.drop(df[mask].index, inplace=True)\n",
    "\n",
    "# 打印修改后的 DataFrame\n",
    "print(df)\n"
   ]
  },
  {
   "cell_type": "code",
   "execution_count": 111,
   "id": "a42d6569",
   "metadata": {
    "scrolled": true
   },
   "outputs": [
    {
     "data": {
      "image/png": "[encoded data removed]",
      "text/plain": [
       "<Figure size 864x432 with 1 Axes>"
      ]
     },
     "metadata": {},
     "output_type": "display_data"
    }
   ],
   "source": [
    "# 将 'JapanFertility' 列转换为数值型\n",
    "df['JapanFertility'] = pd.to_numeric(df['JapanFertility'], errors='coerce')\n",
    "\n",
    "# 创建一个新的图形\n",
    "plt.figure(figsize=(12, 6))\n",
    "\n",
    "# 将X轴数据转换为字符串\n",
    "years = df['Year'].astype(str)\n",
    "\n",
    "# 绘制日本的 GDP 折线图\n",
    "plt.plot(years, df['JapanGDP'], label='Japan GDP', marker='o', linestyle='-')\n",
    "\n",
    "# 绘制日本的生育率折线图\n",
    "plt.plot(years, df['JapanFertility'], label='Japan Fertility', marker='o', linestyle='-')\n",
    "\n",
    "# 添加图例\n",
    "plt.legend()\n",
    "\n",
    "# 添加标题和标签\n",
    "plt.title('Japan GDP and Fertility Rate Over Time')\n",
    "plt.xlabel('Year')\n",
    "plt.ylabel('Value')\n",
    "\n",
    "# 设置X轴标签的间隔，例如每隔5年显示一个标签\n",
    "plt.xticks(range(0, len(years), 5), years[::5], rotation=45)\n",
    "\n",
    "# 显示网格线\n",
    "plt.grid(True)\n",
    "\n",
    "# 显示图形\n",
    "plt.show()\n",
    "\n",
    "\n"
   ]
  },
  {
   "cell_type": "markdown",
   "id": "b30b4ae7",
   "metadata": {},
   "source": [
    "結果發現，隨著GDP增加，日本每年的生育率逐年下降"
   ]
  },
  {
   "cell_type": "code",
   "execution_count": 20,
   "id": "6ca7ca99",
   "metadata": {
    "scrolled": true
   },
   "outputs": [
    {
     "data": {
      "text/html": [
       "<div>\n",
       "<style scoped>\n",
       "    .dataframe tbody tr th:only-of-type {\n",
       "        vertical-align: middle;\n",
       "    }\n",
       "\n",
       "    .dataframe tbody tr th {\n",
       "        vertical-align: top;\n",
       "    }\n",
       "\n",
       "    .dataframe thead th {\n",
       "        text-align: right;\n",
       "    }\n",
       "</style>\n",
       "<table border=\"1\" class=\"dataframe\">\n",
       "  <thead>\n",
       "    <tr style=\"text-align: right;\">\n",
       "      <th></th>\n",
       "      <th>Country Name</th>\n",
       "      <th>Country Code</th>\n",
       "      <th>Indicator Name</th>\n",
       "      <th>Indicator Code</th>\n",
       "      <th>1960</th>\n",
       "      <th>1961</th>\n",
       "      <th>1962</th>\n",
       "      <th>1963</th>\n",
       "      <th>1964</th>\n",
       "      <th>1965</th>\n",
       "      <th>...</th>\n",
       "      <th>2013</th>\n",
       "      <th>2014</th>\n",
       "      <th>2015</th>\n",
       "      <th>2016</th>\n",
       "      <th>2017</th>\n",
       "      <th>2018</th>\n",
       "      <th>2019</th>\n",
       "      <th>2020</th>\n",
       "      <th>2021</th>\n",
       "      <th>2022</th>\n",
       "    </tr>\n",
       "  </thead>\n",
       "  <tbody>\n",
       "    <tr>\n",
       "      <th>0</th>\n",
       "      <td>Aruba</td>\n",
       "      <td>ABW</td>\n",
       "      <td>GDP per capita, PPP (current international $)</td>\n",
       "      <td>NY.GDP.PCAP.PP.CD</td>\n",
       "      <td>NaN</td>\n",
       "      <td>NaN</td>\n",
       "      <td>NaN</td>\n",
       "      <td>NaN</td>\n",
       "      <td>NaN</td>\n",
       "      <td>NaN</td>\n",
       "      <td>...</td>\n",
       "      <td>36932.184160</td>\n",
       "      <td>36846.848290</td>\n",
       "      <td>37343.912960</td>\n",
       "      <td>37583.840320</td>\n",
       "      <td>38865.188200</td>\n",
       "      <td>41685.363320</td>\n",
       "      <td>42510.065590</td>\n",
       "      <td>35012.391470</td>\n",
       "      <td>42887.374910</td>\n",
       "      <td>NaN</td>\n",
       "    </tr>\n",
       "    <tr>\n",
       "      <th>1</th>\n",
       "      <td>Africa Eastern and Southern</td>\n",
       "      <td>AFE</td>\n",
       "      <td>GDP per capita, PPP (current international $)</td>\n",
       "      <td>NY.GDP.PCAP.PP.CD</td>\n",
       "      <td>NaN</td>\n",
       "      <td>NaN</td>\n",
       "      <td>NaN</td>\n",
       "      <td>NaN</td>\n",
       "      <td>NaN</td>\n",
       "      <td>NaN</td>\n",
       "      <td>...</td>\n",
       "      <td>3334.654696</td>\n",
       "      <td>3471.665125</td>\n",
       "      <td>3498.864893</td>\n",
       "      <td>3592.092621</td>\n",
       "      <td>3635.259642</td>\n",
       "      <td>3724.994882</td>\n",
       "      <td>3778.210236</td>\n",
       "      <td>3624.820674</td>\n",
       "      <td>3858.004651</td>\n",
       "      <td>4169.019532</td>\n",
       "    </tr>\n",
       "    <tr>\n",
       "      <th>2</th>\n",
       "      <td>Afghanistan</td>\n",
       "      <td>AFG</td>\n",
       "      <td>GDP per capita, PPP (current international $)</td>\n",
       "      <td>NY.GDP.PCAP.PP.CD</td>\n",
       "      <td>NaN</td>\n",
       "      <td>NaN</td>\n",
       "      <td>NaN</td>\n",
       "      <td>NaN</td>\n",
       "      <td>NaN</td>\n",
       "      <td>NaN</td>\n",
       "      <td>...</td>\n",
       "      <td>2062.059176</td>\n",
       "      <td>2110.829568</td>\n",
       "      <td>2128.125938</td>\n",
       "      <td>2023.834656</td>\n",
       "      <td>2096.093111</td>\n",
       "      <td>2110.239384</td>\n",
       "      <td>2168.133765</td>\n",
       "      <td>2078.595086</td>\n",
       "      <td>1673.964059</td>\n",
       "      <td>NaN</td>\n",
       "    </tr>\n",
       "    <tr>\n",
       "      <th>3</th>\n",
       "      <td>Africa Western and Central</td>\n",
       "      <td>AFW</td>\n",
       "      <td>GDP per capita, PPP (current international $)</td>\n",
       "      <td>NY.GDP.PCAP.PP.CD</td>\n",
       "      <td>NaN</td>\n",
       "      <td>NaN</td>\n",
       "      <td>NaN</td>\n",
       "      <td>NaN</td>\n",
       "      <td>NaN</td>\n",
       "      <td>NaN</td>\n",
       "      <td>...</td>\n",
       "      <td>3952.023188</td>\n",
       "      <td>4144.259662</td>\n",
       "      <td>4077.321424</td>\n",
       "      <td>4003.756559</td>\n",
       "      <td>4051.271199</td>\n",
       "      <td>4161.782756</td>\n",
       "      <td>4267.050522</td>\n",
       "      <td>4179.632366</td>\n",
       "      <td>4429.952133</td>\n",
       "      <td>4798.434519</td>\n",
       "    </tr>\n",
       "    <tr>\n",
       "      <th>4</th>\n",
       "      <td>Angola</td>\n",
       "      <td>AGO</td>\n",
       "      <td>GDP per capita, PPP (current international $)</td>\n",
       "      <td>NY.GDP.PCAP.PP.CD</td>\n",
       "      <td>NaN</td>\n",
       "      <td>NaN</td>\n",
       "      <td>NaN</td>\n",
       "      <td>NaN</td>\n",
       "      <td>NaN</td>\n",
       "      <td>NaN</td>\n",
       "      <td>...</td>\n",
       "      <td>7643.921944</td>\n",
       "      <td>8123.048065</td>\n",
       "      <td>7274.090475</td>\n",
       "      <td>7027.146634</td>\n",
       "      <td>7216.061373</td>\n",
       "      <td>7043.955360</td>\n",
       "      <td>6882.279123</td>\n",
       "      <td>6367.437317</td>\n",
       "      <td>6523.463613</td>\n",
       "      <td>6973.696299</td>\n",
       "    </tr>\n",
       "  </tbody>\n",
       "</table>\n",
       "<p>5 rows × 67 columns</p>\n",
       "</div>"
      ],
      "text/plain": [
       "                  Country Name Country Code  \\\n",
       "0                        Aruba          ABW   \n",
       "1  Africa Eastern and Southern          AFE   \n",
       "2                  Afghanistan          AFG   \n",
       "3   Africa Western and Central          AFW   \n",
       "4                       Angola          AGO   \n",
       "\n",
       "                                  Indicator Name     Indicator Code  1960  \\\n",
       "0  GDP per capita, PPP (current international $)  NY.GDP.PCAP.PP.CD   NaN   \n",
       "1  GDP per capita, PPP (current international $)  NY.GDP.PCAP.PP.CD   NaN   \n",
       "2  GDP per capita, PPP (current international $)  NY.GDP.PCAP.PP.CD   NaN   \n",
       "3  GDP per capita, PPP (current international $)  NY.GDP.PCAP.PP.CD   NaN   \n",
       "4  GDP per capita, PPP (current international $)  NY.GDP.PCAP.PP.CD   NaN   \n",
       "\n",
       "   1961  1962  1963  1964  1965  ...          2013          2014  \\\n",
       "0   NaN   NaN   NaN   NaN   NaN  ...  36932.184160  36846.848290   \n",
       "1   NaN   NaN   NaN   NaN   NaN  ...   3334.654696   3471.665125   \n",
       "2   NaN   NaN   NaN   NaN   NaN  ...   2062.059176   2110.829568   \n",
       "3   NaN   NaN   NaN   NaN   NaN  ...   3952.023188   4144.259662   \n",
       "4   NaN   NaN   NaN   NaN   NaN  ...   7643.921944   8123.048065   \n",
       "\n",
       "           2015          2016          2017          2018          2019  \\\n",
       "0  37343.912960  37583.840320  38865.188200  41685.363320  42510.065590   \n",
       "1   3498.864893   3592.092621   3635.259642   3724.994882   3778.210236   \n",
       "2   2128.125938   2023.834656   2096.093111   2110.239384   2168.133765   \n",
       "3   4077.321424   4003.756559   4051.271199   4161.782756   4267.050522   \n",
       "4   7274.090475   7027.146634   7216.061373   7043.955360   6882.279123   \n",
       "\n",
       "           2020          2021         2022  \n",
       "0  35012.391470  42887.374910          NaN  \n",
       "1   3624.820674   3858.004651  4169.019532  \n",
       "2   2078.595086   1673.964059          NaN  \n",
       "3   4179.632366   4429.952133  4798.434519  \n",
       "4   6367.437317   6523.463613  6973.696299  \n",
       "\n",
       "[5 rows x 67 columns]"
      ]
     },
     "execution_count": 20,
     "metadata": {},
     "output_type": "execute_result"
    }
   ],
   "source": [
    "import pandas as pd\n",
    "import matplotlib.pyplot as plt\n",
    "import seaborn as sns\n",
    "\n",
    "# 读取 GDP 数据文件 'GDP.csv' 和生育率数据文件 'Fertility rate.csv'\n",
    "df1 = pd.read_csv('GDP.csv')\n",
    "df2 = pd.read_csv('Fertility rate.csv')\n",
    "\n",
    "df1.head()"
   ]
  },
  {
   "cell_type": "code",
   "execution_count": 16,
   "id": "b8bb1cd2",
   "metadata": {
    "scrolled": true
   },
   "outputs": [
    {
     "data": {
      "text/html": [
       "<div>\n",
       "<style scoped>\n",
       "    .dataframe tbody tr th:only-of-type {\n",
       "        vertical-align: middle;\n",
       "    }\n",
       "\n",
       "    .dataframe tbody tr th {\n",
       "        vertical-align: top;\n",
       "    }\n",
       "\n",
       "    .dataframe thead th {\n",
       "        text-align: right;\n",
       "    }\n",
       "</style>\n",
       "<table border=\"1\" class=\"dataframe\">\n",
       "  <thead>\n",
       "    <tr style=\"text-align: right;\">\n",
       "      <th></th>\n",
       "      <th>Country Name</th>\n",
       "      <th>Country Code</th>\n",
       "      <th>Indicator Name</th>\n",
       "      <th>Indicator Code</th>\n",
       "      <th>1960</th>\n",
       "      <th>1961</th>\n",
       "      <th>1962</th>\n",
       "      <th>1963</th>\n",
       "      <th>1964</th>\n",
       "      <th>1965</th>\n",
       "      <th>...</th>\n",
       "      <th>2013</th>\n",
       "      <th>2014</th>\n",
       "      <th>2015</th>\n",
       "      <th>2016</th>\n",
       "      <th>2017</th>\n",
       "      <th>2018</th>\n",
       "      <th>2019</th>\n",
       "      <th>2020</th>\n",
       "      <th>2021</th>\n",
       "      <th>2022</th>\n",
       "    </tr>\n",
       "  </thead>\n",
       "  <tbody>\n",
       "    <tr>\n",
       "      <th>0</th>\n",
       "      <td>Aruba</td>\n",
       "      <td>ABW</td>\n",
       "      <td>Fertility rate, total (births per woman)</td>\n",
       "      <td>SP.DYN.TFRT.IN</td>\n",
       "      <td>4.820000</td>\n",
       "      <td>4.655000</td>\n",
       "      <td>4.471000</td>\n",
       "      <td>4.271000</td>\n",
       "      <td>4.059000</td>\n",
       "      <td>3.842000</td>\n",
       "      <td>...</td>\n",
       "      <td>2.11700</td>\n",
       "      <td>2.148000</td>\n",
       "      <td>1.972000</td>\n",
       "      <td>1.953000</td>\n",
       "      <td>1.839000</td>\n",
       "      <td>1.587000</td>\n",
       "      <td>1.486000</td>\n",
       "      <td>1.325000</td>\n",
       "      <td>1.180000</td>\n",
       "      <td>NaN</td>\n",
       "    </tr>\n",
       "    <tr>\n",
       "      <th>1</th>\n",
       "      <td>Africa Eastern and Southern</td>\n",
       "      <td>AFE</td>\n",
       "      <td>Fertility rate, total (births per woman)</td>\n",
       "      <td>SP.DYN.TFRT.IN</td>\n",
       "      <td>6.724125</td>\n",
       "      <td>6.742752</td>\n",
       "      <td>6.762930</td>\n",
       "      <td>6.778712</td>\n",
       "      <td>6.788420</td>\n",
       "      <td>6.800322</td>\n",
       "      <td>...</td>\n",
       "      <td>4.80882</td>\n",
       "      <td>4.739861</td>\n",
       "      <td>4.677618</td>\n",
       "      <td>4.615670</td>\n",
       "      <td>4.570409</td>\n",
       "      <td>4.527705</td>\n",
       "      <td>4.482898</td>\n",
       "      <td>4.416900</td>\n",
       "      <td>4.354709</td>\n",
       "      <td>NaN</td>\n",
       "    </tr>\n",
       "    <tr>\n",
       "      <th>2</th>\n",
       "      <td>Afghanistan</td>\n",
       "      <td>AFG</td>\n",
       "      <td>Fertility rate, total (births per woman)</td>\n",
       "      <td>SP.DYN.TFRT.IN</td>\n",
       "      <td>7.282000</td>\n",
       "      <td>7.284000</td>\n",
       "      <td>7.292000</td>\n",
       "      <td>7.302000</td>\n",
       "      <td>7.304000</td>\n",
       "      <td>7.305000</td>\n",
       "      <td>...</td>\n",
       "      <td>5.69600</td>\n",
       "      <td>5.560000</td>\n",
       "      <td>5.405000</td>\n",
       "      <td>5.262000</td>\n",
       "      <td>5.129000</td>\n",
       "      <td>5.002000</td>\n",
       "      <td>4.870000</td>\n",
       "      <td>4.750000</td>\n",
       "      <td>4.643000</td>\n",
       "      <td>NaN</td>\n",
       "    </tr>\n",
       "    <tr>\n",
       "      <th>3</th>\n",
       "      <td>Africa Western and Central</td>\n",
       "      <td>AFW</td>\n",
       "      <td>Fertility rate, total (births per woman)</td>\n",
       "      <td>SP.DYN.TFRT.IN</td>\n",
       "      <td>6.458448</td>\n",
       "      <td>6.471518</td>\n",
       "      <td>6.491826</td>\n",
       "      <td>6.506088</td>\n",
       "      <td>6.525355</td>\n",
       "      <td>6.541102</td>\n",
       "      <td>...</td>\n",
       "      <td>5.50635</td>\n",
       "      <td>5.437493</td>\n",
       "      <td>5.385059</td>\n",
       "      <td>5.328709</td>\n",
       "      <td>5.255345</td>\n",
       "      <td>5.186319</td>\n",
       "      <td>5.118932</td>\n",
       "      <td>5.049329</td>\n",
       "      <td>4.978662</td>\n",
       "      <td>NaN</td>\n",
       "    </tr>\n",
       "    <tr>\n",
       "      <th>4</th>\n",
       "      <td>Angola</td>\n",
       "      <td>AGO</td>\n",
       "      <td>Fertility rate, total (births per woman)</td>\n",
       "      <td>SP.DYN.TFRT.IN</td>\n",
       "      <td>6.708000</td>\n",
       "      <td>6.790000</td>\n",
       "      <td>6.872000</td>\n",
       "      <td>6.954000</td>\n",
       "      <td>7.036000</td>\n",
       "      <td>7.116000</td>\n",
       "      <td>...</td>\n",
       "      <td>5.95300</td>\n",
       "      <td>5.864000</td>\n",
       "      <td>5.774000</td>\n",
       "      <td>5.686000</td>\n",
       "      <td>5.600000</td>\n",
       "      <td>5.519000</td>\n",
       "      <td>5.442000</td>\n",
       "      <td>5.371000</td>\n",
       "      <td>5.304000</td>\n",
       "      <td>NaN</td>\n",
       "    </tr>\n",
       "  </tbody>\n",
       "</table>\n",
       "<p>5 rows × 67 columns</p>\n",
       "</div>"
      ],
      "text/plain": [
       "                  Country Name Country Code  \\\n",
       "0                        Aruba          ABW   \n",
       "1  Africa Eastern and Southern          AFE   \n",
       "2                  Afghanistan          AFG   \n",
       "3   Africa Western and Central          AFW   \n",
       "4                       Angola          AGO   \n",
       "\n",
       "                             Indicator Name  Indicator Code      1960  \\\n",
       "0  Fertility rate, total (births per woman)  SP.DYN.TFRT.IN  4.820000   \n",
       "1  Fertility rate, total (births per woman)  SP.DYN.TFRT.IN  6.724125   \n",
       "2  Fertility rate, total (births per woman)  SP.DYN.TFRT.IN  7.282000   \n",
       "3  Fertility rate, total (births per woman)  SP.DYN.TFRT.IN  6.458448   \n",
       "4  Fertility rate, total (births per woman)  SP.DYN.TFRT.IN  6.708000   \n",
       "\n",
       "       1961      1962      1963      1964      1965  ...     2013      2014  \\\n",
       "0  4.655000  4.471000  4.271000  4.059000  3.842000  ...  2.11700  2.148000   \n",
       "1  6.742752  6.762930  6.778712  6.788420  6.800322  ...  4.80882  4.739861   \n",
       "2  7.284000  7.292000  7.302000  7.304000  7.305000  ...  5.69600  5.560000   \n",
       "3  6.471518  6.491826  6.506088  6.525355  6.541102  ...  5.50635  5.437493   \n",
       "4  6.790000  6.872000  6.954000  7.036000  7.116000  ...  5.95300  5.864000   \n",
       "\n",
       "       2015      2016      2017      2018      2019      2020      2021  2022  \n",
       "0  1.972000  1.953000  1.839000  1.587000  1.486000  1.325000  1.180000   NaN  \n",
       "1  4.677618  4.615670  4.570409  4.527705  4.482898  4.416900  4.354709   NaN  \n",
       "2  5.405000  5.262000  5.129000  5.002000  4.870000  4.750000  4.643000   NaN  \n",
       "3  5.385059  5.328709  5.255345  5.186319  5.118932  5.049329  4.978662   NaN  \n",
       "4  5.774000  5.686000  5.600000  5.519000  5.442000  5.371000  5.304000   NaN  \n",
       "\n",
       "[5 rows x 67 columns]"
      ]
     },
     "execution_count": 16,
     "metadata": {},
     "output_type": "execute_result"
    }
   ],
   "source": [
    "df2.head()"
   ]
  },
  {
   "cell_type": "markdown",
   "id": "eb99146b",
   "metadata": {},
   "source": [
    "<font size=\"6\">**Q2.GDP最大和最小國家的生育率差異?**</font>"
   ]
  },
  {
   "cell_type": "code",
   "execution_count": 21,
   "id": "221bb848",
   "metadata": {
    "scrolled": true
   },
   "outputs": [
    {
     "name": "stdout",
     "output_type": "stream",
     "text": [
      "Max GDP Country: Qatar\n",
      "Min GDP Country: Burundi\n"
     ]
    }
   ],
   "source": [
    "# 删除不需要的列\n",
    "columns_to_drop = ['Country Code', 'Indicator Name', 'Indicator Code']\n",
    "df1 = df1.drop(columns=columns_to_drop)\n",
    "\n",
    "# 计算每个国家从 1960 年到 2022 年 GDP 的平均值\n",
    "df1['Average GDP'] = df1.mean(axis=1, skipna=True)\n",
    "\n",
    "# 找到平均 GDP 最大和最小的国家名称\n",
    "max_gdp_country = df1[df1['Average GDP'] == df1['Average GDP'].max()]['Country Name'].values[0]\n",
    "min_gdp_country = df1[df1['Average GDP'] == df1['Average GDP'].min()]['Country Name'].values[0]\n",
    "\n",
    "print(f'Max GDP Country: {max_gdp_country}')\n",
    "print(f'Min GDP Country: {min_gdp_country}')\n"
   ]
  },
  {
   "cell_type": "code",
   "execution_count": 22,
   "id": "57927132",
   "metadata": {
    "scrolled": true
   },
   "outputs": [
    {
     "data": {
      "image/png": "[encoded data removed]",
      "text/plain": [
       "<Figure size 864x432 with 1 Axes>"
      ]
     },
     "metadata": {
      "needs_background": "light"
     },
     "output_type": "display_data"
    }
   ],
   "source": [
    "df2 = df2.drop(columns=columns_to_drop)\n",
    "\n",
    "# 选择平均 GDP 最大和最小的国家的数据\n",
    "max_gdp_data = df2[df2['Country Name'] == max_gdp_country].iloc[0, 1:]\n",
    "min_gdp_data = df2[df2['Country Name'] == min_gdp_country].iloc[0, 1:]\n",
    "\n",
    "# 转置数据以使年份成为行而不是列\n",
    "max_gdp_data = max_gdp_data.transpose()\n",
    "min_gdp_data = min_gdp_data.transpose()\n",
    "\n",
    "# 创建一个新的 DataFrame 包含年份和生育率数据\n",
    "df_fertility = pd.DataFrame({'Year': max_gdp_data.index, \n",
    "                             f'Max GDP Country ({max_gdp_country})': max_gdp_data.values,\n",
    "                             f'Min GDP Country ({min_gdp_country})': min_gdp_data.values})\n",
    "\n",
    "# 将 'Year' 列转换为整数\n",
    "df_fertility['Year'] = df_fertility['Year'].astype(int)\n",
    "\n",
    "# 绘制生育率趋势折线图\n",
    "plt.figure(figsize=(12, 6))\n",
    "sns.lineplot(data=df_fertility, x='Year', y=f'Max GDP Country ({max_gdp_country})', label=f'Max GDP Country ({max_gdp_country})')\n",
    "sns.lineplot(data=df_fertility, x='Year', y=f'Min GDP Country ({min_gdp_country})', label=f'Min GDP Country ({min_gdp_country})')\n",
    "plt.title(f'Fertility Rate Trends for {max_gdp_country} and {min_gdp_country}')\n",
    "plt.xlabel('Year')\n",
    "plt.ylabel('Fertility Rate')\n",
    "plt.xticks(rotation=45)\n",
    "plt.legend()\n",
    "plt.show()\n"
   ]
  },
  {
   "cell_type": "markdown",
   "id": "4546363d",
   "metadata": {},
   "source": [
    "結果顯示，兩個國家的生育率皆逐年下降，但Qatar下降趨勢更大"
   ]
  },
  {
   "cell_type": "markdown",
   "id": "fa2f37ee",
   "metadata": {},
   "source": [
    "<font size=\"6\">**Q3.在2022年不同GDP國家的生育率、憂鬱症關係?**<font size>"
   ]
  },
  {
   "cell_type": "code",
   "execution_count": 37,
   "id": "87bec75f",
   "metadata": {},
   "outputs": [
    {
     "data": {
      "text/html": [
       "<div>\n",
       "<style scoped>\n",
       "    .dataframe tbody tr th:only-of-type {\n",
       "        vertical-align: middle;\n",
       "    }\n",
       "\n",
       "    .dataframe tbody tr th {\n",
       "        vertical-align: top;\n",
       "    }\n",
       "\n",
       "    .dataframe thead th {\n",
       "        text-align: right;\n",
       "    }\n",
       "</style>\n",
       "<table border=\"1\" class=\"dataframe\">\n",
       "  <thead>\n",
       "    <tr style=\"text-align: right;\">\n",
       "      <th></th>\n",
       "      <th>Country Name</th>\n",
       "      <th>1960</th>\n",
       "      <th>1961</th>\n",
       "      <th>1962</th>\n",
       "      <th>1963</th>\n",
       "      <th>1964</th>\n",
       "      <th>1965</th>\n",
       "      <th>1966</th>\n",
       "      <th>1967</th>\n",
       "      <th>1968</th>\n",
       "      <th>...</th>\n",
       "      <th>2013</th>\n",
       "      <th>2014</th>\n",
       "      <th>2015</th>\n",
       "      <th>2016</th>\n",
       "      <th>2017</th>\n",
       "      <th>2018</th>\n",
       "      <th>2019</th>\n",
       "      <th>2020</th>\n",
       "      <th>2021</th>\n",
       "      <th>2022</th>\n",
       "    </tr>\n",
       "  </thead>\n",
       "  <tbody>\n",
       "    <tr>\n",
       "      <th>0</th>\n",
       "      <td>Aruba</td>\n",
       "      <td>NaN</td>\n",
       "      <td>NaN</td>\n",
       "      <td>NaN</td>\n",
       "      <td>NaN</td>\n",
       "      <td>NaN</td>\n",
       "      <td>NaN</td>\n",
       "      <td>NaN</td>\n",
       "      <td>NaN</td>\n",
       "      <td>NaN</td>\n",
       "      <td>...</td>\n",
       "      <td>36932.184160</td>\n",
       "      <td>36846.848290</td>\n",
       "      <td>37343.912960</td>\n",
       "      <td>37583.840320</td>\n",
       "      <td>38865.188200</td>\n",
       "      <td>41685.363320</td>\n",
       "      <td>42510.065590</td>\n",
       "      <td>35012.391470</td>\n",
       "      <td>42887.374910</td>\n",
       "      <td>NaN</td>\n",
       "    </tr>\n",
       "    <tr>\n",
       "      <th>1</th>\n",
       "      <td>Africa Eastern and Southern</td>\n",
       "      <td>NaN</td>\n",
       "      <td>NaN</td>\n",
       "      <td>NaN</td>\n",
       "      <td>NaN</td>\n",
       "      <td>NaN</td>\n",
       "      <td>NaN</td>\n",
       "      <td>NaN</td>\n",
       "      <td>NaN</td>\n",
       "      <td>NaN</td>\n",
       "      <td>...</td>\n",
       "      <td>3334.654696</td>\n",
       "      <td>3471.665125</td>\n",
       "      <td>3498.864893</td>\n",
       "      <td>3592.092621</td>\n",
       "      <td>3635.259642</td>\n",
       "      <td>3724.994882</td>\n",
       "      <td>3778.210236</td>\n",
       "      <td>3624.820674</td>\n",
       "      <td>3858.004651</td>\n",
       "      <td>4169.019532</td>\n",
       "    </tr>\n",
       "    <tr>\n",
       "      <th>2</th>\n",
       "      <td>Afghanistan</td>\n",
       "      <td>NaN</td>\n",
       "      <td>NaN</td>\n",
       "      <td>NaN</td>\n",
       "      <td>NaN</td>\n",
       "      <td>NaN</td>\n",
       "      <td>NaN</td>\n",
       "      <td>NaN</td>\n",
       "      <td>NaN</td>\n",
       "      <td>NaN</td>\n",
       "      <td>...</td>\n",
       "      <td>2062.059176</td>\n",
       "      <td>2110.829568</td>\n",
       "      <td>2128.125938</td>\n",
       "      <td>2023.834656</td>\n",
       "      <td>2096.093111</td>\n",
       "      <td>2110.239384</td>\n",
       "      <td>2168.133765</td>\n",
       "      <td>2078.595086</td>\n",
       "      <td>1673.964059</td>\n",
       "      <td>NaN</td>\n",
       "    </tr>\n",
       "    <tr>\n",
       "      <th>3</th>\n",
       "      <td>Africa Western and Central</td>\n",
       "      <td>NaN</td>\n",
       "      <td>NaN</td>\n",
       "      <td>NaN</td>\n",
       "      <td>NaN</td>\n",
       "      <td>NaN</td>\n",
       "      <td>NaN</td>\n",
       "      <td>NaN</td>\n",
       "      <td>NaN</td>\n",
       "      <td>NaN</td>\n",
       "      <td>...</td>\n",
       "      <td>3952.023188</td>\n",
       "      <td>4144.259662</td>\n",
       "      <td>4077.321424</td>\n",
       "      <td>4003.756559</td>\n",
       "      <td>4051.271199</td>\n",
       "      <td>4161.782756</td>\n",
       "      <td>4267.050522</td>\n",
       "      <td>4179.632366</td>\n",
       "      <td>4429.952133</td>\n",
       "      <td>4798.434519</td>\n",
       "    </tr>\n",
       "    <tr>\n",
       "      <th>4</th>\n",
       "      <td>Angola</td>\n",
       "      <td>NaN</td>\n",
       "      <td>NaN</td>\n",
       "      <td>NaN</td>\n",
       "      <td>NaN</td>\n",
       "      <td>NaN</td>\n",
       "      <td>NaN</td>\n",
       "      <td>NaN</td>\n",
       "      <td>NaN</td>\n",
       "      <td>NaN</td>\n",
       "      <td>...</td>\n",
       "      <td>7643.921944</td>\n",
       "      <td>8123.048065</td>\n",
       "      <td>7274.090475</td>\n",
       "      <td>7027.146634</td>\n",
       "      <td>7216.061373</td>\n",
       "      <td>7043.955360</td>\n",
       "      <td>6882.279123</td>\n",
       "      <td>6367.437317</td>\n",
       "      <td>6523.463613</td>\n",
       "      <td>6973.696299</td>\n",
       "    </tr>\n",
       "  </tbody>\n",
       "</table>\n",
       "<p>5 rows × 64 columns</p>\n",
       "</div>"
      ],
      "text/plain": [
       "                  Country Name  1960  1961  1962  1963  1964  1965  1966  \\\n",
       "0                        Aruba   NaN   NaN   NaN   NaN   NaN   NaN   NaN   \n",
       "1  Africa Eastern and Southern   NaN   NaN   NaN   NaN   NaN   NaN   NaN   \n",
       "2                  Afghanistan   NaN   NaN   NaN   NaN   NaN   NaN   NaN   \n",
       "3   Africa Western and Central   NaN   NaN   NaN   NaN   NaN   NaN   NaN   \n",
       "4                       Angola   NaN   NaN   NaN   NaN   NaN   NaN   NaN   \n",
       "\n",
       "   1967  1968  ...          2013          2014          2015          2016  \\\n",
       "0   NaN   NaN  ...  36932.184160  36846.848290  37343.912960  37583.840320   \n",
       "1   NaN   NaN  ...   3334.654696   3471.665125   3498.864893   3592.092621   \n",
       "2   NaN   NaN  ...   2062.059176   2110.829568   2128.125938   2023.834656   \n",
       "3   NaN   NaN  ...   3952.023188   4144.259662   4077.321424   4003.756559   \n",
       "4   NaN   NaN  ...   7643.921944   8123.048065   7274.090475   7027.146634   \n",
       "\n",
       "           2017          2018          2019          2020          2021  \\\n",
       "0  38865.188200  41685.363320  42510.065590  35012.391470  42887.374910   \n",
       "1   3635.259642   3724.994882   3778.210236   3624.820674   3858.004651   \n",
       "2   2096.093111   2110.239384   2168.133765   2078.595086   1673.964059   \n",
       "3   4051.271199   4161.782756   4267.050522   4179.632366   4429.952133   \n",
       "4   7216.061373   7043.955360   6882.279123   6367.437317   6523.463613   \n",
       "\n",
       "          2022  \n",
       "0          NaN  \n",
       "1  4169.019532  \n",
       "2          NaN  \n",
       "3  4798.434519  \n",
       "4  6973.696299  \n",
       "\n",
       "[5 rows x 64 columns]"
      ]
     },
     "execution_count": 37,
     "metadata": {},
     "output_type": "execute_result"
    }
   ],
   "source": [
    "# 删除不需要的列\n",
    "columns_to_drop = ['Country Code', 'Indicator Name', 'Indicator Code']\n",
    "df1 = df1.drop(columns=columns_to_drop)\n",
    "df1.head()"
   ]
  },
  {
   "cell_type": "code",
   "execution_count": 40,
   "id": "813a856f",
   "metadata": {
    "scrolled": true
   },
   "outputs": [
    {
     "data": {
      "text/html": [
       "<div>\n",
       "<style scoped>\n",
       "    .dataframe tbody tr th:only-of-type {\n",
       "        vertical-align: middle;\n",
       "    }\n",
       "\n",
       "    .dataframe tbody tr th {\n",
       "        vertical-align: top;\n",
       "    }\n",
       "\n",
       "    .dataframe thead th {\n",
       "        text-align: right;\n",
       "    }\n",
       "</style>\n",
       "<table border=\"1\" class=\"dataframe\">\n",
       "  <thead>\n",
       "    <tr style=\"text-align: right;\">\n",
       "      <th></th>\n",
       "      <th>Country Name</th>\n",
       "      <th>1960</th>\n",
       "      <th>1961</th>\n",
       "      <th>1962</th>\n",
       "      <th>1963</th>\n",
       "      <th>1964</th>\n",
       "      <th>1965</th>\n",
       "      <th>1966</th>\n",
       "      <th>1967</th>\n",
       "      <th>1968</th>\n",
       "      <th>...</th>\n",
       "      <th>2013</th>\n",
       "      <th>2014</th>\n",
       "      <th>2015</th>\n",
       "      <th>2016</th>\n",
       "      <th>2017</th>\n",
       "      <th>2018</th>\n",
       "      <th>2019</th>\n",
       "      <th>2020</th>\n",
       "      <th>2021</th>\n",
       "      <th>2022</th>\n",
       "    </tr>\n",
       "  </thead>\n",
       "  <tbody>\n",
       "    <tr>\n",
       "      <th>0</th>\n",
       "      <td>Aruba</td>\n",
       "      <td>4.820000</td>\n",
       "      <td>4.655000</td>\n",
       "      <td>4.471000</td>\n",
       "      <td>4.271000</td>\n",
       "      <td>4.059000</td>\n",
       "      <td>3.842000</td>\n",
       "      <td>3.625000</td>\n",
       "      <td>3.417000</td>\n",
       "      <td>3.226000</td>\n",
       "      <td>...</td>\n",
       "      <td>2.11700</td>\n",
       "      <td>2.148000</td>\n",
       "      <td>1.972000</td>\n",
       "      <td>1.953000</td>\n",
       "      <td>1.839000</td>\n",
       "      <td>1.587000</td>\n",
       "      <td>1.486000</td>\n",
       "      <td>1.325000</td>\n",
       "      <td>1.180000</td>\n",
       "      <td>NaN</td>\n",
       "    </tr>\n",
       "    <tr>\n",
       "      <th>1</th>\n",
       "      <td>Africa Eastern and Southern</td>\n",
       "      <td>6.724125</td>\n",
       "      <td>6.742752</td>\n",
       "      <td>6.762930</td>\n",
       "      <td>6.778712</td>\n",
       "      <td>6.788420</td>\n",
       "      <td>6.800322</td>\n",
       "      <td>6.810571</td>\n",
       "      <td>6.818612</td>\n",
       "      <td>6.828560</td>\n",
       "      <td>...</td>\n",
       "      <td>4.80882</td>\n",
       "      <td>4.739861</td>\n",
       "      <td>4.677618</td>\n",
       "      <td>4.615670</td>\n",
       "      <td>4.570409</td>\n",
       "      <td>4.527705</td>\n",
       "      <td>4.482898</td>\n",
       "      <td>4.416900</td>\n",
       "      <td>4.354709</td>\n",
       "      <td>NaN</td>\n",
       "    </tr>\n",
       "    <tr>\n",
       "      <th>2</th>\n",
       "      <td>Afghanistan</td>\n",
       "      <td>7.282000</td>\n",
       "      <td>7.284000</td>\n",
       "      <td>7.292000</td>\n",
       "      <td>7.302000</td>\n",
       "      <td>7.304000</td>\n",
       "      <td>7.305000</td>\n",
       "      <td>7.320000</td>\n",
       "      <td>7.339000</td>\n",
       "      <td>7.363000</td>\n",
       "      <td>...</td>\n",
       "      <td>5.69600</td>\n",
       "      <td>5.560000</td>\n",
       "      <td>5.405000</td>\n",
       "      <td>5.262000</td>\n",
       "      <td>5.129000</td>\n",
       "      <td>5.002000</td>\n",
       "      <td>4.870000</td>\n",
       "      <td>4.750000</td>\n",
       "      <td>4.643000</td>\n",
       "      <td>NaN</td>\n",
       "    </tr>\n",
       "    <tr>\n",
       "      <th>3</th>\n",
       "      <td>Africa Western and Central</td>\n",
       "      <td>6.458448</td>\n",
       "      <td>6.471518</td>\n",
       "      <td>6.491826</td>\n",
       "      <td>6.506088</td>\n",
       "      <td>6.525355</td>\n",
       "      <td>6.541102</td>\n",
       "      <td>6.564967</td>\n",
       "      <td>6.589806</td>\n",
       "      <td>6.612775</td>\n",
       "      <td>...</td>\n",
       "      <td>5.50635</td>\n",
       "      <td>5.437493</td>\n",
       "      <td>5.385059</td>\n",
       "      <td>5.328709</td>\n",
       "      <td>5.255345</td>\n",
       "      <td>5.186319</td>\n",
       "      <td>5.118932</td>\n",
       "      <td>5.049329</td>\n",
       "      <td>4.978662</td>\n",
       "      <td>NaN</td>\n",
       "    </tr>\n",
       "    <tr>\n",
       "      <th>4</th>\n",
       "      <td>Angola</td>\n",
       "      <td>6.708000</td>\n",
       "      <td>6.790000</td>\n",
       "      <td>6.872000</td>\n",
       "      <td>6.954000</td>\n",
       "      <td>7.036000</td>\n",
       "      <td>7.116000</td>\n",
       "      <td>7.194000</td>\n",
       "      <td>7.267000</td>\n",
       "      <td>7.332000</td>\n",
       "      <td>...</td>\n",
       "      <td>5.95300</td>\n",
       "      <td>5.864000</td>\n",
       "      <td>5.774000</td>\n",
       "      <td>5.686000</td>\n",
       "      <td>5.600000</td>\n",
       "      <td>5.519000</td>\n",
       "      <td>5.442000</td>\n",
       "      <td>5.371000</td>\n",
       "      <td>5.304000</td>\n",
       "      <td>NaN</td>\n",
       "    </tr>\n",
       "  </tbody>\n",
       "</table>\n",
       "<p>5 rows × 64 columns</p>\n",
       "</div>"
      ],
      "text/plain": [
       "                  Country Name      1960      1961      1962      1963  \\\n",
       "0                        Aruba  4.820000  4.655000  4.471000  4.271000   \n",
       "1  Africa Eastern and Southern  6.724125  6.742752  6.762930  6.778712   \n",
       "2                  Afghanistan  7.282000  7.284000  7.292000  7.302000   \n",
       "3   Africa Western and Central  6.458448  6.471518  6.491826  6.506088   \n",
       "4                       Angola  6.708000  6.790000  6.872000  6.954000   \n",
       "\n",
       "       1964      1965      1966      1967      1968  ...     2013      2014  \\\n",
       "0  4.059000  3.842000  3.625000  3.417000  3.226000  ...  2.11700  2.148000   \n",
       "1  6.788420  6.800322  6.810571  6.818612  6.828560  ...  4.80882  4.739861   \n",
       "2  7.304000  7.305000  7.320000  7.339000  7.363000  ...  5.69600  5.560000   \n",
       "3  6.525355  6.541102  6.564967  6.589806  6.612775  ...  5.50635  5.437493   \n",
       "4  7.036000  7.116000  7.194000  7.267000  7.332000  ...  5.95300  5.864000   \n",
       "\n",
       "       2015      2016      2017      2018      2019      2020      2021  2022  \n",
       "0  1.972000  1.953000  1.839000  1.587000  1.486000  1.325000  1.180000   NaN  \n",
       "1  4.677618  4.615670  4.570409  4.527705  4.482898  4.416900  4.354709   NaN  \n",
       "2  5.405000  5.262000  5.129000  5.002000  4.870000  4.750000  4.643000   NaN  \n",
       "3  5.385059  5.328709  5.255345  5.186319  5.118932  5.049329  4.978662   NaN  \n",
       "4  5.774000  5.686000  5.600000  5.519000  5.442000  5.371000  5.304000   NaN  \n",
       "\n",
       "[5 rows x 64 columns]"
      ]
     },
     "execution_count": 40,
     "metadata": {},
     "output_type": "execute_result"
    }
   ],
   "source": [
    "# columns_to_drop = ['Country Code', 'Indicator Name', 'Indicator Code']\n",
    "# df2 = df2.drop(columns=columns_to_drop)\n",
    "df2.head()"
   ]
  },
  {
   "cell_type": "code",
   "execution_count": 48,
   "id": "2940aeaa",
   "metadata": {},
   "outputs": [
    {
     "name": "stdout",
     "output_type": "stream",
     "text": [
      "                  Country Name  Year  GDP\n",
      "0                        Aruba  1960  NaN\n",
      "1  Africa Eastern and Southern  1960  NaN\n",
      "2                  Afghanistan  1960  NaN\n",
      "3   Africa Western and Central  1960  NaN\n",
      "4                       Angola  1960  NaN\n",
      "                  Country Name  Year  Fertility Rate\n",
      "0                        Aruba  1960        4.820000\n",
      "1  Africa Eastern and Southern  1960        6.724125\n",
      "2                  Afghanistan  1960        7.282000\n",
      "3   Africa Western and Central  1960        6.458448\n",
      "4                       Angola  1960        6.708000\n"
     ]
    }
   ],
   "source": [
    "# 使用melt函數將1960到2022年的欄位轉換為Year欄位下的資料\n",
    "df1_melted = pd.melt(df1, id_vars=['Country Name'], var_name='Year', value_name='GDP')\n",
    "df2_melted = pd.melt(df2, id_vars=['Country Name'], var_name='Year', value_name='Fertility Rate')\n",
    "\n",
    "# 打印轉換後的數據框\n",
    "print(df1_melted.head())\n",
    "print(df2_melted.head())\n"
   ]
  },
  {
   "cell_type": "code",
   "execution_count": 85,
   "id": "e8c794a8",
   "metadata": {
    "scrolled": true
   },
   "outputs": [
    {
     "data": {
      "application/vnd.plotly.v1+json": {
       "config": {
        "plotlyServerURL": "https://plot.ly"
       },
       "data": [
        {
         "hovertemplate": "Country Name=Aruba<br>GDP=%{x}<br>Fertility Rate=%{y}<br>Bubble Size=%{marker.size}<extra></extra>",
         "legendgroup": "Aruba",
         "marker": {
          "color": "#636efa",
          "size": [
           0,
           0
          ],
          "sizemode": "area",
          "sizeref": 0.0155840875,
          "symbol": "circle"
         },
         "mode": "markers",
         "name": "Aruba",
         "orientation": "v",
         "showlegend": true,
         "type": "scatter",
         "x": [
          38865.1882,
          38865.1882
         ],
         "xaxis": "x",
         "y": [
          1.839,
          1.839
         ],
         "yaxis": "y"
        },
        {
         "hovertemplate": "Country Name=Afghanistan<br>GDP=%{x}<br>Fertility Rate=%{y}<br>Bubble Size=%{marker.size}<extra></extra>",
         "legendgroup": "Afghanistan",
         "marker": {
          "color": "#EF553B",
          "size": [
           4.136347,
           0,
           0,
           0
          ],
          "sizemode": "area",
          "sizeref": 0.0155840875,
          "symbol": "circle"
         },
         "mode": "markers",
         "name": "Afghanistan",
         "orientation": "v",
         "showlegend": true,
         "type": "scatter",
         "x": [
          2096.093111,
          2096.093111,
          2096.093111,
          2096.093111
         ],
         "xaxis": "x",
         "y": [
          5.129,
          5.129,
          5.129,
          5.129
         ],
         "yaxis": "y"
        },
        {
         "hovertemplate": "Country Name=Angola<br>GDP=%{x}<br>Fertility Rate=%{y}<br>Bubble Size=%{marker.size}<extra></extra>",
         "legendgroup": "Angola",
         "marker": {
          "color": "#00cc96",
          "size": [
           4.160483999999999,
           0,
           0,
           0
          ],
          "sizemode": "area",
          "sizeref": 0.0155840875,
          "symbol": "circle"
         },
         "mode": "markers",
         "name": "Angola",
         "orientation": "v",
         "showlegend": true,
         "type": "scatter",
         "x": [
          7216.0613730000005,
          7216.0613730000005,
          7216.0613730000005,
          7216.0613730000005
         ],
         "xaxis": "x",
         "y": [
          5.6,
          5.6,
          5.6,
          5.6
         ],
         "yaxis": "y"
        },
        {
         "hovertemplate": "Country Name=Albania<br>GDP=%{x}<br>Fertility Rate=%{y}<br>Bubble Size=%{marker.size}<extra></extra>",
         "legendgroup": "Albania",
         "marker": {
          "color": "#ab63fa",
          "size": [
           2.208414,
           0,
           0,
           0
          ],
          "sizemode": "area",
          "sizeref": 0.0155840875,
          "symbol": "circle"
         },
         "mode": "markers",
         "name": "Albania",
         "orientation": "v",
         "showlegend": true,
         "type": "scatter",
         "x": [
          12770.99186,
          12770.99186,
          12770.99186,
          12770.99186
         ],
         "xaxis": "x",
         "y": [
          1.4909999999999999,
          1.4909999999999999,
          1.4909999999999999,
          1.4909999999999999
         ],
         "yaxis": "y"
        },
        {
         "hovertemplate": "Country Name=Andorra<br>GDP=%{x}<br>Fertility Rate=%{y}<br>Bubble Size=%{marker.size}<extra></extra>",
         "legendgroup": "Andorra",
         "marker": {
          "color": "#FFA15A",
          "size": [
           3.729532,
           0,
           0,
           0
          ],
          "sizemode": "area",
          "sizeref": 0.0155840875,
          "symbol": "circle"
         },
         "mode": "markers",
         "name": "Andorra",
         "orientation": "v",
         "showlegend": true,
         "type": "scatter",
         "x": [
          0,
          0,
          0,
          0
         ],
         "xaxis": "x",
         "y": [
          0,
          0,
          0,
          0
         ],
         "yaxis": "y"
        },
        {
         "hovertemplate": "Country Name=United Arab Emirates<br>GDP=%{x}<br>Fertility Rate=%{y}<br>Bubble Size=%{marker.size}<extra></extra>",
         "legendgroup": "United Arab Emirates",
         "marker": {
          "color": "#19d3f3",
          "size": [
           2.877426,
           0,
           0,
           0
          ],
          "sizemode": "area",
          "sizeref": 0.0155840875,
          "symbol": "circle"
         },
         "mode": "markers",
         "name": "United Arab Emirates",
         "orientation": "v",
         "showlegend": true,
         "type": "scatter",
         "x": [
          71182.37072,
          71182.37072,
          71182.37072,
          71182.37072
         ],
         "xaxis": "x",
         "y": [
          1.419,
          1.419,
          1.419,
          1.419
         ],
         "yaxis": "y"
        },
        {
         "hovertemplate": "Country Name=Argentina<br>GDP=%{x}<br>Fertility Rate=%{y}<br>Bubble Size=%{marker.size}<extra></extra>",
         "legendgroup": "Argentina",
         "marker": {
          "color": "#FF6692",
          "size": [
           3.665488,
           0,
           0,
           0
          ],
          "sizemode": "area",
          "sizeref": 0.0155840875,
          "symbol": "circle"
         },
         "mode": "markers",
         "name": "Argentina",
         "orientation": "v",
         "showlegend": true,
         "type": "scatter",
         "x": [
          23597.11775,
          23597.11775,
          23597.11775,
          23597.11775
         ],
         "xaxis": "x",
         "y": [
          2.168,
          2.168,
          2.168,
          2.168
         ],
         "yaxis": "y"
        },
        {
         "hovertemplate": "Country Name=Armenia<br>GDP=%{x}<br>Fertility Rate=%{y}<br>Bubble Size=%{marker.size}<extra></extra>",
         "legendgroup": "Armenia",
         "marker": {
          "color": "#B6E880",
          "size": [
           2.7545830000000002,
           0,
           0,
           0
          ],
          "sizemode": "area",
          "sizeref": 0.0155840875,
          "symbol": "circle"
         },
         "mode": "markers",
         "name": "Armenia",
         "orientation": "v",
         "showlegend": true,
         "type": "scatter",
         "x": [
          12509.63961,
          12509.63961,
          12509.63961,
          12509.63961
         ],
         "xaxis": "x",
         "y": [
          1.5619999999999998,
          1.5619999999999998,
          1.5619999999999998,
          1.5619999999999998
         ],
         "yaxis": "y"
        },
        {
         "hovertemplate": "Country Name=American Samoa<br>GDP=%{x}<br>Fertility Rate=%{y}<br>Bubble Size=%{marker.size}<extra></extra>",
         "legendgroup": "American Samoa",
         "marker": {
          "color": "#FF97FF",
          "size": [
           2.939668,
           0,
           0,
           0
          ],
          "sizemode": "area",
          "sizeref": 0.0155840875,
          "symbol": "circle"
         },
         "mode": "markers",
         "name": "American Samoa",
         "orientation": "v",
         "showlegend": true,
         "type": "scatter",
         "x": [
          0,
          0,
          0,
          0
         ],
         "xaxis": "x",
         "y": [
          0,
          0,
          0,
          0
         ],
         "yaxis": "y"
        },
        {
         "hovertemplate": "Country Name=Antigua and Barbuda<br>GDP=%{x}<br>Fertility Rate=%{y}<br>Bubble Size=%{marker.size}<extra></extra>",
         "legendgroup": "Antigua and Barbuda",
         "marker": {
          "color": "#FECB52",
          "size": [
           2.557963,
           0,
           0,
           0
          ],
          "sizemode": "area",
          "sizeref": 0.0155840875,
          "symbol": "circle"
         },
         "mode": "markers",
         "name": "Antigua and Barbuda",
         "orientation": "v",
         "showlegend": true,
         "type": "scatter",
         "x": [
          20777.5595,
          20777.5595,
          20777.5595,
          20777.5595
         ],
         "xaxis": "x",
         "y": [
          1.485,
          1.485,
          1.485,
          1.485
         ],
         "yaxis": "y"
        },
        {
         "hovertemplate": "Country Name=Australia<br>GDP=%{x}<br>Fertility Rate=%{y}<br>Bubble Size=%{marker.size}<extra></extra>",
         "legendgroup": "Australia",
         "marker": {
          "color": "#636efa",
          "size": [
           4.623881,
           0,
           0,
           0
          ],
          "sizemode": "area",
          "sizeref": 0.0155840875,
          "symbol": "circle"
         },
         "mode": "markers",
         "name": "Australia",
         "orientation": "v",
         "showlegend": true,
         "type": "scatter",
         "x": [
          48400.24579,
          48400.24579,
          48400.24579,
          48400.24579
         ],
         "xaxis": "x",
         "y": [
          1.7409999999999999,
          1.7409999999999999,
          1.7409999999999999,
          1.7409999999999999
         ],
         "yaxis": "y"
        },
        {
         "hovertemplate": "Country Name=Austria<br>GDP=%{x}<br>Fertility Rate=%{y}<br>Bubble Size=%{marker.size}<extra></extra>",
         "legendgroup": "Austria",
         "marker": {
          "color": "#EF553B",
          "size": [
           3.26097,
           0,
           0,
           0
          ],
          "sizemode": "area",
          "sizeref": 0.0155840875,
          "symbol": "circle"
         },
         "mode": "markers",
         "name": "Austria",
         "orientation": "v",
         "showlegend": true,
         "type": "scatter",
         "x": [
          54172.986789999995,
          54172.986789999995,
          54172.986789999995,
          54172.986789999995
         ],
         "xaxis": "x",
         "y": [
          1.52,
          1.52,
          1.52,
          1.52
         ],
         "yaxis": "y"
        },
        {
         "hovertemplate": "Country Name=Azerbaijan<br>GDP=%{x}<br>Fertility Rate=%{y}<br>Bubble Size=%{marker.size}<extra></extra>",
         "legendgroup": "Azerbaijan",
         "marker": {
          "color": "#00cc96",
          "size": [
           2.592293,
           0,
           0,
           0
          ],
          "sizemode": "area",
          "sizeref": 0.0155840875,
          "symbol": "circle"
         },
         "mode": "markers",
         "name": "Azerbaijan",
         "orientation": "v",
         "showlegend": true,
         "type": "scatter",
         "x": [
          14121.40694,
          14121.40694,
          14121.40694,
          14121.40694
         ],
         "xaxis": "x",
         "y": [
          1.75,
          1.75,
          1.75,
          1.75
         ],
         "yaxis": "y"
        },
        {
         "hovertemplate": "Country Name=Burundi<br>GDP=%{x}<br>Fertility Rate=%{y}<br>Bubble Size=%{marker.size}<extra></extra>",
         "legendgroup": "Burundi",
         "marker": {
          "color": "#ab63fa",
          "size": [
           3.721228,
           0,
           0,
           0
          ],
          "sizemode": "area",
          "sizeref": 0.0155840875,
          "symbol": "circle"
         },
         "mode": "markers",
         "name": "Burundi",
         "orientation": "v",
         "showlegend": true,
         "type": "scatter",
         "x": [
          750.7876163,
          750.7876163,
          750.7876163,
          750.7876163
         ],
         "xaxis": "x",
         "y": [
          5.481,
          5.481,
          5.481,
          5.481
         ],
         "yaxis": "y"
        },
        {
         "hovertemplate": "Country Name=Belgium<br>GDP=%{x}<br>Fertility Rate=%{y}<br>Bubble Size=%{marker.size}<extra></extra>",
         "legendgroup": "Belgium",
         "marker": {
          "color": "#FFA15A",
          "size": [
           4.109186,
           0,
           0,
           0
          ],
          "sizemode": "area",
          "sizeref": 0.0155840875,
          "symbol": "circle"
         },
         "mode": "markers",
         "name": "Belgium",
         "orientation": "v",
         "showlegend": true,
         "type": "scatter",
         "x": [
          50442.27054,
          50442.27054,
          50442.27054,
          50442.27054
         ],
         "xaxis": "x",
         "y": [
          1.65,
          1.65,
          1.65,
          1.65
         ],
         "yaxis": "y"
        },
        {
         "hovertemplate": "Country Name=Benin<br>GDP=%{x}<br>Fertility Rate=%{y}<br>Bubble Size=%{marker.size}<extra></extra>",
         "legendgroup": "Benin",
         "marker": {
          "color": "#19d3f3",
          "size": [
           3.629899,
           0,
           0,
           0
          ],
          "sizemode": "area",
          "sizeref": 0.0155840875,
          "symbol": "circle"
         },
         "mode": "markers",
         "name": "Benin",
         "orientation": "v",
         "showlegend": true,
         "type": "scatter",
         "x": [
          2933.837384,
          2933.837384,
          2933.837384,
          2933.837384
         ],
         "xaxis": "x",
         "y": [
          5.269,
          5.269,
          5.269,
          5.269
         ],
         "yaxis": "y"
        },
        {
         "hovertemplate": "Country Name=Burkina Faso<br>GDP=%{x}<br>Fertility Rate=%{y}<br>Bubble Size=%{marker.size}<extra></extra>",
         "legendgroup": "Burkina Faso",
         "marker": {
          "color": "#FF6692",
          "size": [
           3.694254,
           0,
           0,
           0
          ],
          "sizemode": "area",
          "sizeref": 0.0155840875,
          "symbol": "circle"
         },
         "mode": "markers",
         "name": "Burkina Faso",
         "orientation": "v",
         "showlegend": true,
         "type": "scatter",
         "x": [
          1978.1550120000002,
          1978.1550120000002,
          1978.1550120000002,
          1978.1550120000002
         ],
         "xaxis": "x",
         "y": [
          5.162000000000001,
          5.162000000000001,
          5.162000000000001,
          5.162000000000001
         ],
         "yaxis": "y"
        },
        {
         "hovertemplate": "Country Name=Bangladesh<br>GDP=%{x}<br>Fertility Rate=%{y}<br>Bubble Size=%{marker.size}<extra></extra>",
         "legendgroup": "Bangladesh",
         "marker": {
          "color": "#B6E880",
          "size": [
           4.1106110000000005,
           0,
           0,
           0
          ],
          "sizemode": "area",
          "sizeref": 0.0155840875,
          "symbol": "circle"
         },
         "mode": "markers",
         "name": "Bangladesh",
         "orientation": "v",
         "showlegend": true,
         "type": "scatter",
         "x": [
          4830.776083,
          4830.776083,
          4830.776083,
          4830.776083
         ],
         "xaxis": "x",
         "y": [
          2.043,
          2.043,
          2.043,
          2.043
         ],
         "yaxis": "y"
        },
        {
         "hovertemplate": "Country Name=Bulgaria<br>GDP=%{x}<br>Fertility Rate=%{y}<br>Bubble Size=%{marker.size}<extra></extra>",
         "legendgroup": "Bulgaria",
         "marker": {
          "color": "#FF97FF",
          "size": [
           2.543141,
           0,
           0,
           0
          ],
          "sizemode": "area",
          "sizeref": 0.0155840875,
          "symbol": "circle"
         },
         "mode": "markers",
         "name": "Bulgaria",
         "orientation": "v",
         "showlegend": true,
         "type": "scatter",
         "x": [
          21469.97089,
          21469.97089,
          21469.97089,
          21469.97089
         ],
         "xaxis": "x",
         "y": [
          1.56,
          1.56,
          1.56,
          1.56
         ],
         "yaxis": "y"
        },
        {
         "hovertemplate": "Country Name=Bahrain<br>GDP=%{x}<br>Fertility Rate=%{y}<br>Bubble Size=%{marker.size}<extra></extra>",
         "legendgroup": "Bahrain",
         "marker": {
          "color": "#FECB52",
          "size": [
           3.8791050000000005,
           0,
           0,
           0
          ],
          "sizemode": "area",
          "sizeref": 0.0155840875,
          "symbol": "circle"
         },
         "mode": "markers",
         "name": "Bahrain",
         "orientation": "v",
         "showlegend": true,
         "type": "scatter",
         "x": [
          48929.44701,
          48929.44701,
          48929.44701,
          48929.44701
         ],
         "xaxis": "x",
         "y": [
          2.006,
          2.006,
          2.006,
          2.006
         ],
         "yaxis": "y"
        },
        {
         "hovertemplate": "Country Name=Bosnia and Herzegovina<br>GDP=%{x}<br>Fertility Rate=%{y}<br>Bubble Size=%{marker.size}<extra></extra>",
         "legendgroup": "Bosnia and Herzegovina",
         "marker": {
          "color": "#636efa",
          "size": [
           2.31961,
           0,
           0,
           0
          ],
          "sizemode": "area",
          "sizeref": 0.0155840875,
          "symbol": "circle"
         },
         "mode": "markers",
         "name": "Bosnia and Herzegovina",
         "orientation": "v",
         "showlegend": true,
         "type": "scatter",
         "x": [
          13582.18475,
          13582.18475,
          13582.18475,
          13582.18475
         ],
         "xaxis": "x",
         "y": [
          1.355,
          1.355,
          1.355,
          1.355
         ],
         "yaxis": "y"
        },
        {
         "hovertemplate": "Country Name=Belarus<br>GDP=%{x}<br>Fertility Rate=%{y}<br>Bubble Size=%{marker.size}<extra></extra>",
         "legendgroup": "Belarus",
         "marker": {
          "color": "#EF553B",
          "size": [
           4.022226,
           0,
           0,
           0
          ],
          "sizemode": "area",
          "sizeref": 0.0155840875,
          "symbol": "circle"
         },
         "mode": "markers",
         "name": "Belarus",
         "orientation": "v",
         "showlegend": true,
         "type": "scatter",
         "x": [
          18356.06606,
          18356.06606,
          18356.06606,
          18356.06606
         ],
         "xaxis": "x",
         "y": [
          1.541,
          1.541,
          1.541,
          1.541
         ],
         "yaxis": "y"
        },
        {
         "hovertemplate": "Country Name=Belize<br>GDP=%{x}<br>Fertility Rate=%{y}<br>Bubble Size=%{marker.size}<extra></extra>",
         "legendgroup": "Belize",
         "marker": {
          "color": "#00cc96",
          "size": [
           2.8386669999999996,
           0,
           0,
           0
          ],
          "sizemode": "area",
          "sizeref": 0.0155840875,
          "symbol": "circle"
         },
         "mode": "markers",
         "name": "Belize",
         "orientation": "v",
         "showlegend": true,
         "type": "scatter",
         "x": [
          8873.754025,
          8873.754025,
          8873.754025,
          8873.754025
         ],
         "xaxis": "x",
         "y": [
          2.36,
          2.36,
          2.36,
          2.36
         ],
         "yaxis": "y"
        },
        {
         "hovertemplate": "Country Name=Bermuda<br>GDP=%{x}<br>Fertility Rate=%{y}<br>Bubble Size=%{marker.size}<extra></extra>",
         "legendgroup": "Bermuda",
         "marker": {
          "color": "#ab63fa",
          "size": [
           2.826293,
           0,
           0,
           0
          ],
          "sizemode": "area",
          "sizeref": 0.0155840875,
          "symbol": "circle"
         },
         "mode": "markers",
         "name": "Bermuda",
         "orientation": "v",
         "showlegend": true,
         "type": "scatter",
         "x": [
          81834.95587,
          81834.95587,
          81834.95587,
          81834.95587
         ],
         "xaxis": "x",
         "y": [
          1.4,
          1.4,
          1.4,
          1.4
         ],
         "yaxis": "y"
        },
        {
         "hovertemplate": "Country Name=Bolivia<br>GDP=%{x}<br>Fertility Rate=%{y}<br>Bubble Size=%{marker.size}<extra></extra>",
         "legendgroup": "Bolivia",
         "marker": {
          "color": "#FFA15A",
          "size": [
           3.085905,
           0,
           0,
           0
          ],
          "sizemode": "area",
          "sizeref": 0.0155840875,
          "symbol": "circle"
         },
         "mode": "markers",
         "name": "Bolivia",
         "orientation": "v",
         "showlegend": true,
         "type": "scatter",
         "x": [
          8244.933446,
          8244.933446,
          8244.933446,
          8244.933446
         ],
         "xaxis": "x",
         "y": [
          2.7769999999999997,
          2.7769999999999997,
          2.7769999999999997,
          2.7769999999999997
         ],
         "yaxis": "y"
        },
        {
         "hovertemplate": "Country Name=Brazil<br>GDP=%{x}<br>Fertility Rate=%{y}<br>Bubble Size=%{marker.size}<extra></extra>",
         "legendgroup": "Brazil",
         "marker": {
          "color": "#19d3f3",
          "size": [
           3.297368,
           0,
           0,
           0
          ],
          "sizemode": "area",
          "sizeref": 0.0155840875,
          "symbol": "circle"
         },
         "mode": "markers",
         "name": "Brazil",
         "orientation": "v",
         "showlegend": true,
         "type": "scatter",
         "x": [
          14477.86177,
          14477.86177,
          14477.86177,
          14477.86177
         ],
         "xaxis": "x",
         "y": [
          1.736,
          1.736,
          1.736,
          1.736
         ],
         "yaxis": "y"
        },
        {
         "hovertemplate": "Country Name=Barbados<br>GDP=%{x}<br>Fertility Rate=%{y}<br>Bubble Size=%{marker.size}<extra></extra>",
         "legendgroup": "Barbados",
         "marker": {
          "color": "#FF6692",
          "size": [
           2.763322,
           0,
           0,
           0
          ],
          "sizemode": "area",
          "sizeref": 0.0155840875,
          "symbol": "circle"
         },
         "mode": "markers",
         "name": "Barbados",
         "orientation": "v",
         "showlegend": true,
         "type": "scatter",
         "x": [
          16198.96216,
          16198.96216,
          16198.96216,
          16198.96216
         ],
         "xaxis": "x",
         "y": [
          1.615,
          1.615,
          1.615,
          1.615
         ],
         "yaxis": "y"
        },
        {
         "hovertemplate": "Country Name=Bhutan<br>GDP=%{x}<br>Fertility Rate=%{y}<br>Bubble Size=%{marker.size}<extra></extra>",
         "legendgroup": "Bhutan",
         "marker": {
          "color": "#B6E880",
          "size": [
           3.4393339999999997,
           0,
           0,
           0
          ],
          "sizemode": "area",
          "sizeref": 0.0155840875,
          "symbol": "circle"
         },
         "mode": "markers",
         "name": "Bhutan",
         "orientation": "v",
         "showlegend": true,
         "type": "scatter",
         "x": [
          10986.888140000001,
          10986.888140000001,
          10986.888140000001,
          10986.888140000001
         ],
         "xaxis": "x",
         "y": [
          1.704,
          1.704,
          1.704,
          1.704
         ],
         "yaxis": "y"
        },
        {
         "hovertemplate": "Country Name=Botswana<br>GDP=%{x}<br>Fertility Rate=%{y}<br>Bubble Size=%{marker.size}<extra></extra>",
         "legendgroup": "Botswana",
         "marker": {
          "color": "#FF97FF",
          "size": [
           3.9681290000000002,
           0,
           0,
           0
          ],
          "sizemode": "area",
          "sizeref": 0.0155840875,
          "symbol": "circle"
         },
         "mode": "markers",
         "name": "Botswana",
         "orientation": "v",
         "showlegend": true,
         "type": "scatter",
         "x": [
          14656.772990000001,
          14656.772990000001,
          14656.772990000001,
          14656.772990000001
         ],
         "xaxis": "x",
         "y": [
          2.91,
          2.91,
          2.91,
          2.91
         ],
         "yaxis": "y"
        },
        {
         "hovertemplate": "Country Name=Central African Republic<br>GDP=%{x}<br>Fertility Rate=%{y}<br>Bubble Size=%{marker.size}<extra></extra>",
         "legendgroup": "Central African Republic",
         "marker": {
          "color": "#FECB52",
          "size": [
           4.211728,
           0,
           0,
           0
          ],
          "sizemode": "area",
          "sizeref": 0.0155840875,
          "symbol": "circle"
         },
         "mode": "markers",
         "name": "Central African Republic",
         "orientation": "v",
         "showlegend": true,
         "type": "scatter",
         "x": [
          839.6000095,
          839.6000095,
          839.6000095,
          839.6000095
         ],
         "xaxis": "x",
         "y": [
          6.047999999999999,
          6.047999999999999,
          6.047999999999999,
          6.047999999999999
         ],
         "yaxis": "y"
        },
        {
         "hovertemplate": "Country Name=Canada<br>GDP=%{x}<br>Fertility Rate=%{y}<br>Bubble Size=%{marker.size}<extra></extra>",
         "legendgroup": "Canada",
         "marker": {
          "color": "#636efa",
          "size": [
           3.9887919999999997,
           0,
           0,
           0
          ],
          "sizemode": "area",
          "sizeref": 0.0155840875,
          "symbol": "circle"
         },
         "mode": "markers",
         "name": "Canada",
         "orientation": "v",
         "showlegend": true,
         "type": "scatter",
         "x": [
          48317.17458,
          48317.17458,
          48317.17458,
          48317.17458
         ],
         "xaxis": "x",
         "y": [
          1.55,
          1.55,
          1.55,
          1.55
         ],
         "yaxis": "y"
        },
        {
         "hovertemplate": "Country Name=Switzerland<br>GDP=%{x}<br>Fertility Rate=%{y}<br>Bubble Size=%{marker.size}<extra></extra>",
         "legendgroup": "Switzerland",
         "marker": {
          "color": "#EF553B",
          "size": [
           3.7080599999999997,
           0,
           0,
           0
          ],
          "sizemode": "area",
          "sizeref": 0.0155840875,
          "symbol": "circle"
         },
         "mode": "markers",
         "name": "Switzerland",
         "orientation": "v",
         "showlegend": true,
         "type": "scatter",
         "x": [
          68193.50549,
          68193.50549,
          68193.50549,
          68193.50549
         ],
         "xaxis": "x",
         "y": [
          1.52,
          1.52,
          1.52,
          1.52
         ],
         "yaxis": "y"
        },
        {
         "hovertemplate": "Country Name=Channel Islands<br>GDP=%{x}<br>Fertility Rate=%{y}<br>Bubble Size=%{marker.size}<extra></extra>",
         "legendgroup": "Channel Islands",
         "marker": {
          "color": "#00cc96",
          "size": [
           0,
           0
          ],
          "sizemode": "area",
          "sizeref": 0.0155840875,
          "symbol": "circle"
         },
         "mode": "markers",
         "name": "Channel Islands",
         "orientation": "v",
         "showlegend": true,
         "type": "scatter",
         "x": [
          0,
          0
         ],
         "xaxis": "x",
         "y": [
          1.466,
          1.466
         ],
         "yaxis": "y"
        },
        {
         "hovertemplate": "Country Name=Chile<br>GDP=%{x}<br>Fertility Rate=%{y}<br>Bubble Size=%{marker.size}<extra></extra>",
         "legendgroup": "Chile",
         "marker": {
          "color": "#ab63fa",
          "size": [
           4.057723,
           0,
           0,
           0
          ],
          "sizemode": "area",
          "sizeref": 0.0155840875,
          "symbol": "circle"
         },
         "mode": "markers",
         "name": "Chile",
         "orientation": "v",
         "showlegend": true,
         "type": "scatter",
         "x": [
          24546.91242,
          24546.91242,
          24546.91242,
          24546.91242
         ],
         "xaxis": "x",
         "y": [
          1.598,
          1.598,
          1.598,
          1.598
         ],
         "yaxis": "y"
        },
        {
         "hovertemplate": "Country Name=China<br>GDP=%{x}<br>Fertility Rate=%{y}<br>Bubble Size=%{marker.size}<extra></extra>",
         "legendgroup": "China",
         "marker": {
          "color": "#FFA15A",
          "size": [
           3.3113059999999996,
           0,
           0,
           0
          ],
          "sizemode": "area",
          "sizeref": 0.0155840875,
          "symbol": "circle"
         },
         "mode": "markers",
         "name": "China",
         "orientation": "v",
         "showlegend": true,
         "type": "scatter",
         "x": [
          14243.53261,
          14243.53261,
          14243.53261,
          14243.53261
         ],
         "xaxis": "x",
         "y": [
          1.8130000000000002,
          1.8130000000000002,
          1.8130000000000002,
          1.8130000000000002
         ],
         "yaxis": "y"
        },
        {
         "hovertemplate": "Country Name=Cote d'Ivoire<br>GDP=%{x}<br>Fertility Rate=%{y}<br>Bubble Size=%{marker.size}<extra></extra>",
         "legendgroup": "Cote d'Ivoire",
         "marker": {
          "color": "#19d3f3",
          "size": [
           3.337989,
           0,
           0,
           0
          ],
          "sizemode": "area",
          "sizeref": 0.0155840875,
          "symbol": "circle"
         },
         "mode": "markers",
         "name": "Cote d'Ivoire",
         "orientation": "v",
         "showlegend": true,
         "type": "scatter",
         "x": [
          4836.048367,
          4836.048367,
          4836.048367,
          4836.048367
         ],
         "xaxis": "x",
         "y": [
          4.742,
          4.742,
          4.742,
          4.742
         ],
         "yaxis": "y"
        },
        {
         "hovertemplate": "Country Name=Cameroon<br>GDP=%{x}<br>Fertility Rate=%{y}<br>Bubble Size=%{marker.size}<extra></extra>",
         "legendgroup": "Cameroon",
         "marker": {
          "color": "#FF6692",
          "size": [
           3.745647,
           0,
           0,
           0
          ],
          "sizemode": "area",
          "sizeref": 0.0155840875,
          "symbol": "circle"
         },
         "mode": "markers",
         "name": "Cameroon",
         "orientation": "v",
         "showlegend": true,
         "type": "scatter",
         "x": [
          3691.094724,
          3691.094724,
          3691.094724,
          3691.094724
         ],
         "xaxis": "x",
         "y": [
          4.774,
          4.774,
          4.774,
          4.774
         ],
         "yaxis": "y"
        },
        {
         "hovertemplate": "Country Name=Colombia<br>GDP=%{x}<br>Fertility Rate=%{y}<br>Bubble Size=%{marker.size}<extra></extra>",
         "legendgroup": "Colombia",
         "marker": {
          "color": "#B6E880",
          "size": [
           2.196154,
           0,
           0,
           0
          ],
          "sizemode": "area",
          "sizeref": 0.0155840875,
          "symbol": "circle"
         },
         "mode": "markers",
         "name": "Colombia",
         "orientation": "v",
         "showlegend": true,
         "type": "scatter",
         "x": [
          14334.91461,
          14334.91461,
          14334.91461,
          14334.91461
         ],
         "xaxis": "x",
         "y": [
          1.818,
          1.818,
          1.818,
          1.818
         ],
         "yaxis": "y"
        },
        {
         "hovertemplate": "Country Name=Comoros<br>GDP=%{x}<br>Fertility Rate=%{y}<br>Bubble Size=%{marker.size}<extra></extra>",
         "legendgroup": "Comoros",
         "marker": {
          "color": "#FF97FF",
          "size": [
           3.330114,
           0,
           0,
           0
          ],
          "sizemode": "area",
          "sizeref": 0.0155840875,
          "symbol": "circle"
         },
         "mode": "markers",
         "name": "Comoros",
         "orientation": "v",
         "showlegend": true,
         "type": "scatter",
         "x": [
          3240.17917,
          3240.17917,
          3240.17917,
          3240.17917
         ],
         "xaxis": "x",
         "y": [
          4.2780000000000005,
          4.2780000000000005,
          4.2780000000000005,
          4.2780000000000005
         ],
         "yaxis": "y"
        },
        {
         "hovertemplate": "Country Name=Costa Rica<br>GDP=%{x}<br>Fertility Rate=%{y}<br>Bubble Size=%{marker.size}<extra></extra>",
         "legendgroup": "Costa Rica",
         "marker": {
          "color": "#FECB52",
          "size": [
           2.904788,
           0,
           0,
           0
          ],
          "sizemode": "area",
          "sizeref": 0.0155840875,
          "symbol": "circle"
         },
         "mode": "markers",
         "name": "Costa Rica",
         "orientation": "v",
         "showlegend": true,
         "type": "scatter",
         "x": [
          20168.22048,
          20168.22048,
          20168.22048,
          20168.22048
         ],
         "xaxis": "x",
         "y": [
          1.74,
          1.74,
          1.74,
          1.74
         ],
         "yaxis": "y"
        },
        {
         "hovertemplate": "Country Name=Cuba<br>GDP=%{x}<br>Fertility Rate=%{y}<br>Bubble Size=%{marker.size}<extra></extra>",
         "legendgroup": "Cuba",
         "marker": {
          "color": "#636efa",
          "size": [
           3.3191309999999996,
           0,
           0,
           0
          ],
          "sizemode": "area",
          "sizeref": 0.0155840875,
          "symbol": "circle"
         },
         "mode": "markers",
         "name": "Cuba",
         "orientation": "v",
         "showlegend": true,
         "type": "scatter",
         "x": [
          0,
          0,
          0,
          0
         ],
         "xaxis": "x",
         "y": [
          1.5930000000000002,
          1.5930000000000002,
          1.5930000000000002,
          1.5930000000000002
         ],
         "yaxis": "y"
        },
        {
         "hovertemplate": "Country Name=Curacao<br>GDP=%{x}<br>Fertility Rate=%{y}<br>Bubble Size=%{marker.size}<extra></extra>",
         "legendgroup": "Curacao",
         "marker": {
          "color": "#EF553B",
          "size": [
           0,
           0
          ],
          "sizemode": "area",
          "sizeref": 0.0155840875,
          "symbol": "circle"
         },
         "mode": "markers",
         "name": "Curacao",
         "orientation": "v",
         "showlegend": true,
         "type": "scatter",
         "x": [
          24599.937830000003,
          24599.937830000003
         ],
         "xaxis": "x",
         "y": [
          1.5,
          1.5
         ],
         "yaxis": "y"
        },
        {
         "hovertemplate": "Country Name=Cayman Islands<br>GDP=%{x}<br>Fertility Rate=%{y}<br>Bubble Size=%{marker.size}<extra></extra>",
         "legendgroup": "Cayman Islands",
         "marker": {
          "color": "#00cc96",
          "size": [
           0,
           0
          ],
          "sizemode": "area",
          "sizeref": 0.0155840875,
          "symbol": "circle"
         },
         "mode": "markers",
         "name": "Cayman Islands",
         "orientation": "v",
         "showlegend": true,
         "type": "scatter",
         "x": [
          69534.77175,
          69534.77175
         ],
         "xaxis": "x",
         "y": [
          0,
          0
         ],
         "yaxis": "y"
        },
        {
         "hovertemplate": "Country Name=Cyprus<br>GDP=%{x}<br>Fertility Rate=%{y}<br>Bubble Size=%{marker.size}<extra></extra>",
         "legendgroup": "Cyprus",
         "marker": {
          "color": "#ab63fa",
          "size": [
           3.3281110000000003,
           0,
           0,
           0
          ],
          "sizemode": "area",
          "sizeref": 0.0155840875,
          "symbol": "circle"
         },
         "mode": "markers",
         "name": "Cyprus",
         "orientation": "v",
         "showlegend": true,
         "type": "scatter",
         "x": [
          38415.10938,
          38415.10938,
          38415.10938,
          38415.10938
         ],
         "xaxis": "x",
         "y": [
          1.3219999999999998,
          1.3219999999999998,
          1.3219999999999998,
          1.3219999999999998
         ],
         "yaxis": "y"
        },
        {
         "hovertemplate": "Country Name=Germany<br>GDP=%{x}<br>Fertility Rate=%{y}<br>Bubble Size=%{marker.size}<extra></extra>",
         "legendgroup": "Germany",
         "marker": {
          "color": "#FFA15A",
          "size": [
           3.9598660000000003,
           0,
           0,
           0
          ],
          "sizemode": "area",
          "sizeref": 0.0155840875,
          "symbol": "circle"
         },
         "mode": "markers",
         "name": "Germany",
         "orientation": "v",
         "showlegend": true,
         "type": "scatter",
         "x": [
          53071.45557,
          53071.45557,
          53071.45557,
          53071.45557
         ],
         "xaxis": "x",
         "y": [
          1.57,
          1.57,
          1.57,
          1.57
         ],
         "yaxis": "y"
        },
        {
         "hovertemplate": "Country Name=Djibouti<br>GDP=%{x}<br>Fertility Rate=%{y}<br>Bubble Size=%{marker.size}<extra></extra>",
         "legendgroup": "Djibouti",
         "marker": {
          "color": "#19d3f3",
          "size": [
           3.60901,
           0,
           0,
           0
          ],
          "sizemode": "area",
          "sizeref": 0.0155840875,
          "symbol": "circle"
         },
         "mode": "markers",
         "name": "Djibouti",
         "orientation": "v",
         "showlegend": true,
         "type": "scatter",
         "x": [
          4451.683846,
          4451.683846,
          4451.683846,
          4451.683846
         ],
         "xaxis": "x",
         "y": [
          2.972,
          2.972,
          2.972,
          2.972
         ],
         "yaxis": "y"
        },
        {
         "hovertemplate": "Country Name=Dominica<br>GDP=%{x}<br>Fertility Rate=%{y}<br>Bubble Size=%{marker.size}<extra></extra>",
         "legendgroup": "Dominica",
         "marker": {
          "color": "#FF6692",
          "size": [
           2.629649,
           0,
           0,
           0
          ],
          "sizemode": "area",
          "sizeref": 0.0155840875,
          "symbol": "circle"
         },
         "mode": "markers",
         "name": "Dominica",
         "orientation": "v",
         "showlegend": true,
         "type": "scatter",
         "x": [
          11511.60642,
          11511.60642,
          11511.60642,
          11511.60642
         ],
         "xaxis": "x",
         "y": [
          1.629,
          1.629,
          1.629,
          1.629
         ],
         "yaxis": "y"
        },
        {
         "hovertemplate": "Country Name=Denmark<br>GDP=%{x}<br>Fertility Rate=%{y}<br>Bubble Size=%{marker.size}<extra></extra>",
         "legendgroup": "Denmark",
         "marker": {
          "color": "#B6E880",
          "size": [
           3.2918849999999997,
           0,
           0,
           0
          ],
          "sizemode": "area",
          "sizeref": 0.0155840875,
          "symbol": "circle"
         },
         "mode": "markers",
         "name": "Denmark",
         "orientation": "v",
         "showlegend": true,
         "type": "scatter",
         "x": [
          55356.680779999995,
          55356.680779999995,
          55356.680779999995,
          55356.680779999995
         ],
         "xaxis": "x",
         "y": [
          1.75,
          1.75,
          1.75,
          1.75
         ],
         "yaxis": "y"
        },
        {
         "hovertemplate": "Country Name=Dominican Republic<br>GDP=%{x}<br>Fertility Rate=%{y}<br>Bubble Size=%{marker.size}<extra></extra>",
         "legendgroup": "Dominican Republic",
         "marker": {
          "color": "#FF97FF",
          "size": [
           2.978523,
           0,
           0,
           0
          ],
          "sizemode": "area",
          "sizeref": 0.0155840875,
          "symbol": "circle"
         },
         "mode": "markers",
         "name": "Dominican Republic",
         "orientation": "v",
         "showlegend": true,
         "type": "scatter",
         "x": [
          16524.53384,
          16524.53384,
          16524.53384,
          16524.53384
         ],
         "xaxis": "x",
         "y": [
          2.39,
          2.39,
          2.39,
          2.39
         ],
         "yaxis": "y"
        },
        {
         "hovertemplate": "Country Name=Algeria<br>GDP=%{x}<br>Fertility Rate=%{y}<br>Bubble Size=%{marker.size}<extra></extra>",
         "legendgroup": "Algeria",
         "marker": {
          "color": "#FECB52",
          "size": [
           3.6610940000000003,
           0,
           0,
           0
          ],
          "sizemode": "area",
          "sizeref": 0.0155840875,
          "symbol": "circle"
         },
         "mode": "markers",
         "name": "Algeria",
         "orientation": "v",
         "showlegend": true,
         "type": "scatter",
         "x": [
          11809.48303,
          11809.48303,
          11809.48303,
          11809.48303
         ],
         "xaxis": "x",
         "y": [
          3.05,
          3.05,
          3.05,
          3.05
         ],
         "yaxis": "y"
        },
        {
         "hovertemplate": "Country Name=Ecuador<br>GDP=%{x}<br>Fertility Rate=%{y}<br>Bubble Size=%{marker.size}<extra></extra>",
         "legendgroup": "Ecuador",
         "marker": {
          "color": "#636efa",
          "size": [
           2.977117,
           0,
           0,
           0
          ],
          "sizemode": "area",
          "sizeref": 0.0155840875,
          "symbol": "circle"
         },
         "mode": "markers",
         "name": "Ecuador",
         "orientation": "v",
         "showlegend": true,
         "type": "scatter",
         "x": [
          11679.43023,
          11679.43023,
          11679.43023,
          11679.43023
         ],
         "xaxis": "x",
         "y": [
          2.174,
          2.174,
          2.174,
          2.174
         ],
         "yaxis": "y"
        },
        {
         "hovertemplate": "Country Name=Eritrea<br>GDP=%{x}<br>Fertility Rate=%{y}<br>Bubble Size=%{marker.size}<extra></extra>",
         "legendgroup": "Eritrea",
         "marker": {
          "color": "#EF553B",
          "size": [
           3.867377,
           0,
           0,
           0
          ],
          "sizemode": "area",
          "sizeref": 0.0155840875,
          "symbol": "circle"
         },
         "mode": "markers",
         "name": "Eritrea",
         "orientation": "v",
         "showlegend": true,
         "type": "scatter",
         "x": [
          0,
          0,
          0,
          0
         ],
         "xaxis": "x",
         "y": [
          4.112,
          4.112,
          4.112,
          4.112
         ],
         "yaxis": "y"
        },
        {
         "hovertemplate": "Country Name=Spain<br>GDP=%{x}<br>Fertility Rate=%{y}<br>Bubble Size=%{marker.size}<extra></extra>",
         "legendgroup": "Spain",
         "marker": {
          "color": "#00cc96",
          "size": [
           3.538359,
           0,
           0,
           0
          ],
          "sizemode": "area",
          "sizeref": 0.0155840875,
          "symbol": "circle"
         },
         "mode": "markers",
         "name": "Spain",
         "orientation": "v",
         "showlegend": true,
         "type": "scatter",
         "x": [
          39550.189080000004,
          39550.189080000004,
          39550.189080000004,
          39550.189080000004
         ],
         "xaxis": "x",
         "y": [
          1.31,
          1.31,
          1.31,
          1.31
         ],
         "yaxis": "y"
        },
        {
         "hovertemplate": "Country Name=Estonia<br>GDP=%{x}<br>Fertility Rate=%{y}<br>Bubble Size=%{marker.size}<extra></extra>",
         "legendgroup": "Estonia",
         "marker": {
          "color": "#ab63fa",
          "size": [
           3.848854,
           0,
           0,
           0
          ],
          "sizemode": "area",
          "sizeref": 0.0155840875,
          "symbol": "circle"
         },
         "mode": "markers",
         "name": "Estonia",
         "orientation": "v",
         "showlegend": true,
         "type": "scatter",
         "x": [
          33821.93291,
          33821.93291,
          33821.93291,
          33821.93291
         ],
         "xaxis": "x",
         "y": [
          1.59,
          1.59,
          1.59,
          1.59
         ],
         "yaxis": "y"
        },
        {
         "hovertemplate": "Country Name=Ethiopia<br>GDP=%{x}<br>Fertility Rate=%{y}<br>Bubble Size=%{marker.size}<extra></extra>",
         "legendgroup": "Ethiopia",
         "marker": {
          "color": "#FFA15A",
          "size": [
           3.816266,
           0,
           0,
           0
          ],
          "sizemode": "area",
          "sizeref": 0.0155840875,
          "symbol": "circle"
         },
         "mode": "markers",
         "name": "Ethiopia",
         "orientation": "v",
         "showlegend": true,
         "type": "scatter",
         "x": [
          1987.968754,
          1987.968754,
          1987.968754,
          1987.968754
         ],
         "xaxis": "x",
         "y": [
          4.39,
          4.39,
          4.39,
          4.39
         ],
         "yaxis": "y"
        },
        {
         "hovertemplate": "Country Name=Finland<br>GDP=%{x}<br>Fertility Rate=%{y}<br>Bubble Size=%{marker.size}<extra></extra>",
         "legendgroup": "Finland",
         "marker": {
          "color": "#19d3f3",
          "size": [
           4.792736,
           0,
           0,
           0
          ],
          "sizemode": "area",
          "sizeref": 0.0155840875,
          "symbol": "circle"
         },
         "mode": "markers",
         "name": "Finland",
         "orientation": "v",
         "showlegend": true,
         "type": "scatter",
         "x": [
          47570.13358,
          47570.13358,
          47570.13358,
          47570.13358
         ],
         "xaxis": "x",
         "y": [
          1.49,
          1.49,
          1.49,
          1.49
         ],
         "yaxis": "y"
        },
        {
         "hovertemplate": "Country Name=Fiji<br>GDP=%{x}<br>Fertility Rate=%{y}<br>Bubble Size=%{marker.size}<extra></extra>",
         "legendgroup": "Fiji",
         "marker": {
          "color": "#FF6692",
          "size": [
           3.171898,
           0,
           0,
           0
          ],
          "sizemode": "area",
          "sizeref": 0.0155840875,
          "symbol": "circle"
         },
         "mode": "markers",
         "name": "Fiji",
         "orientation": "v",
         "showlegend": true,
         "type": "scatter",
         "x": [
          12822.01361,
          12822.01361,
          12822.01361,
          12822.01361
         ],
         "xaxis": "x",
         "y": [
          2.557,
          2.557,
          2.557,
          2.557
         ],
         "yaxis": "y"
        },
        {
         "hovertemplate": "Country Name=France<br>GDP=%{x}<br>Fertility Rate=%{y}<br>Bubble Size=%{marker.size}<extra></extra>",
         "legendgroup": "France",
         "marker": {
          "color": "#B6E880",
          "size": [
           4.253807,
           0,
           0,
           0
          ],
          "sizemode": "area",
          "sizeref": 0.0155840875,
          "symbol": "circle"
         },
         "mode": "markers",
         "name": "France",
         "orientation": "v",
         "showlegend": true,
         "type": "scatter",
         "x": [
          44577.06457,
          44577.06457,
          44577.06457,
          44577.06457
         ],
         "xaxis": "x",
         "y": [
          1.89,
          1.89,
          1.89,
          1.89
         ],
         "yaxis": "y"
        },
        {
         "hovertemplate": "Country Name=Gabon<br>GDP=%{x}<br>Fertility Rate=%{y}<br>Bubble Size=%{marker.size}<extra></extra>",
         "legendgroup": "Gabon",
         "marker": {
          "color": "#FF97FF",
          "size": [
           4.049029,
           0,
           0,
           0
          ],
          "sizemode": "area",
          "sizeref": 0.0155840875,
          "symbol": "circle"
         },
         "mode": "markers",
         "name": "Gabon",
         "orientation": "v",
         "showlegend": true,
         "type": "scatter",
         "x": [
          14478.130309999999,
          14478.130309999999,
          14478.130309999999,
          14478.130309999999
         ],
         "xaxis": "x",
         "y": [
          3.752,
          3.752,
          3.752,
          3.752
         ],
         "yaxis": "y"
        },
        {
         "hovertemplate": "Country Name=United Kingdom<br>GDP=%{x}<br>Fertility Rate=%{y}<br>Bubble Size=%{marker.size}<extra></extra>",
         "legendgroup": "United Kingdom",
         "marker": {
          "color": "#FECB52",
          "size": [
           4.119524,
           0,
           0,
           0
          ],
          "sizemode": "area",
          "sizeref": 0.0155840875,
          "symbol": "circle"
         },
         "mode": "markers",
         "name": "United Kingdom",
         "orientation": "v",
         "showlegend": true,
         "type": "scatter",
         "x": [
          46104.0554,
          46104.0554,
          46104.0554,
          46104.0554
         ],
         "xaxis": "x",
         "y": [
          1.74,
          1.74,
          1.74,
          1.74
         ],
         "yaxis": "y"
        },
        {
         "hovertemplate": "Country Name=Georgia<br>GDP=%{x}<br>Fertility Rate=%{y}<br>Bubble Size=%{marker.size}<extra></extra>",
         "legendgroup": "Georgia",
         "marker": {
          "color": "#636efa",
          "size": [
           2.7973790000000003,
           0,
           0,
           0
          ],
          "sizemode": "area",
          "sizeref": 0.0155840875,
          "symbol": "circle"
         },
         "mode": "markers",
         "name": "Georgia",
         "orientation": "v",
         "showlegend": true,
         "type": "scatter",
         "x": [
          13589.707390000001,
          13589.707390000001,
          13589.707390000001,
          13589.707390000001
         ],
         "xaxis": "x",
         "y": [
          2.144,
          2.144,
          2.144,
          2.144
         ],
         "yaxis": "y"
        },
        {
         "hovertemplate": "Country Name=Ghana<br>GDP=%{x}<br>Fertility Rate=%{y}<br>Bubble Size=%{marker.size}<extra></extra>",
         "legendgroup": "Ghana",
         "marker": {
          "color": "#EF553B",
          "size": [
           3.396647,
           0,
           0,
           0
          ],
          "sizemode": "area",
          "sizeref": 0.0155840875,
          "symbol": "circle"
         },
         "mode": "markers",
         "name": "Ghana",
         "orientation": "v",
         "showlegend": true,
         "type": "scatter",
         "x": [
          4929.567954,
          4929.567954,
          4929.567954,
          4929.567954
         ],
         "xaxis": "x",
         "y": [
          3.713,
          3.713,
          3.713,
          3.713
         ],
         "yaxis": "y"
        },
        {
         "hovertemplate": "Country Name=Gibraltar<br>GDP=%{x}<br>Fertility Rate=%{y}<br>Bubble Size=%{marker.size}<extra></extra>",
         "legendgroup": "Gibraltar",
         "marker": {
          "color": "#00cc96",
          "size": [
           0,
           0
          ],
          "sizemode": "area",
          "sizeref": 0.0155840875,
          "symbol": "circle"
         },
         "mode": "markers",
         "name": "Gibraltar",
         "orientation": "v",
         "showlegend": true,
         "type": "scatter",
         "x": [
          0,
          0
         ],
         "xaxis": "x",
         "y": [
          1.895,
          1.895
         ],
         "yaxis": "y"
        },
        {
         "hovertemplate": "Country Name=Guinea<br>GDP=%{x}<br>Fertility Rate=%{y}<br>Bubble Size=%{marker.size}<extra></extra>",
         "legendgroup": "Guinea",
         "marker": {
          "color": "#ab63fa",
          "size": [
           3.5609330000000003,
           0,
           0,
           0
          ],
          "sizemode": "area",
          "sizeref": 0.0155840875,
          "symbol": "circle"
         },
         "mode": "markers",
         "name": "Guinea",
         "orientation": "v",
         "showlegend": true,
         "type": "scatter",
         "x": [
          2383.578867,
          2383.578867,
          2383.578867,
          2383.578867
         ],
         "xaxis": "x",
         "y": [
          4.789,
          4.789,
          4.789,
          4.789
         ],
         "yaxis": "y"
        },
        {
         "hovertemplate": "Country Name=Guinea-Bissau<br>GDP=%{x}<br>Fertility Rate=%{y}<br>Bubble Size=%{marker.size}<extra></extra>",
         "legendgroup": "Guinea-Bissau",
         "marker": {
          "color": "#FFA15A",
          "size": [
           3.66543,
           0,
           0,
           0
          ],
          "sizemode": "area",
          "sizeref": 0.0155840875,
          "symbol": "circle"
         },
         "mode": "markers",
         "name": "Guinea-Bissau",
         "orientation": "v",
         "showlegend": true,
         "type": "scatter",
         "x": [
          1872.3092809999998,
          1872.3092809999998,
          1872.3092809999998,
          1872.3092809999998
         ],
         "xaxis": "x",
         "y": [
          4.3580000000000005,
          4.3580000000000005,
          4.3580000000000005,
          4.3580000000000005
         ],
         "yaxis": "y"
        },
        {
         "hovertemplate": "Country Name=Equatorial Guinea<br>GDP=%{x}<br>Fertility Rate=%{y}<br>Bubble Size=%{marker.size}<extra></extra>",
         "legendgroup": "Equatorial Guinea",
         "marker": {
          "color": "#19d3f3",
          "size": [
           4.16709,
           0,
           0,
           0
          ],
          "sizemode": "area",
          "sizeref": 0.0155840875,
          "symbol": "circle"
         },
         "mode": "markers",
         "name": "Equatorial Guinea",
         "orientation": "v",
         "showlegend": true,
         "type": "scatter",
         "x": [
          19617.84471,
          19617.84471,
          19617.84471,
          19617.84471
         ],
         "xaxis": "x",
         "y": [
          4.599,
          4.599,
          4.599,
          4.599
         ],
         "yaxis": "y"
        },
        {
         "hovertemplate": "Country Name=Greece<br>GDP=%{x}<br>Fertility Rate=%{y}<br>Bubble Size=%{marker.size}<extra></extra>",
         "legendgroup": "Greece",
         "marker": {
          "color": "#FF6692",
          "size": [
           4.185864,
           0,
           0,
           0
          ],
          "sizemode": "area",
          "sizeref": 0.0155840875,
          "symbol": "circle"
         },
         "mode": "markers",
         "name": "Greece",
         "orientation": "v",
         "showlegend": true,
         "type": "scatter",
         "x": [
          28604.86094,
          28604.86094,
          28604.86094,
          28604.86094
         ],
         "xaxis": "x",
         "y": [
          1.35,
          1.35,
          1.35,
          1.35
         ],
         "yaxis": "y"
        },
        {
         "hovertemplate": "Country Name=Grenada<br>GDP=%{x}<br>Fertility Rate=%{y}<br>Bubble Size=%{marker.size}<extra></extra>",
         "legendgroup": "Grenada",
         "marker": {
          "color": "#B6E880",
          "size": [
           2.770066,
           0,
           0,
           0
          ],
          "sizemode": "area",
          "sizeref": 0.0155840875,
          "symbol": "circle"
         },
         "mode": "markers",
         "name": "Grenada",
         "orientation": "v",
         "showlegend": true,
         "type": "scatter",
         "x": [
          14870.031490000001,
          14870.031490000001,
          14870.031490000001,
          14870.031490000001
         ],
         "xaxis": "x",
         "y": [
          2.083,
          2.083,
          2.083,
          2.083
         ],
         "yaxis": "y"
        },
        {
         "hovertemplate": "Country Name=Greenland<br>GDP=%{x}<br>Fertility Rate=%{y}<br>Bubble Size=%{marker.size}<extra></extra>",
         "legendgroup": "Greenland",
         "marker": {
          "color": "#FF97FF",
          "size": [
           6.233635,
           0,
           0,
           0
          ],
          "sizemode": "area",
          "sizeref": 0.0155840875,
          "symbol": "circle"
         },
         "mode": "markers",
         "name": "Greenland",
         "orientation": "v",
         "showlegend": true,
         "type": "scatter",
         "x": [
          0,
          0,
          0,
          0
         ],
         "xaxis": "x",
         "y": [
          2.09,
          2.09,
          2.09,
          2.09
         ],
         "yaxis": "y"
        },
        {
         "hovertemplate": "Country Name=Guatemala<br>GDP=%{x}<br>Fertility Rate=%{y}<br>Bubble Size=%{marker.size}<extra></extra>",
         "legendgroup": "Guatemala",
         "marker": {
          "color": "#FECB52",
          "size": [
           3.216025,
           0,
           0,
           0
          ],
          "sizemode": "area",
          "sizeref": 0.0155840875,
          "symbol": "circle"
         },
         "mode": "markers",
         "name": "Guatemala",
         "orientation": "v",
         "showlegend": true,
         "type": "scatter",
         "x": [
          8322.21681,
          8322.21681,
          8322.21681,
          8322.21681
         ],
         "xaxis": "x",
         "y": [
          2.8569999999999998,
          2.8569999999999998,
          2.8569999999999998,
          2.8569999999999998
         ],
         "yaxis": "y"
        },
        {
         "hovertemplate": "Country Name=Guam<br>GDP=%{x}<br>Fertility Rate=%{y}<br>Bubble Size=%{marker.size}<extra></extra>",
         "legendgroup": "Guam",
         "marker": {
          "color": "#636efa",
          "size": [
           3.4928559999999997,
           0,
           0,
           0
          ],
          "sizemode": "area",
          "sizeref": 0.0155840875,
          "symbol": "circle"
         },
         "mode": "markers",
         "name": "Guam",
         "orientation": "v",
         "showlegend": true,
         "type": "scatter",
         "x": [
          0,
          0,
          0,
          0
         ],
         "xaxis": "x",
         "y": [
          2.805,
          2.805,
          2.805,
          2.805
         ],
         "yaxis": "y"
        },
        {
         "hovertemplate": "Country Name=Guyana<br>GDP=%{x}<br>Fertility Rate=%{y}<br>Bubble Size=%{marker.size}<extra></extra>",
         "legendgroup": "Guyana",
         "marker": {
          "color": "#EF553B",
          "size": [
           4.141724,
           0,
           0,
           0
          ],
          "sizemode": "area",
          "sizeref": 0.0155840875,
          "symbol": "circle"
         },
         "mode": "markers",
         "name": "Guyana",
         "orientation": "v",
         "showlegend": true,
         "type": "scatter",
         "x": [
          12193.62168,
          12193.62168,
          12193.62168,
          12193.62168
         ],
         "xaxis": "x",
         "y": [
          2.485,
          2.485,
          2.485,
          2.485
         ],
         "yaxis": "y"
        },
        {
         "hovertemplate": "Country Name=Honduras<br>GDP=%{x}<br>Fertility Rate=%{y}<br>Bubble Size=%{marker.size}<extra></extra>",
         "legendgroup": "Honduras",
         "marker": {
          "color": "#00cc96",
          "size": [
           2.7523009999999997,
           0,
           0,
           0
          ],
          "sizemode": "area",
          "sizeref": 0.0155840875,
          "symbol": "circle"
         },
         "mode": "markers",
         "name": "Honduras",
         "orientation": "v",
         "showlegend": true,
         "type": "scatter",
         "x": [
          5447.698792,
          5447.698792,
          5447.698792,
          5447.698792
         ],
         "xaxis": "x",
         "y": [
          2.496,
          2.496,
          2.496,
          2.496
         ],
         "yaxis": "y"
        },
        {
         "hovertemplate": "Country Name=Croatia<br>GDP=%{x}<br>Fertility Rate=%{y}<br>Bubble Size=%{marker.size}<extra></extra>",
         "legendgroup": "Croatia",
         "marker": {
          "color": "#ab63fa",
          "size": [
           2.779842,
           0,
           0,
           0
          ],
          "sizemode": "area",
          "sizeref": 0.0155840875,
          "symbol": "circle"
         },
         "mode": "markers",
         "name": "Croatia",
         "orientation": "v",
         "showlegend": true,
         "type": "scatter",
         "x": [
          27206.93571,
          27206.93571,
          27206.93571,
          27206.93571
         ],
         "xaxis": "x",
         "y": [
          1.42,
          1.42,
          1.42,
          1.42
         ],
         "yaxis": "y"
        },
        {
         "hovertemplate": "Country Name=Haiti<br>GDP=%{x}<br>Fertility Rate=%{y}<br>Bubble Size=%{marker.size}<extra></extra>",
         "legendgroup": "Haiti",
         "marker": {
          "color": "#FFA15A",
          "size": [
           2.957782,
           0,
           0,
           0
          ],
          "sizemode": "area",
          "sizeref": 0.0155840875,
          "symbol": "circle"
         },
         "mode": "markers",
         "name": "Haiti",
         "orientation": "v",
         "showlegend": true,
         "type": "scatter",
         "x": [
          3200.042183,
          3200.042183,
          3200.042183,
          3200.042183
         ],
         "xaxis": "x",
         "y": [
          3.016,
          3.016,
          3.016,
          3.016
         ],
         "yaxis": "y"
        },
        {
         "hovertemplate": "Country Name=Hungary<br>GDP=%{x}<br>Fertility Rate=%{y}<br>Bubble Size=%{marker.size}<extra></extra>",
         "legendgroup": "Hungary",
         "marker": {
          "color": "#19d3f3",
          "size": [
           2.7652419999999998,
           0,
           0,
           0
          ],
          "sizemode": "area",
          "sizeref": 0.0155840875,
          "symbol": "circle"
         },
         "mode": "markers",
         "name": "Hungary",
         "orientation": "v",
         "showlegend": true,
         "type": "scatter",
         "x": [
          29496.16368,
          29496.16368,
          29496.16368,
          29496.16368
         ],
         "xaxis": "x",
         "y": [
          1.54,
          1.54,
          1.54,
          1.54
         ],
         "yaxis": "y"
        },
        {
         "hovertemplate": "Country Name=Indonesia<br>GDP=%{x}<br>Fertility Rate=%{y}<br>Bubble Size=%{marker.size}<extra></extra>",
         "legendgroup": "Indonesia",
         "marker": {
          "color": "#FF6692",
          "size": [
           2.642736,
           0,
           0,
           0
          ],
          "sizemode": "area",
          "sizeref": 0.0155840875,
          "symbol": "circle"
         },
         "mode": "markers",
         "name": "Indonesia",
         "orientation": "v",
         "showlegend": true,
         "type": "scatter",
         "x": [
          10941.92095,
          10941.92095,
          10941.92095,
          10941.92095
         ],
         "xaxis": "x",
         "y": [
          2.262,
          2.262,
          2.262,
          2.262
         ],
         "yaxis": "y"
        },
        {
         "hovertemplate": "Country Name=Isle of Man<br>GDP=%{x}<br>Fertility Rate=%{y}<br>Bubble Size=%{marker.size}<extra></extra>",
         "legendgroup": "Isle of Man",
         "marker": {
          "color": "#B6E880",
          "size": [
           0,
           0
          ],
          "sizemode": "area",
          "sizeref": 0.0155840875,
          "symbol": "circle"
         },
         "mode": "markers",
         "name": "Isle of Man",
         "orientation": "v",
         "showlegend": true,
         "type": "scatter",
         "x": [
          0,
          0
         ],
         "xaxis": "x",
         "y": [
          1.6769999999999998,
          1.6769999999999998
         ],
         "yaxis": "y"
        },
        {
         "hovertemplate": "Country Name=India<br>GDP=%{x}<br>Fertility Rate=%{y}<br>Bubble Size=%{marker.size}<extra></extra>",
         "legendgroup": "India",
         "marker": {
          "color": "#FF97FF",
          "size": [
           3.5298529999999997,
           0,
           0,
           0
          ],
          "sizemode": "area",
          "sizeref": 0.0155840875,
          "symbol": "circle"
         },
         "mode": "markers",
         "name": "India",
         "orientation": "v",
         "showlegend": true,
         "type": "scatter",
         "x": [
          6112.06665,
          6112.06665,
          6112.06665,
          6112.06665
         ],
         "xaxis": "x",
         "y": [
          2.2,
          2.2,
          2.2,
          2.2
         ],
         "yaxis": "y"
        },
        {
         "hovertemplate": "Country Name=Ireland<br>GDP=%{x}<br>Fertility Rate=%{y}<br>Bubble Size=%{marker.size}<extra></extra>",
         "legendgroup": "Ireland",
         "marker": {
          "color": "#FECB52",
          "size": [
           4.250921,
           0,
           0,
           0
          ],
          "sizemode": "area",
          "sizeref": 0.0155840875,
          "symbol": "circle"
         },
         "mode": "markers",
         "name": "Ireland",
         "orientation": "v",
         "showlegend": true,
         "type": "scatter",
         "x": [
          77968.62985,
          77968.62985,
          77968.62985,
          77968.62985
         ],
         "xaxis": "x",
         "y": [
          1.77,
          1.77,
          1.77,
          1.77
         ],
         "yaxis": "y"
        },
        {
         "hovertemplate": "Country Name=Iraq<br>GDP=%{x}<br>Fertility Rate=%{y}<br>Bubble Size=%{marker.size}<extra></extra>",
         "legendgroup": "Iraq",
         "marker": {
          "color": "#636efa",
          "size": [
           3.8911629999999997,
           0,
           0,
           0
          ],
          "sizemode": "area",
          "sizeref": 0.0155840875,
          "symbol": "circle"
         },
         "mode": "markers",
         "name": "Iraq",
         "orientation": "v",
         "showlegend": true,
         "type": "scatter",
         "x": [
          9976.854942,
          9976.854942,
          9976.854942,
          9976.854942
         ],
         "xaxis": "x",
         "y": [
          3.73,
          3.73,
          3.73,
          3.73
         ],
         "yaxis": "y"
        },
        {
         "hovertemplate": "Country Name=Iceland<br>GDP=%{x}<br>Fertility Rate=%{y}<br>Bubble Size=%{marker.size}<extra></extra>",
         "legendgroup": "Iceland",
         "marker": {
          "color": "#EF553B",
          "size": [
           3.3616650000000003,
           0,
           0,
           0
          ],
          "sizemode": "area",
          "sizeref": 0.0155840875,
          "symbol": "circle"
         },
         "mode": "markers",
         "name": "Iceland",
         "orientation": "v",
         "showlegend": true,
         "type": "scatter",
         "x": [
          55638.492060000004,
          55638.492060000004,
          55638.492060000004,
          55638.492060000004
         ],
         "xaxis": "x",
         "y": [
          1.71,
          1.71,
          1.71,
          1.71
         ],
         "yaxis": "y"
        },
        {
         "hovertemplate": "Country Name=Israel<br>GDP=%{x}<br>Fertility Rate=%{y}<br>Bubble Size=%{marker.size}<extra></extra>",
         "legendgroup": "Israel",
         "marker": {
          "color": "#00cc96",
          "size": [
           3.832221,
           0,
           0,
           0
          ],
          "sizemode": "area",
          "sizeref": 0.0155840875,
          "symbol": "circle"
         },
         "mode": "markers",
         "name": "Israel",
         "orientation": "v",
         "showlegend": true,
         "type": "scatter",
         "x": [
          39448.13915,
          39448.13915,
          39448.13915,
          39448.13915
         ],
         "xaxis": "x",
         "y": [
          3.11,
          3.11,
          3.11,
          3.11
         ],
         "yaxis": "y"
        },
        {
         "hovertemplate": "Country Name=Italy<br>GDP=%{x}<br>Fertility Rate=%{y}<br>Bubble Size=%{marker.size}<extra></extra>",
         "legendgroup": "Italy",
         "marker": {
          "color": "#ab63fa",
          "size": [
           3.464256,
           0,
           0,
           0
          ],
          "sizemode": "area",
          "sizeref": 0.0155840875,
          "symbol": "circle"
         },
         "mode": "markers",
         "name": "Italy",
         "orientation": "v",
         "showlegend": true,
         "type": "scatter",
         "x": [
          41581.12079,
          41581.12079,
          41581.12079,
          41581.12079
         ],
         "xaxis": "x",
         "y": [
          1.32,
          1.32,
          1.32,
          1.32
         ],
         "yaxis": "y"
        },
        {
         "hovertemplate": "Country Name=Jamaica<br>GDP=%{x}<br>Fertility Rate=%{y}<br>Bubble Size=%{marker.size}<extra></extra>",
         "legendgroup": "Jamaica",
         "marker": {
          "color": "#FFA15A",
          "size": [
           2.5923849999999997,
           0,
           0,
           0
          ],
          "sizemode": "area",
          "sizeref": 0.0155840875,
          "symbol": "circle"
         },
         "mode": "markers",
         "name": "Jamaica",
         "orientation": "v",
         "showlegend": true,
         "type": "scatter",
         "x": [
          9984.577117,
          9984.577117,
          9984.577117,
          9984.577117
         ],
         "xaxis": "x",
         "y": [
          1.44,
          1.44,
          1.44,
          1.44
         ],
         "yaxis": "y"
        },
        {
         "hovertemplate": "Country Name=Jordan<br>GDP=%{x}<br>Fertility Rate=%{y}<br>Bubble Size=%{marker.size}<extra></extra>",
         "legendgroup": "Jordan",
         "marker": {
          "color": "#19d3f3",
          "size": [
           3.5636019999999995,
           0,
           0,
           0
          ],
          "sizemode": "area",
          "sizeref": 0.0155840875,
          "symbol": "circle"
         },
         "mode": "markers",
         "name": "Jordan",
         "orientation": "v",
         "showlegend": true,
         "type": "scatter",
         "x": [
          9629.102997,
          9629.102997,
          9629.102997,
          9629.102997
         ],
         "xaxis": "x",
         "y": [
          3.0269999999999997,
          3.0269999999999997,
          3.0269999999999997,
          3.0269999999999997
         ],
         "yaxis": "y"
        },
        {
         "hovertemplate": "Country Name=Japan<br>GDP=%{x}<br>Fertility Rate=%{y}<br>Bubble Size=%{marker.size}<extra></extra>",
         "legendgroup": "Japan",
         "marker": {
          "color": "#FF6692",
          "size": [
           3.341565,
           0,
           0,
           0
          ],
          "sizemode": "area",
          "sizeref": 0.0155840875,
          "symbol": "circle"
         },
         "mode": "markers",
         "name": "Japan",
         "orientation": "v",
         "showlegend": true,
         "type": "scatter",
         "x": [
          41444.21574,
          41444.21574,
          41444.21574,
          41444.21574
         ],
         "xaxis": "x",
         "y": [
          1.43,
          1.43,
          1.43,
          1.43
         ],
         "yaxis": "y"
        },
        {
         "hovertemplate": "Country Name=Kazakhstan<br>GDP=%{x}<br>Fertility Rate=%{y}<br>Bubble Size=%{marker.size}<extra></extra>",
         "legendgroup": "Kazakhstan",
         "marker": {
          "color": "#B6E880",
          "size": [
           3.511775,
           0,
           0,
           0
          ],
          "sizemode": "area",
          "sizeref": 0.0155840875,
          "symbol": "circle"
         },
         "mode": "markers",
         "name": "Kazakhstan",
         "orientation": "v",
         "showlegend": true,
         "type": "scatter",
         "x": [
          24862.966119999997,
          24862.966119999997,
          24862.966119999997,
          24862.966119999997
         ],
         "xaxis": "x",
         "y": [
          2.75,
          2.75,
          2.75,
          2.75
         ],
         "yaxis": "y"
        },
        {
         "hovertemplate": "Country Name=Kenya<br>GDP=%{x}<br>Fertility Rate=%{y}<br>Bubble Size=%{marker.size}<extra></extra>",
         "legendgroup": "Kenya",
         "marker": {
          "color": "#FF97FF",
          "size": [
           3.5084190000000004,
           0,
           0,
           0
          ],
          "sizemode": "area",
          "sizeref": 0.0155840875,
          "symbol": "circle"
         },
         "mode": "markers",
         "name": "Kenya",
         "orientation": "v",
         "showlegend": true,
         "type": "scatter",
         "x": [
          4312.908917,
          4312.908917,
          4312.908917,
          4312.908917
         ],
         "xaxis": "x",
         "y": [
          3.6430000000000002,
          3.6430000000000002,
          3.6430000000000002,
          3.6430000000000002
         ],
         "yaxis": "y"
        },
        {
         "hovertemplate": "Country Name=Cambodia<br>GDP=%{x}<br>Fertility Rate=%{y}<br>Bubble Size=%{marker.size}<extra></extra>",
         "legendgroup": "Cambodia",
         "marker": {
          "color": "#FECB52",
          "size": [
           3.094945,
           0,
           0,
           0
          ],
          "sizemode": "area",
          "sizeref": 0.0155840875,
          "symbol": "circle"
         },
         "mode": "markers",
         "name": "Cambodia",
         "orientation": "v",
         "showlegend": true,
         "type": "scatter",
         "x": [
          3972.724164,
          3972.724164,
          3972.724164,
          3972.724164
         ],
         "xaxis": "x",
         "y": [
          2.4730000000000003,
          2.4730000000000003,
          2.4730000000000003,
          2.4730000000000003
         ],
         "yaxis": "y"
        },
        {
         "hovertemplate": "Country Name=Kiribati<br>GDP=%{x}<br>Fertility Rate=%{y}<br>Bubble Size=%{marker.size}<extra></extra>",
         "legendgroup": "Kiribati",
         "marker": {
          "color": "#636efa",
          "size": [
           3.1727540000000003,
           0,
           0,
           0
          ],
          "sizemode": "area",
          "sizeref": 0.0155840875,
          "symbol": "circle"
         },
         "mode": "markers",
         "name": "Kiribati",
         "orientation": "v",
         "showlegend": true,
         "type": "scatter",
         "x": [
          1970.8258809999998,
          1970.8258809999998,
          1970.8258809999998,
          1970.8258809999998
         ],
         "xaxis": "x",
         "y": [
          3.431,
          3.431,
          3.431,
          3.431
         ],
         "yaxis": "y"
        },
        {
         "hovertemplate": "Country Name=Kuwait<br>GDP=%{x}<br>Fertility Rate=%{y}<br>Bubble Size=%{marker.size}<extra></extra>",
         "legendgroup": "Kuwait",
         "marker": {
          "color": "#EF553B",
          "size": [
           3.635679,
           0,
           0,
           0
          ],
          "sizemode": "area",
          "sizeref": 0.0155840875,
          "symbol": "circle"
         },
         "mode": "markers",
         "name": "Kuwait",
         "orientation": "v",
         "showlegend": true,
         "type": "scatter",
         "x": [
          50007.29954,
          50007.29954,
          50007.29954,
          50007.29954
         ],
         "xaxis": "x",
         "y": [
          2.161,
          2.161,
          2.161,
          2.161
         ],
         "yaxis": "y"
        },
        {
         "hovertemplate": "Country Name=Lebanon<br>GDP=%{x}<br>Fertility Rate=%{y}<br>Bubble Size=%{marker.size}<extra></extra>",
         "legendgroup": "Lebanon",
         "marker": {
          "color": "#00cc96",
          "size": [
           3.6767339999999997,
           0,
           0,
           0
          ],
          "sizemode": "area",
          "sizeref": 0.0155840875,
          "symbol": "circle"
         },
         "mode": "markers",
         "name": "Lebanon",
         "orientation": "v",
         "showlegend": true,
         "type": "scatter",
         "x": [
          17808.07689,
          17808.07689,
          17808.07689,
          17808.07689
         ],
         "xaxis": "x",
         "y": [
          2.173,
          2.173,
          2.173,
          2.173
         ],
         "yaxis": "y"
        },
        {
         "hovertemplate": "Country Name=Liberia<br>GDP=%{x}<br>Fertility Rate=%{y}<br>Bubble Size=%{marker.size}<extra></extra>",
         "legendgroup": "Liberia",
         "marker": {
          "color": "#ab63fa",
          "size": [
           3.803038,
           0,
           0,
           0
          ],
          "sizemode": "area",
          "sizeref": 0.0155840875,
          "symbol": "circle"
         },
         "mode": "markers",
         "name": "Liberia",
         "orientation": "v",
         "showlegend": true,
         "type": "scatter",
         "x": [
          1533.4112380000001,
          1533.4112380000001,
          1533.4112380000001,
          1533.4112380000001
         ],
         "xaxis": "x",
         "y": [
          4.396,
          4.396,
          4.396,
          4.396
         ],
         "yaxis": "y"
        },
        {
         "hovertemplate": "Country Name=Libya<br>GDP=%{x}<br>Fertility Rate=%{y}<br>Bubble Size=%{marker.size}<extra></extra>",
         "legendgroup": "Libya",
         "marker": {
          "color": "#FFA15A",
          "size": [
           3.8047910000000003,
           0,
           0,
           0
          ],
          "sizemode": "area",
          "sizeref": 0.0155840875,
          "symbol": "circle"
         },
         "mode": "markers",
         "name": "Libya",
         "orientation": "v",
         "showlegend": true,
         "type": "scatter",
         "x": [
          24212.910930000002,
          24212.910930000002,
          24212.910930000002,
          24212.910930000002
         ],
         "xaxis": "x",
         "y": [
          2.6260000000000003,
          2.6260000000000003,
          2.6260000000000003,
          2.6260000000000003
         ],
         "yaxis": "y"
        },
        {
         "hovertemplate": "Country Name=Liechtenstein<br>GDP=%{x}<br>Fertility Rate=%{y}<br>Bubble Size=%{marker.size}<extra></extra>",
         "legendgroup": "Liechtenstein",
         "marker": {
          "color": "#19d3f3",
          "size": [
           0,
           0
          ],
          "sizemode": "area",
          "sizeref": 0.0155840875,
          "symbol": "circle"
         },
         "mode": "markers",
         "name": "Liechtenstein",
         "orientation": "v",
         "showlegend": true,
         "type": "scatter",
         "x": [
          0,
          0
         ],
         "xaxis": "x",
         "y": [
          1.44,
          1.44
         ],
         "yaxis": "y"
        },
        {
         "hovertemplate": "Country Name=Sri Lanka<br>GDP=%{x}<br>Fertility Rate=%{y}<br>Bubble Size=%{marker.size}<extra></extra>",
         "legendgroup": "Sri Lanka",
         "marker": {
          "color": "#FF6692",
          "size": [
           3.4433300000000004,
           0,
           0,
           0
          ],
          "sizemode": "area",
          "sizeref": 0.0155840875,
          "symbol": "circle"
         },
         "mode": "markers",
         "name": "Sri Lanka",
         "orientation": "v",
         "showlegend": true,
         "type": "scatter",
         "x": [
          13544.51899,
          13544.51899,
          13544.51899,
          13544.51899
         ],
         "xaxis": "x",
         "y": [
          2.053,
          2.053,
          2.053,
          2.053
         ],
         "yaxis": "y"
        },
        {
         "hovertemplate": "Country Name=Lesotho<br>GDP=%{x}<br>Fertility Rate=%{y}<br>Bubble Size=%{marker.size}<extra></extra>",
         "legendgroup": "Lesotho",
         "marker": {
          "color": "#B6E880",
          "size": [
           5.636661,
           0,
           0,
           0
          ],
          "sizemode": "area",
          "sizeref": 0.0155840875,
          "symbol": "circle"
         },
         "mode": "markers",
         "name": "Lesotho",
         "orientation": "v",
         "showlegend": true,
         "type": "scatter",
         "x": [
          2571.694113,
          2571.694113,
          2571.694113,
          2571.694113
         ],
         "xaxis": "x",
         "y": [
          3.187,
          3.187,
          3.187,
          3.187
         ],
         "yaxis": "y"
        },
        {
         "hovertemplate": "Country Name=Lithuania<br>GDP=%{x}<br>Fertility Rate=%{y}<br>Bubble Size=%{marker.size}<extra></extra>",
         "legendgroup": "Lithuania",
         "marker": {
          "color": "#FF97FF",
          "size": [
           4.143254,
           0,
           0,
           0
          ],
          "sizemode": "area",
          "sizeref": 0.0155840875,
          "symbol": "circle"
         },
         "mode": "markers",
         "name": "Lithuania",
         "orientation": "v",
         "showlegend": true,
         "type": "scatter",
         "x": [
          33761.87124,
          33761.87124,
          33761.87124,
          33761.87124
         ],
         "xaxis": "x",
         "y": [
          1.63,
          1.63,
          1.63,
          1.63
         ],
         "yaxis": "y"
        },
        {
         "hovertemplate": "Country Name=Luxembourg<br>GDP=%{x}<br>Fertility Rate=%{y}<br>Bubble Size=%{marker.size}<extra></extra>",
         "legendgroup": "Luxembourg",
         "marker": {
          "color": "#FECB52",
          "size": [
           3.617719,
           0,
           0,
           0
          ],
          "sizemode": "area",
          "sizeref": 0.0155840875,
          "symbol": "circle"
         },
         "mode": "markers",
         "name": "Luxembourg",
         "orientation": "v",
         "showlegend": true,
         "type": "scatter",
         "x": [
          114985.8422,
          114985.8422,
          114985.8422,
          114985.8422
         ],
         "xaxis": "x",
         "y": [
          1.39,
          1.39,
          1.39,
          1.39
         ],
         "yaxis": "y"
        },
        {
         "hovertemplate": "Country Name=Latvia<br>GDP=%{x}<br>Fertility Rate=%{y}<br>Bubble Size=%{marker.size}<extra></extra>",
         "legendgroup": "Latvia",
         "marker": {
          "color": "#636efa",
          "size": [
           3.499571,
           0,
           0,
           0
          ],
          "sizemode": "area",
          "sizeref": 0.0155840875,
          "symbol": "circle"
         },
         "mode": "markers",
         "name": "Latvia",
         "orientation": "v",
         "showlegend": true,
         "type": "scatter",
         "x": [
          28673.5634,
          28673.5634,
          28673.5634,
          28673.5634
         ],
         "xaxis": "x",
         "y": [
          1.69,
          1.69,
          1.69,
          1.69
         ],
         "yaxis": "y"
        },
        {
         "hovertemplate": "Country Name=Morocco<br>GDP=%{x}<br>Fertility Rate=%{y}<br>Bubble Size=%{marker.size}<extra></extra>",
         "legendgroup": "Morocco",
         "marker": {
          "color": "#EF553B",
          "size": [
           5.413573,
           0,
           0,
           0
          ],
          "sizemode": "area",
          "sizeref": 0.0155840875,
          "symbol": "circle"
         },
         "mode": "markers",
         "name": "Morocco",
         "orientation": "v",
         "showlegend": true,
         "type": "scatter",
         "x": [
          7921.619140999999,
          7921.619140999999,
          7921.619140999999,
          7921.619140999999
         ],
         "xaxis": "x",
         "y": [
          2.451,
          2.451,
          2.451,
          2.451
         ],
         "yaxis": "y"
        },
        {
         "hovertemplate": "Country Name=Monaco<br>GDP=%{x}<br>Fertility Rate=%{y}<br>Bubble Size=%{marker.size}<extra></extra>",
         "legendgroup": "Monaco",
         "marker": {
          "color": "#00cc96",
          "size": [
           0,
           0
          ],
          "sizemode": "area",
          "sizeref": 0.0155840875,
          "symbol": "circle"
         },
         "mode": "markers",
         "name": "Monaco",
         "orientation": "v",
         "showlegend": true,
         "type": "scatter",
         "x": [
          0,
          0
         ],
         "xaxis": "x",
         "y": [
          0,
          0
         ],
         "yaxis": "y"
        },
        {
         "hovertemplate": "Country Name=Moldova<br>GDP=%{x}<br>Fertility Rate=%{y}<br>Bubble Size=%{marker.size}<extra></extra>",
         "legendgroup": "Moldova",
         "marker": {
          "color": "#ab63fa",
          "size": [
           3.432549,
           0,
           0,
           0
          ],
          "sizemode": "area",
          "sizeref": 0.0155840875,
          "symbol": "circle"
         },
         "mode": "markers",
         "name": "Moldova",
         "orientation": "v",
         "showlegend": true,
         "type": "scatter",
         "x": [
          11464.01815,
          11464.01815,
          11464.01815,
          11464.01815
         ],
         "xaxis": "x",
         "y": [
          1.81,
          1.81,
          1.81,
          1.81
         ],
         "yaxis": "y"
        },
        {
         "hovertemplate": "Country Name=Madagascar<br>GDP=%{x}<br>Fertility Rate=%{y}<br>Bubble Size=%{marker.size}<extra></extra>",
         "legendgroup": "Madagascar",
         "marker": {
          "color": "#FFA15A",
          "size": [
           3.708514,
           0,
           0,
           0
          ],
          "sizemode": "area",
          "sizeref": 0.0155840875,
          "symbol": "circle"
         },
         "mode": "markers",
         "name": "Madagascar",
         "orientation": "v",
         "showlegend": true,
         "type": "scatter",
         "x": [
          1548.156425,
          1548.156425,
          1548.156425,
          1548.156425
         ],
         "xaxis": "x",
         "y": [
          4.109,
          4.109,
          4.109,
          4.109
         ],
         "yaxis": "y"
        },
        {
         "hovertemplate": "Country Name=Maldives<br>GDP=%{x}<br>Fertility Rate=%{y}<br>Bubble Size=%{marker.size}<extra></extra>",
         "legendgroup": "Maldives",
         "marker": {
          "color": "#19d3f3",
          "size": [
           3.09997,
           0,
           0,
           0
          ],
          "sizemode": "area",
          "sizeref": 0.0155840875,
          "symbol": "circle"
         },
         "mode": "markers",
         "name": "Maldives",
         "orientation": "v",
         "showlegend": true,
         "type": "scatter",
         "x": [
          18973.56896,
          18973.56896,
          18973.56896,
          18973.56896
         ],
         "xaxis": "x",
         "y": [
          1.845,
          1.845,
          1.845,
          1.845
         ],
         "yaxis": "y"
        },
        {
         "hovertemplate": "Country Name=Mexico<br>GDP=%{x}<br>Fertility Rate=%{y}<br>Bubble Size=%{marker.size}<extra></extra>",
         "legendgroup": "Mexico",
         "marker": {
          "color": "#FF6692",
          "size": [
           2.788807,
           0,
           0,
           0
          ],
          "sizemode": "area",
          "sizeref": 0.0155840875,
          "symbol": "circle"
         },
         "mode": "markers",
         "name": "Mexico",
         "orientation": "v",
         "showlegend": true,
         "type": "scatter",
         "x": [
          20032.40861,
          20032.40861,
          20032.40861,
          20032.40861
         ],
         "xaxis": "x",
         "y": [
          2.041,
          2.041,
          2.041,
          2.041
         ],
         "yaxis": "y"
        },
        {
         "hovertemplate": "Country Name=Marshall Islands<br>GDP=%{x}<br>Fertility Rate=%{y}<br>Bubble Size=%{marker.size}<extra></extra>",
         "legendgroup": "Marshall Islands",
         "marker": {
          "color": "#B6E880",
          "size": [
           3.104347,
           0,
           0,
           0
          ],
          "sizemode": "area",
          "sizeref": 0.0155840875,
          "symbol": "circle"
         },
         "mode": "markers",
         "name": "Marshall Islands",
         "orientation": "v",
         "showlegend": true,
         "type": "scatter",
         "x": [
          4635.01719,
          4635.01719,
          4635.01719,
          4635.01719
         ],
         "xaxis": "x",
         "y": [
          2.929,
          2.929,
          2.929,
          2.929
         ],
         "yaxis": "y"
        },
        {
         "hovertemplate": "Country Name=Mali<br>GDP=%{x}<br>Fertility Rate=%{y}<br>Bubble Size=%{marker.size}<extra></extra>",
         "legendgroup": "Mali",
         "marker": {
          "color": "#FF97FF",
          "size": [
           3.00742,
           0,
           0,
           0
          ],
          "sizemode": "area",
          "sizeref": 0.0155840875,
          "symbol": "circle"
         },
         "mode": "markers",
         "name": "Mali",
         "orientation": "v",
         "showlegend": true,
         "type": "scatter",
         "x": [
          2153.845638,
          2153.845638,
          2153.845638,
          2153.845638
         ],
         "xaxis": "x",
         "y": [
          6.251,
          6.251,
          6.251,
          6.251
         ],
         "yaxis": "y"
        },
        {
         "hovertemplate": "Country Name=Malta<br>GDP=%{x}<br>Fertility Rate=%{y}<br>Bubble Size=%{marker.size}<extra></extra>",
         "legendgroup": "Malta",
         "marker": {
          "color": "#FECB52",
          "size": [
           3.374137,
           0,
           0,
           0
          ],
          "sizemode": "area",
          "sizeref": 0.0155840875,
          "symbol": "circle"
         },
         "mode": "markers",
         "name": "Malta",
         "orientation": "v",
         "showlegend": true,
         "type": "scatter",
         "x": [
          43508.783260000004,
          43508.783260000004,
          43508.783260000004,
          43508.783260000004
         ],
         "xaxis": "x",
         "y": [
          1.26,
          1.26,
          1.26,
          1.26
         ],
         "yaxis": "y"
        },
        {
         "hovertemplate": "Country Name=Myanmar<br>GDP=%{x}<br>Fertility Rate=%{y}<br>Bubble Size=%{marker.size}<extra></extra>",
         "legendgroup": "Myanmar",
         "marker": {
          "color": "#636efa",
          "size": [
           2.300982,
           0,
           0,
           0
          ],
          "sizemode": "area",
          "sizeref": 0.0155840875,
          "symbol": "circle"
         },
         "mode": "markers",
         "name": "Myanmar",
         "orientation": "v",
         "showlegend": true,
         "type": "scatter",
         "x": [
          4312.947389,
          4312.947389,
          4312.947389,
          4312.947389
         ],
         "xaxis": "x",
         "y": [
          2.234,
          2.234,
          2.234,
          2.234
         ],
         "yaxis": "y"
        },
        {
         "hovertemplate": "Country Name=Montenegro<br>GDP=%{x}<br>Fertility Rate=%{y}<br>Bubble Size=%{marker.size}<extra></extra>",
         "legendgroup": "Montenegro",
         "marker": {
          "color": "#EF553B",
          "size": [
           2.55864,
           0,
           0,
           0
          ],
          "sizemode": "area",
          "sizeref": 0.0155840875,
          "symbol": "circle"
         },
         "mode": "markers",
         "name": "Montenegro",
         "orientation": "v",
         "showlegend": true,
         "type": "scatter",
         "x": [
          19682.29415,
          19682.29415,
          19682.29415,
          19682.29415
         ],
         "xaxis": "x",
         "y": [
          1.78,
          1.78,
          1.78,
          1.78
         ],
         "yaxis": "y"
        },
        {
         "hovertemplate": "Country Name=Mongolia<br>GDP=%{x}<br>Fertility Rate=%{y}<br>Bubble Size=%{marker.size}<extra></extra>",
         "legendgroup": "Mongolia",
         "marker": {
          "color": "#00cc96",
          "size": [
           3.5254879999999997,
           0,
           0,
           0
          ],
          "sizemode": "area",
          "sizeref": 0.0155840875,
          "symbol": "circle"
         },
         "mode": "markers",
         "name": "Mongolia",
         "orientation": "v",
         "showlegend": true,
         "type": "scatter",
         "x": [
          11431.49802,
          11431.49802,
          11431.49802,
          11431.49802
         ],
         "xaxis": "x",
         "y": [
          2.891,
          2.891,
          2.891,
          2.891
         ],
         "yaxis": "y"
        },
        {
         "hovertemplate": "Country Name=Northern Mariana Islands<br>GDP=%{x}<br>Fertility Rate=%{y}<br>Bubble Size=%{marker.size}<extra></extra>",
         "legendgroup": "Northern Mariana Islands",
         "marker": {
          "color": "#ab63fa",
          "size": [
           3.097055,
           0,
           0,
           0
          ],
          "sizemode": "area",
          "sizeref": 0.0155840875,
          "symbol": "circle"
         },
         "mode": "markers",
         "name": "Northern Mariana Islands",
         "orientation": "v",
         "showlegend": true,
         "type": "scatter",
         "x": [
          0,
          0,
          0,
          0
         ],
         "xaxis": "x",
         "y": [
          0,
          0,
          0,
          0
         ],
         "yaxis": "y"
        },
        {
         "hovertemplate": "Country Name=Mozambique<br>GDP=%{x}<br>Fertility Rate=%{y}<br>Bubble Size=%{marker.size}<extra></extra>",
         "legendgroup": "Mozambique",
         "marker": {
          "color": "#FFA15A",
          "size": [
           3.901795,
           0,
           0,
           0
          ],
          "sizemode": "area",
          "sizeref": 0.0155840875,
          "symbol": "circle"
         },
         "mode": "markers",
         "name": "Mozambique",
         "orientation": "v",
         "showlegend": true,
         "type": "scatter",
         "x": [
          1287.234867,
          1287.234867,
          1287.234867,
          1287.234867
         ],
         "xaxis": "x",
         "y": [
          4.922,
          4.922,
          4.922,
          4.922
         ],
         "yaxis": "y"
        },
        {
         "hovertemplate": "Country Name=Mauritania<br>GDP=%{x}<br>Fertility Rate=%{y}<br>Bubble Size=%{marker.size}<extra></extra>",
         "legendgroup": "Mauritania",
         "marker": {
          "color": "#19d3f3",
          "size": [
           3.094161,
           0,
           0,
           0
          ],
          "sizemode": "area",
          "sizeref": 0.0155840875,
          "symbol": "circle"
         },
         "mode": "markers",
         "name": "Mauritania",
         "orientation": "v",
         "showlegend": true,
         "type": "scatter",
         "x": [
          5259.065063,
          5259.065063,
          5259.065063,
          5259.065063
         ],
         "xaxis": "x",
         "y": [
          4.664,
          4.664,
          4.664,
          4.664
         ],
         "yaxis": "y"
        },
        {
         "hovertemplate": "Country Name=Mauritius<br>GDP=%{x}<br>Fertility Rate=%{y}<br>Bubble Size=%{marker.size}<extra></extra>",
         "legendgroup": "Mauritius",
         "marker": {
          "color": "#FF6692",
          "size": [
           3.4785239999999997,
           0,
           0,
           0
          ],
          "sizemode": "area",
          "sizeref": 0.0155840875,
          "symbol": "circle"
         },
         "mode": "markers",
         "name": "Mauritius",
         "orientation": "v",
         "showlegend": true,
         "type": "scatter",
         "x": [
          22143.82655,
          22143.82655,
          22143.82655,
          22143.82655
         ],
         "xaxis": "x",
         "y": [
          1.44,
          1.44,
          1.44,
          1.44
         ],
         "yaxis": "y"
        },
        {
         "hovertemplate": "Country Name=Malawi<br>GDP=%{x}<br>Fertility Rate=%{y}<br>Bubble Size=%{marker.size}<extra></extra>",
         "legendgroup": "Malawi",
         "marker": {
          "color": "#B6E880",
          "size": [
           3.4461370000000002,
           0,
           0,
           0
          ],
          "sizemode": "area",
          "sizeref": 0.0155840875,
          "symbol": "circle"
         },
         "mode": "markers",
         "name": "Malawi",
         "orientation": "v",
         "showlegend": true,
         "type": "scatter",
         "x": [
          1454.777492,
          1454.777492,
          1454.777492,
          1454.777492
         ],
         "xaxis": "x",
         "y": [
          4.22,
          4.22,
          4.22,
          4.22
         ],
         "yaxis": "y"
        },
        {
         "hovertemplate": "Country Name=Malaysia<br>GDP=%{x}<br>Fertility Rate=%{y}<br>Bubble Size=%{marker.size}<extra></extra>",
         "legendgroup": "Malaysia",
         "marker": {
          "color": "#FF97FF",
          "size": [
           3.520854,
           0,
           0,
           0
          ],
          "sizemode": "area",
          "sizeref": 0.0155840875,
          "symbol": "circle"
         },
         "mode": "markers",
         "name": "Malaysia",
         "orientation": "v",
         "showlegend": true,
         "type": "scatter",
         "x": [
          25935.139519999997,
          25935.139519999997,
          25935.139519999997,
          25935.139519999997
         ],
         "xaxis": "x",
         "y": [
          1.929,
          1.929,
          1.929,
          1.929
         ],
         "yaxis": "y"
        },
        {
         "hovertemplate": "Country Name=North America<br>GDP=%{x}<br>Fertility Rate=%{y}<br>Bubble Size=%{marker.size}<extra></extra>",
         "legendgroup": "North America",
         "marker": {
          "color": "#FECB52",
          "size": [
           4.752802,
           0,
           0,
           0
          ],
          "sizemode": "area",
          "sizeref": 0.0155840875,
          "symbol": "circle"
         },
         "mode": "markers",
         "name": "North America",
         "orientation": "v",
         "showlegend": true,
         "type": "scatter",
         "x": [
          58740.6449,
          58740.6449,
          58740.6449,
          58740.6449
         ],
         "xaxis": "x",
         "y": [
          1.7438884380000002,
          1.7438884380000002,
          1.7438884380000002,
          1.7438884380000002
         ],
         "yaxis": "y"
        },
        {
         "hovertemplate": "Country Name=Namibia<br>GDP=%{x}<br>Fertility Rate=%{y}<br>Bubble Size=%{marker.size}<extra></extra>",
         "legendgroup": "Namibia",
         "marker": {
          "color": "#636efa",
          "size": [
           3.4599699999999998,
           0,
           0,
           0
          ],
          "sizemode": "area",
          "sizeref": 0.0155840875,
          "symbol": "circle"
         },
         "mode": "markers",
         "name": "Namibia",
         "orientation": "v",
         "showlegend": true,
         "type": "scatter",
         "x": [
          10335.26743,
          10335.26743,
          10335.26743,
          10335.26743
         ],
         "xaxis": "x",
         "y": [
          3.511,
          3.511,
          3.511,
          3.511
         ],
         "yaxis": "y"
        },
        {
         "hovertemplate": "Country Name=New Caledonia<br>GDP=%{x}<br>Fertility Rate=%{y}<br>Bubble Size=%{marker.size}<extra></extra>",
         "legendgroup": "New Caledonia",
         "marker": {
          "color": "#EF553B",
          "size": [
           0,
           0
          ],
          "sizemode": "area",
          "sizeref": 0.0155840875,
          "symbol": "circle"
         },
         "mode": "markers",
         "name": "New Caledonia",
         "orientation": "v",
         "showlegend": true,
         "type": "scatter",
         "x": [
          0,
          0
         ],
         "xaxis": "x",
         "y": [
          2.04,
          2.04
         ],
         "yaxis": "y"
        },
        {
         "hovertemplate": "Country Name=Niger<br>GDP=%{x}<br>Fertility Rate=%{y}<br>Bubble Size=%{marker.size}<extra></extra>",
         "legendgroup": "Niger",
         "marker": {
          "color": "#00cc96",
          "size": [
           3.463055,
           0,
           0,
           0
          ],
          "sizemode": "area",
          "sizeref": 0.0155840875,
          "symbol": "circle"
         },
         "mode": "markers",
         "name": "Niger",
         "orientation": "v",
         "showlegend": true,
         "type": "scatter",
         "x": [
          1155.973559,
          1155.973559,
          1155.973559,
          1155.973559
         ],
         "xaxis": "x",
         "y": [
          7.084,
          7.084,
          7.084,
          7.084
         ],
         "yaxis": "y"
        },
        {
         "hovertemplate": "Country Name=Nigeria<br>GDP=%{x}<br>Fertility Rate=%{y}<br>Bubble Size=%{marker.size}<extra></extra>",
         "legendgroup": "Nigeria",
         "marker": {
          "color": "#ab63fa",
          "size": [
           3.9176910000000005,
           0,
           0,
           0
          ],
          "sizemode": "area",
          "sizeref": 0.0155840875,
          "symbol": "circle"
         },
         "mode": "markers",
         "name": "Nigeria",
         "orientation": "v",
         "showlegend": true,
         "type": "scatter",
         "x": [
          5120.005598,
          5120.005598,
          5120.005598,
          5120.005598
         ],
         "xaxis": "x",
         "y": [
          5.523,
          5.523,
          5.523,
          5.523
         ],
         "yaxis": "y"
        },
        {
         "hovertemplate": "Country Name=Nicaragua<br>GDP=%{x}<br>Fertility Rate=%{y}<br>Bubble Size=%{marker.size}<extra></extra>",
         "legendgroup": "Nicaragua",
         "marker": {
          "color": "#FFA15A",
          "size": [
           2.854084,
           0,
           0,
           0
          ],
          "sizemode": "area",
          "sizeref": 0.0155840875,
          "symbol": "circle"
         },
         "mode": "markers",
         "name": "Nicaragua",
         "orientation": "v",
         "showlegend": true,
         "type": "scatter",
         "x": [
          5915.375443,
          5915.375443,
          5915.375443,
          5915.375443
         ],
         "xaxis": "x",
         "y": [
          2.43,
          2.43,
          2.43,
          2.43
         ],
         "yaxis": "y"
        },
        {
         "hovertemplate": "Country Name=Netherlands<br>GDP=%{x}<br>Fertility Rate=%{y}<br>Bubble Size=%{marker.size}<extra></extra>",
         "legendgroup": "Netherlands",
         "marker": {
          "color": "#19d3f3",
          "size": [
           4.026854,
           0,
           0,
           0
          ],
          "sizemode": "area",
          "sizeref": 0.0155840875,
          "symbol": "circle"
         },
         "mode": "markers",
         "name": "Netherlands",
         "orientation": "v",
         "showlegend": true,
         "type": "scatter",
         "x": [
          55088.6338,
          55088.6338,
          55088.6338,
          55088.6338
         ],
         "xaxis": "x",
         "y": [
          1.62,
          1.62,
          1.62,
          1.62
         ],
         "yaxis": "y"
        },
        {
         "hovertemplate": "Country Name=Norway<br>GDP=%{x}<br>Fertility Rate=%{y}<br>Bubble Size=%{marker.size}<extra></extra>",
         "legendgroup": "Norway",
         "marker": {
          "color": "#FF6692",
          "size": [
           3.7719099999999997,
           0,
           0,
           0
          ],
          "sizemode": "area",
          "sizeref": 0.0155840875,
          "symbol": "circle"
         },
         "mode": "markers",
         "name": "Norway",
         "orientation": "v",
         "showlegend": true,
         "type": "scatter",
         "x": [
          64589.555920000006,
          64589.555920000006,
          64589.555920000006,
          64589.555920000006
         ],
         "xaxis": "x",
         "y": [
          1.62,
          1.62,
          1.62,
          1.62
         ],
         "yaxis": "y"
        },
        {
         "hovertemplate": "Country Name=Nepal<br>GDP=%{x}<br>Fertility Rate=%{y}<br>Bubble Size=%{marker.size}<extra></extra>",
         "legendgroup": "Nepal",
         "marker": {
          "color": "#B6E880",
          "size": [
           3.606939,
           0,
           0,
           0
          ],
          "sizemode": "area",
          "sizeref": 0.0155840875,
          "symbol": "circle"
         },
         "mode": "markers",
         "name": "Nepal",
         "orientation": "v",
         "showlegend": true,
         "type": "scatter",
         "x": [
          3495.5288,
          3495.5288,
          3495.5288,
          3495.5288
         ],
         "xaxis": "x",
         "y": [
          2.15,
          2.15,
          2.15,
          2.15
         ],
         "yaxis": "y"
        },
        {
         "hovertemplate": "Country Name=Nauru<br>GDP=%{x}<br>Fertility Rate=%{y}<br>Bubble Size=%{marker.size}<extra></extra>",
         "legendgroup": "Nauru",
         "marker": {
          "color": "#FF97FF",
          "size": [
           0,
           0
          ],
          "sizemode": "area",
          "sizeref": 0.0155840875,
          "symbol": "circle"
         },
         "mode": "markers",
         "name": "Nauru",
         "orientation": "v",
         "showlegend": true,
         "type": "scatter",
         "x": [
          9359.986725,
          9359.986725
         ],
         "xaxis": "x",
         "y": [
          3.7310000000000003,
          3.7310000000000003
         ],
         "yaxis": "y"
        },
        {
         "hovertemplate": "Country Name=New Zealand<br>GDP=%{x}<br>Fertility Rate=%{y}<br>Bubble Size=%{marker.size}<extra></extra>",
         "legendgroup": "New Zealand",
         "marker": {
          "color": "#FECB52",
          "size": [
           3.9712650000000003,
           0,
           0,
           0
          ],
          "sizemode": "area",
          "sizeref": 0.0155840875,
          "symbol": "circle"
         },
         "mode": "markers",
         "name": "New Zealand",
         "orientation": "v",
         "showlegend": true,
         "type": "scatter",
         "x": [
          42204.74574,
          42204.74574,
          42204.74574,
          42204.74574
         ],
         "xaxis": "x",
         "y": [
          1.81,
          1.81,
          1.81,
          1.81
         ],
         "yaxis": "y"
        },
        {
         "hovertemplate": "Country Name=Oman<br>GDP=%{x}<br>Fertility Rate=%{y}<br>Bubble Size=%{marker.size}<extra></extra>",
         "legendgroup": "Oman",
         "marker": {
          "color": "#636efa",
          "size": [
           3.4339510000000004,
           0,
           0,
           0
          ],
          "sizemode": "area",
          "sizeref": 0.0155840875,
          "symbol": "circle"
         },
         "mode": "markers",
         "name": "Oman",
         "orientation": "v",
         "showlegend": true,
         "type": "scatter",
         "x": [
          34218.38813,
          34218.38813,
          34218.38813,
          34218.38813
         ],
         "xaxis": "x",
         "y": [
          2.937,
          2.937,
          2.937,
          2.937
         ],
         "yaxis": "y"
        },
        {
         "hovertemplate": "Country Name=Pakistan<br>GDP=%{x}<br>Fertility Rate=%{y}<br>Bubble Size=%{marker.size}<extra></extra>",
         "legendgroup": "Pakistan",
         "marker": {
          "color": "#EF553B",
          "size": [
           3.3312800000000005,
           0,
           0,
           0
          ],
          "sizemode": "area",
          "sizeref": 0.0155840875,
          "symbol": "circle"
         },
         "mode": "markers",
         "name": "Pakistan",
         "orientation": "v",
         "showlegend": true,
         "type": "scatter",
         "x": [
          4891.719774,
          4891.719774,
          4891.719774,
          4891.719774
         ],
         "xaxis": "x",
         "y": [
          3.759,
          3.759,
          3.759,
          3.759
         ],
         "yaxis": "y"
        },
        {
         "hovertemplate": "Country Name=Panama<br>GDP=%{x}<br>Fertility Rate=%{y}<br>Bubble Size=%{marker.size}<extra></extra>",
         "legendgroup": "Panama",
         "marker": {
          "color": "#00cc96",
          "size": [
           2.679025,
           0,
           0,
           0
          ],
          "sizemode": "area",
          "sizeref": 0.0155840875,
          "symbol": "circle"
         },
         "mode": "markers",
         "name": "Panama",
         "orientation": "v",
         "showlegend": true,
         "type": "scatter",
         "x": [
          31638.15192,
          31638.15192,
          31638.15192,
          31638.15192
         ],
         "xaxis": "x",
         "y": [
          2.4930000000000003,
          2.4930000000000003,
          2.4930000000000003,
          2.4930000000000003
         ],
         "yaxis": "y"
        },
        {
         "hovertemplate": "Country Name=Peru<br>GDP=%{x}<br>Fertility Rate=%{y}<br>Bubble Size=%{marker.size}<extra></extra>",
         "legendgroup": "Peru",
         "marker": {
          "color": "#ab63fa",
          "size": [
           2.276321,
           0,
           0,
           0
          ],
          "sizemode": "area",
          "sizeref": 0.0155840875,
          "symbol": "circle"
         },
         "mode": "markers",
         "name": "Peru",
         "orientation": "v",
         "showlegend": true,
         "type": "scatter",
         "x": [
          12442.74646,
          12442.74646,
          12442.74646,
          12442.74646
         ],
         "xaxis": "x",
         "y": [
          2.281,
          2.281,
          2.281,
          2.281
         ],
         "yaxis": "y"
        },
        {
         "hovertemplate": "Country Name=Philippines<br>GDP=%{x}<br>Fertility Rate=%{y}<br>Bubble Size=%{marker.size}<extra></extra>",
         "legendgroup": "Philippines",
         "marker": {
          "color": "#FFA15A",
          "size": [
           2.765176,
           0,
           0,
           0
          ],
          "sizemode": "area",
          "sizeref": 0.0155840875,
          "symbol": "circle"
         },
         "mode": "markers",
         "name": "Philippines",
         "orientation": "v",
         "showlegend": true,
         "type": "scatter",
         "x": [
          8001.75648,
          8001.75648,
          8001.75648,
          8001.75648
         ],
         "xaxis": "x",
         "y": [
          2.865,
          2.865,
          2.865,
          2.865
         ],
         "yaxis": "y"
        },
        {
         "hovertemplate": "Country Name=Palau<br>GDP=%{x}<br>Fertility Rate=%{y}<br>Bubble Size=%{marker.size}<extra></extra>",
         "legendgroup": "Palau",
         "marker": {
          "color": "#19d3f3",
          "size": [
           0,
           0
          ],
          "sizemode": "area",
          "sizeref": 0.0155840875,
          "symbol": "circle"
         },
         "mode": "markers",
         "name": "Palau",
         "orientation": "v",
         "showlegend": true,
         "type": "scatter",
         "x": [
          17594.99385,
          17594.99385
         ],
         "xaxis": "x",
         "y": [
          0,
          0
         ],
         "yaxis": "y"
        },
        {
         "hovertemplate": "Country Name=Papua New Guinea<br>GDP=%{x}<br>Fertility Rate=%{y}<br>Bubble Size=%{marker.size}<extra></extra>",
         "legendgroup": "Papua New Guinea",
         "marker": {
          "color": "#FF6692",
          "size": [
           3.168661,
           0,
           0,
           0
          ],
          "sizemode": "area",
          "sizeref": 0.0155840875,
          "symbol": "circle"
         },
         "mode": "markers",
         "name": "Papua New Guinea",
         "orientation": "v",
         "showlegend": true,
         "type": "scatter",
         "x": [
          3967.016196,
          3967.016196,
          3967.016196,
          3967.016196
         ],
         "xaxis": "x",
         "y": [
          3.432,
          3.432,
          3.432,
          3.432
         ],
         "yaxis": "y"
        },
        {
         "hovertemplate": "Country Name=Poland<br>GDP=%{x}<br>Fertility Rate=%{y}<br>Bubble Size=%{marker.size}<extra></extra>",
         "legendgroup": "Poland",
         "marker": {
          "color": "#B6E880",
          "size": [
           2.2504720000000002,
           0,
           0,
           0
          ],
          "sizemode": "area",
          "sizeref": 0.0155840875,
          "symbol": "circle"
         },
         "mode": "markers",
         "name": "Poland",
         "orientation": "v",
         "showlegend": true,
         "type": "scatter",
         "x": [
          29958.120710000003,
          29958.120710000003,
          29958.120710000003,
          29958.120710000003
         ],
         "xaxis": "x",
         "y": [
          1.48,
          1.48,
          1.48,
          1.48
         ],
         "yaxis": "y"
        },
        {
         "hovertemplate": "Country Name=Puerto Rico<br>GDP=%{x}<br>Fertility Rate=%{y}<br>Bubble Size=%{marker.size}<extra></extra>",
         "legendgroup": "Puerto Rico",
         "marker": {
          "color": "#FF97FF",
          "size": [
           2.726108,
           0,
           0,
           0
          ],
          "sizemode": "area",
          "sizeref": 0.0155840875,
          "symbol": "circle"
         },
         "mode": "markers",
         "name": "Puerto Rico",
         "orientation": "v",
         "showlegend": true,
         "type": "scatter",
         "x": [
          34363.745989999996,
          34363.745989999996,
          34363.745989999996,
          34363.745989999996
         ],
         "xaxis": "x",
         "y": [
          1.101,
          1.101,
          1.101,
          1.101
         ],
         "yaxis": "y"
        },
        {
         "hovertemplate": "Country Name=Portugal<br>GDP=%{x}<br>Fertility Rate=%{y}<br>Bubble Size=%{marker.size}<extra></extra>",
         "legendgroup": "Portugal",
         "marker": {
          "color": "#FECB52",
          "size": [
           4.421461,
           0,
           0,
           0
          ],
          "sizemode": "area",
          "sizeref": 0.0155840875,
          "symbol": "circle"
         },
         "mode": "markers",
         "name": "Portugal",
         "orientation": "v",
         "showlegend": true,
         "type": "scatter",
         "x": [
          33044.716739999996,
          33044.716739999996,
          33044.716739999996,
          33044.716739999996
         ],
         "xaxis": "x",
         "y": [
          1.38,
          1.38,
          1.38,
          1.38
         ],
         "yaxis": "y"
        },
        {
         "hovertemplate": "Country Name=Paraguay<br>GDP=%{x}<br>Fertility Rate=%{y}<br>Bubble Size=%{marker.size}<extra></extra>",
         "legendgroup": "Paraguay",
         "marker": {
          "color": "#636efa",
          "size": [
           2.9588400000000004,
           0,
           0,
           0
          ],
          "sizemode": "area",
          "sizeref": 0.0155840875,
          "symbol": "circle"
         },
         "mode": "markers",
         "name": "Paraguay",
         "orientation": "v",
         "showlegend": true,
         "type": "scatter",
         "x": [
          13604.174719999999,
          13604.174719999999,
          13604.174719999999,
          13604.174719999999
         ],
         "xaxis": "x",
         "y": [
          2.591,
          2.591,
          2.591,
          2.591
         ],
         "yaxis": "y"
        },
        {
         "hovertemplate": "Country Name=French Polynesia<br>GDP=%{x}<br>Fertility Rate=%{y}<br>Bubble Size=%{marker.size}<extra></extra>",
         "legendgroup": "French Polynesia",
         "marker": {
          "color": "#EF553B",
          "size": [
           0,
           0
          ],
          "sizemode": "area",
          "sizeref": 0.0155840875,
          "symbol": "circle"
         },
         "mode": "markers",
         "name": "French Polynesia",
         "orientation": "v",
         "showlegend": true,
         "type": "scatter",
         "x": [
          0,
          0
         ],
         "xaxis": "x",
         "y": [
          1.804,
          1.804
         ],
         "yaxis": "y"
        },
        {
         "hovertemplate": "Country Name=Qatar<br>GDP=%{x}<br>Fertility Rate=%{y}<br>Bubble Size=%{marker.size}<extra></extra>",
         "legendgroup": "Qatar",
         "marker": {
          "color": "#00cc96",
          "size": [
           3.4823269999999997,
           0,
           0,
           0
          ],
          "sizemode": "area",
          "sizeref": 0.0155840875,
          "symbol": "circle"
         },
         "mode": "markers",
         "name": "Qatar",
         "orientation": "v",
         "showlegend": true,
         "type": "scatter",
         "x": [
          92177.59594,
          92177.59594,
          92177.59594,
          92177.59594
         ],
         "xaxis": "x",
         "y": [
          1.839,
          1.839,
          1.839,
          1.839
         ],
         "yaxis": "y"
        },
        {
         "hovertemplate": "Country Name=Romania<br>GDP=%{x}<br>Fertility Rate=%{y}<br>Bubble Size=%{marker.size}<extra></extra>",
         "legendgroup": "Romania",
         "marker": {
          "color": "#ab63fa",
          "size": [
           2.3591740000000003,
           0,
           0,
           0
          ],
          "sizemode": "area",
          "sizeref": 0.0155840875,
          "symbol": "circle"
         },
         "mode": "markers",
         "name": "Romania",
         "orientation": "v",
         "showlegend": true,
         "type": "scatter",
         "x": [
          26943.347739999997,
          26943.347739999997,
          26943.347739999997,
          26943.347739999997
         ],
         "xaxis": "x",
         "y": [
          1.71,
          1.71,
          1.71,
          1.71
         ],
         "yaxis": "y"
        },
        {
         "hovertemplate": "Country Name=Rwanda<br>GDP=%{x}<br>Fertility Rate=%{y}<br>Bubble Size=%{marker.size}<extra></extra>",
         "legendgroup": "Rwanda",
         "marker": {
          "color": "#FFA15A",
          "size": [
           3.86945,
           0,
           0,
           0
          ],
          "sizemode": "area",
          "sizeref": 0.0155840875,
          "symbol": "circle"
         },
         "mode": "markers",
         "name": "Rwanda",
         "orientation": "v",
         "showlegend": true,
         "type": "scatter",
         "x": [
          1934.9729550000002,
          1934.9729550000002,
          1934.9729550000002,
          1934.9729550000002
         ],
         "xaxis": "x",
         "y": [
          4.027,
          4.027,
          4.027,
          4.027
         ],
         "yaxis": "y"
        },
        {
         "hovertemplate": "Country Name=South Asia<br>GDP=%{x}<br>Fertility Rate=%{y}<br>Bubble Size=%{marker.size}<extra></extra>",
         "legendgroup": "South Asia",
         "marker": {
          "color": "#19d3f3",
          "size": [
           3.5664480000000003,
           0,
           0,
           0
          ],
          "sizemode": "area",
          "sizeref": 0.0155840875,
          "symbol": "circle"
         },
         "mode": "markers",
         "name": "South Asia",
         "orientation": "v",
         "showlegend": true,
         "type": "scatter",
         "x": [
          5826.932931,
          5826.932931,
          5826.932931,
          5826.932931
         ],
         "xaxis": "x",
         "y": [
          2.4061305269999997,
          2.4061305269999997,
          2.4061305269999997,
          2.4061305269999997
         ],
         "yaxis": "y"
        },
        {
         "hovertemplate": "Country Name=Saudi Arabia<br>GDP=%{x}<br>Fertility Rate=%{y}<br>Bubble Size=%{marker.size}<extra></extra>",
         "legendgroup": "Saudi Arabia",
         "marker": {
          "color": "#FF6692",
          "size": [
           3.5368470000000003,
           0,
           0,
           0
          ],
          "sizemode": "area",
          "sizeref": 0.0155840875,
          "symbol": "circle"
         },
         "mode": "markers",
         "name": "Saudi Arabia",
         "orientation": "v",
         "showlegend": true,
         "type": "scatter",
         "x": [
          47551.85952,
          47551.85952,
          47551.85952,
          47551.85952
         ],
         "xaxis": "x",
         "y": [
          2.5839999999999996,
          2.5839999999999996,
          2.5839999999999996,
          2.5839999999999996
         ],
         "yaxis": "y"
        },
        {
         "hovertemplate": "Country Name=Sudan<br>GDP=%{x}<br>Fertility Rate=%{y}<br>Bubble Size=%{marker.size}<extra></extra>",
         "legendgroup": "Sudan",
         "marker": {
          "color": "#B6E880",
          "size": [
           3.781451,
           0,
           0,
           0
          ],
          "sizemode": "area",
          "sizeref": 0.0155840875,
          "symbol": "circle"
         },
         "mode": "markers",
         "name": "Sudan",
         "orientation": "v",
         "showlegend": true,
         "type": "scatter",
         "x": [
          4613.950195,
          4613.950195,
          4613.950195,
          4613.950195
         ],
         "xaxis": "x",
         "y": [
          4.761,
          4.761,
          4.761,
          4.761
         ],
         "yaxis": "y"
        },
        {
         "hovertemplate": "Country Name=Senegal<br>GDP=%{x}<br>Fertility Rate=%{y}<br>Bubble Size=%{marker.size}<extra></extra>",
         "legendgroup": "Senegal",
         "marker": {
          "color": "#FF97FF",
          "size": [
           3.3704970000000003,
           0,
           0,
           0
          ],
          "sizemode": "area",
          "sizeref": 0.0155840875,
          "symbol": "circle"
         },
         "mode": "markers",
         "name": "Senegal",
         "orientation": "v",
         "showlegend": true,
         "type": "scatter",
         "x": [
          3259.19258,
          3259.19258,
          3259.19258,
          3259.19258
         ],
         "xaxis": "x",
         "y": [
          4.622,
          4.622,
          4.622,
          4.622
         ],
         "yaxis": "y"
        },
        {
         "hovertemplate": "Country Name=Singapore<br>GDP=%{x}<br>Fertility Rate=%{y}<br>Bubble Size=%{marker.size}<extra></extra>",
         "legendgroup": "Singapore",
         "marker": {
          "color": "#FECB52",
          "size": [
           3.438271,
           0,
           0,
           0
          ],
          "sizemode": "area",
          "sizeref": 0.0155840875,
          "symbol": "circle"
         },
         "mode": "markers",
         "name": "Singapore",
         "orientation": "v",
         "showlegend": true,
         "type": "scatter",
         "x": [
          95334.14557000001,
          95334.14557000001,
          95334.14557000001,
          95334.14557000001
         ],
         "xaxis": "x",
         "y": [
          1.16,
          1.16,
          1.16,
          1.16
         ],
         "yaxis": "y"
        },
        {
         "hovertemplate": "Country Name=Solomon Islands<br>GDP=%{x}<br>Fertility Rate=%{y}<br>Bubble Size=%{marker.size}<extra></extra>",
         "legendgroup": "Solomon Islands",
         "marker": {
          "color": "#636efa",
          "size": [
           3.153068,
           0,
           0,
           0
          ],
          "sizemode": "area",
          "sizeref": 0.0155840875,
          "symbol": "circle"
         },
         "mode": "markers",
         "name": "Solomon Islands",
         "orientation": "v",
         "showlegend": true,
         "type": "scatter",
         "x": [
          2625.1345300000003,
          2625.1345300000003,
          2625.1345300000003,
          2625.1345300000003
         ],
         "xaxis": "x",
         "y": [
          4.218,
          4.218,
          4.218,
          4.218
         ],
         "yaxis": "y"
        },
        {
         "hovertemplate": "Country Name=Sierra Leone<br>GDP=%{x}<br>Fertility Rate=%{y}<br>Bubble Size=%{marker.size}<extra></extra>",
         "legendgroup": "Sierra Leone",
         "marker": {
          "color": "#EF553B",
          "size": [
           3.5815010000000003,
           0,
           0,
           0
          ],
          "sizemode": "area",
          "sizeref": 0.0155840875,
          "symbol": "circle"
         },
         "mode": "markers",
         "name": "Sierra Leone",
         "orientation": "v",
         "showlegend": true,
         "type": "scatter",
         "x": [
          1593.515322,
          1593.515322,
          1593.515322,
          1593.515322
         ],
         "xaxis": "x",
         "y": [
          4.388999999999999,
          4.388999999999999,
          4.388999999999999,
          4.388999999999999
         ],
         "yaxis": "y"
        },
        {
         "hovertemplate": "Country Name=El Salvador<br>GDP=%{x}<br>Fertility Rate=%{y}<br>Bubble Size=%{marker.size}<extra></extra>",
         "legendgroup": "El Salvador",
         "marker": {
          "color": "#00cc96",
          "size": [
           3.025887,
           0,
           0,
           0
          ],
          "sizemode": "area",
          "sizeref": 0.0155840875,
          "symbol": "circle"
         },
         "mode": "markers",
         "name": "El Salvador",
         "orientation": "v",
         "showlegend": true,
         "type": "scatter",
         "x": [
          8617.921708,
          8617.921708,
          8617.921708,
          8617.921708
         ],
         "xaxis": "x",
         "y": [
          1.896,
          1.896,
          1.896,
          1.896
         ],
         "yaxis": "y"
        },
        {
         "hovertemplate": "Country Name=San Marino<br>GDP=%{x}<br>Fertility Rate=%{y}<br>Bubble Size=%{marker.size}<extra></extra>",
         "legendgroup": "San Marino",
         "marker": {
          "color": "#ab63fa",
          "size": [
           0,
           0
          ],
          "sizemode": "area",
          "sizeref": 0.0155840875,
          "symbol": "circle"
         },
         "mode": "markers",
         "name": "San Marino",
         "orientation": "v",
         "showlegend": true,
         "type": "scatter",
         "x": [
          58201.5271,
          58201.5271
         ],
         "xaxis": "x",
         "y": [
          0,
          0
         ],
         "yaxis": "y"
        },
        {
         "hovertemplate": "Country Name=Somalia<br>GDP=%{x}<br>Fertility Rate=%{y}<br>Bubble Size=%{marker.size}<extra></extra>",
         "legendgroup": "Somalia",
         "marker": {
          "color": "#FFA15A",
          "size": [
           3.7847480000000004,
           0,
           0,
           0
          ],
          "sizemode": "area",
          "sizeref": 0.0155840875,
          "symbol": "circle"
         },
         "mode": "markers",
         "name": "Somalia",
         "orientation": "v",
         "showlegend": true,
         "type": "scatter",
         "x": [
          1059.143932,
          1059.143932,
          1059.143932,
          1059.143932
         ],
         "xaxis": "x",
         "y": [
          6.7379999999999995,
          6.7379999999999995,
          6.7379999999999995,
          6.7379999999999995
         ],
         "yaxis": "y"
        },
        {
         "hovertemplate": "Country Name=Serbia<br>GDP=%{x}<br>Fertility Rate=%{y}<br>Bubble Size=%{marker.size}<extra></extra>",
         "legendgroup": "Serbia",
         "marker": {
          "color": "#19d3f3",
          "size": [
           2.570068,
           0,
           0,
           0
          ],
          "sizemode": "area",
          "sizeref": 0.0155840875,
          "symbol": "circle"
         },
         "mode": "markers",
         "name": "Serbia",
         "orientation": "v",
         "showlegend": true,
         "type": "scatter",
         "x": [
          16611.04793,
          16611.04793,
          16611.04793,
          16611.04793
         ],
         "xaxis": "x",
         "y": [
          1.49,
          1.49,
          1.49,
          1.49
         ],
         "yaxis": "y"
        },
        {
         "hovertemplate": "Country Name=South Sudan<br>GDP=%{x}<br>Fertility Rate=%{y}<br>Bubble Size=%{marker.size}<extra></extra>",
         "legendgroup": "South Sudan",
         "marker": {
          "color": "#FF6692",
          "size": [
           3.699147,
           0,
           0,
           0
          ],
          "sizemode": "area",
          "sizeref": 0.0155840875,
          "symbol": "circle"
         },
         "mode": "markers",
         "name": "South Sudan",
         "orientation": "v",
         "showlegend": true,
         "type": "scatter",
         "x": [
          0,
          0,
          0,
          0
         ],
         "xaxis": "x",
         "y": [
          4.775,
          4.775,
          4.775,
          4.775
         ],
         "yaxis": "y"
        },
        {
         "hovertemplate": "Country Name=Sub-Saharan Africa<br>GDP=%{x}<br>Fertility Rate=%{y}<br>Bubble Size=%{marker.size}<extra></extra>",
         "legendgroup": "Sub-Saharan Africa",
         "marker": {
          "color": "#B6E880",
          "size": [
           3.776132,
           0,
           0,
           0
          ],
          "sizemode": "area",
          "sizeref": 0.0155840875,
          "symbol": "circle"
         },
         "mode": "markers",
         "name": "Sub-Saharan Africa",
         "orientation": "v",
         "showlegend": true,
         "type": "scatter",
         "x": [
          3803.309387,
          3803.309387,
          3803.309387,
          3803.309387
         ],
         "xaxis": "x",
         "y": [
          4.840990383,
          4.840990383,
          4.840990383,
          4.840990383
         ],
         "yaxis": "y"
        },
        {
         "hovertemplate": "Country Name=Sao Tome and Principe<br>GDP=%{x}<br>Fertility Rate=%{y}<br>Bubble Size=%{marker.size}<extra></extra>",
         "legendgroup": "Sao Tome and Principe",
         "marker": {
          "color": "#FF97FF",
          "size": [
           3.136314,
           0,
           0,
           0
          ],
          "sizemode": "area",
          "sizeref": 0.0155840875,
          "symbol": "circle"
         },
         "mode": "markers",
         "name": "Sao Tome and Principe",
         "orientation": "v",
         "showlegend": true,
         "type": "scatter",
         "x": [
          3934.8942,
          3934.8942,
          3934.8942,
          3934.8942
         ],
         "xaxis": "x",
         "y": [
          4.1419999999999995,
          4.1419999999999995,
          4.1419999999999995,
          4.1419999999999995
         ],
         "yaxis": "y"
        },
        {
         "hovertemplate": "Country Name=Suriname<br>GDP=%{x}<br>Fertility Rate=%{y}<br>Bubble Size=%{marker.size}<extra></extra>",
         "legendgroup": "Suriname",
         "marker": {
          "color": "#FECB52",
          "size": [
           3.973583,
           0,
           0,
           0
          ],
          "sizemode": "area",
          "sizeref": 0.0155840875,
          "symbol": "circle"
         },
         "mode": "markers",
         "name": "Suriname",
         "orientation": "v",
         "showlegend": true,
         "type": "scatter",
         "x": [
          17753.060269999998,
          17753.060269999998,
          17753.060269999998,
          17753.060269999998
         ],
         "xaxis": "x",
         "y": [
          2.443,
          2.443,
          2.443,
          2.443
         ],
         "yaxis": "y"
        },
        {
         "hovertemplate": "Country Name=Slovenia<br>GDP=%{x}<br>Fertility Rate=%{y}<br>Bubble Size=%{marker.size}<extra></extra>",
         "legendgroup": "Slovenia",
         "marker": {
          "color": "#636efa",
          "size": [
           2.8632779999999998,
           0,
           0,
           0
          ],
          "sizemode": "area",
          "sizeref": 0.0155840875,
          "symbol": "circle"
         },
         "mode": "markers",
         "name": "Slovenia",
         "orientation": "v",
         "showlegend": true,
         "type": "scatter",
         "x": [
          36507.55304,
          36507.55304,
          36507.55304,
          36507.55304
         ],
         "xaxis": "x",
         "y": [
          1.62,
          1.62,
          1.62,
          1.62
         ],
         "yaxis": "y"
        },
        {
         "hovertemplate": "Country Name=Sweden<br>GDP=%{x}<br>Fertility Rate=%{y}<br>Bubble Size=%{marker.size}<extra></extra>",
         "legendgroup": "Sweden",
         "marker": {
          "color": "#EF553B",
          "size": [
           4.487911,
           0,
           0,
           0
          ],
          "sizemode": "area",
          "sizeref": 0.0155840875,
          "symbol": "circle"
         },
         "mode": "markers",
         "name": "Sweden",
         "orientation": "v",
         "showlegend": true,
         "type": "scatter",
         "x": [
          51947.95425,
          51947.95425,
          51947.95425,
          51947.95425
         ],
         "xaxis": "x",
         "y": [
          1.78,
          1.78,
          1.78,
          1.78
         ],
         "yaxis": "y"
        },
        {
         "hovertemplate": "Country Name=Sint Maarten (Dutch part)<br>GDP=%{x}<br>Fertility Rate=%{y}<br>Bubble Size=%{marker.size}<extra></extra>",
         "legendgroup": "Sint Maarten (Dutch part)",
         "marker": {
          "color": "#00cc96",
          "size": [
           0,
           0
          ],
          "sizemode": "area",
          "sizeref": 0.0155840875,
          "symbol": "circle"
         },
         "mode": "markers",
         "name": "Sint Maarten (Dutch part)",
         "orientation": "v",
         "showlegend": true,
         "type": "scatter",
         "x": [
          37914.12297,
          37914.12297
         ],
         "xaxis": "x",
         "y": [
          1.6269999999999998,
          1.6269999999999998
         ],
         "yaxis": "y"
        },
        {
         "hovertemplate": "Country Name=Seychelles<br>GDP=%{x}<br>Fertility Rate=%{y}<br>Bubble Size=%{marker.size}<extra></extra>",
         "legendgroup": "Seychelles",
         "marker": {
          "color": "#ab63fa",
          "size": [
           2.886514,
           0,
           0,
           0
          ],
          "sizemode": "area",
          "sizeref": 0.0155840875,
          "symbol": "circle"
         },
         "mode": "markers",
         "name": "Seychelles",
         "orientation": "v",
         "showlegend": true,
         "type": "scatter",
         "x": [
          27336.608369999998,
          27336.608369999998,
          27336.608369999998,
          27336.608369999998
         ],
         "xaxis": "x",
         "y": [
          2.41,
          2.41,
          2.41,
          2.41
         ],
         "yaxis": "y"
        },
        {
         "hovertemplate": "Country Name=Turks and Caicos Islands<br>GDP=%{x}<br>Fertility Rate=%{y}<br>Bubble Size=%{marker.size}<extra></extra>",
         "legendgroup": "Turks and Caicos Islands",
         "marker": {
          "color": "#FFA15A",
          "size": [
           0,
           0
          ],
          "sizemode": "area",
          "sizeref": 0.0155840875,
          "symbol": "circle"
         },
         "mode": "markers",
         "name": "Turks and Caicos Islands",
         "orientation": "v",
         "showlegend": true,
         "type": "scatter",
         "x": [
          25207.83169,
          25207.83169
         ],
         "xaxis": "x",
         "y": [
          1.7409999999999999,
          1.7409999999999999
         ],
         "yaxis": "y"
        },
        {
         "hovertemplate": "Country Name=Chad<br>GDP=%{x}<br>Fertility Rate=%{y}<br>Bubble Size=%{marker.size}<extra></extra>",
         "legendgroup": "Chad",
         "marker": {
          "color": "#19d3f3",
          "size": [
           3.8748370000000003,
           0,
           0,
           0
          ],
          "sizemode": "area",
          "sizeref": 0.0155840875,
          "symbol": "circle"
         },
         "mode": "markers",
         "name": "Chad",
         "orientation": "v",
         "showlegend": true,
         "type": "scatter",
         "x": [
          1579.7606,
          1579.7606,
          1579.7606,
          1579.7606
         ],
         "xaxis": "x",
         "y": [
          6.537000000000001,
          6.537000000000001,
          6.537000000000001,
          6.537000000000001
         ],
         "yaxis": "y"
        },
        {
         "hovertemplate": "Country Name=Togo<br>GDP=%{x}<br>Fertility Rate=%{y}<br>Bubble Size=%{marker.size}<extra></extra>",
         "legendgroup": "Togo",
         "marker": {
          "color": "#FF6692",
          "size": [
           3.656725,
           0,
           0,
           0
          ],
          "sizemode": "area",
          "sizeref": 0.0155840875,
          "symbol": "circle"
         },
         "mode": "markers",
         "name": "Togo",
         "orientation": "v",
         "showlegend": true,
         "type": "scatter",
         "x": [
          1972.697196,
          1972.697196,
          1972.697196,
          1972.697196
         ],
         "xaxis": "x",
         "y": [
          4.503,
          4.503,
          4.503,
          4.503
         ],
         "yaxis": "y"
        },
        {
         "hovertemplate": "Country Name=Thailand<br>GDP=%{x}<br>Fertility Rate=%{y}<br>Bubble Size=%{marker.size}<extra></extra>",
         "legendgroup": "Thailand",
         "marker": {
          "color": "#B6E880",
          "size": [
           3.085057,
           0,
           0,
           0
          ],
          "sizemode": "area",
          "sizeref": 0.0155840875,
          "symbol": "circle"
         },
         "mode": "markers",
         "name": "Thailand",
         "orientation": "v",
         "showlegend": true,
         "type": "scatter",
         "x": [
          17008.038419999997,
          17008.038419999997,
          17008.038419999997,
          17008.038419999997
         ],
         "xaxis": "x",
         "y": [
          1.41,
          1.41,
          1.41,
          1.41
         ],
         "yaxis": "y"
        },
        {
         "hovertemplate": "Country Name=Tajikistan<br>GDP=%{x}<br>Fertility Rate=%{y}<br>Bubble Size=%{marker.size}<extra></extra>",
         "legendgroup": "Tajikistan",
         "marker": {
          "color": "#FF97FF",
          "size": [
           2.563961,
           0,
           0,
           0
          ],
          "sizemode": "area",
          "sizeref": 0.0155840875,
          "symbol": "circle"
         },
         "mode": "markers",
         "name": "Tajikistan",
         "orientation": "v",
         "showlegend": true,
         "type": "scatter",
         "x": [
          3236.4393440000003,
          3236.4393440000003,
          3236.4393440000003,
          3236.4393440000003
         ],
         "xaxis": "x",
         "y": [
          3.29,
          3.29,
          3.29,
          3.29
         ],
         "yaxis": "y"
        },
        {
         "hovertemplate": "Country Name=Turkmenistan<br>GDP=%{x}<br>Fertility Rate=%{y}<br>Bubble Size=%{marker.size}<extra></extra>",
         "legendgroup": "Turkmenistan",
         "marker": {
          "color": "#FECB52",
          "size": [
           2.823086,
           0,
           0,
           0
          ],
          "sizemode": "area",
          "sizeref": 0.0155840875,
          "symbol": "circle"
         },
         "mode": "markers",
         "name": "Turkmenistan",
         "orientation": "v",
         "showlegend": true,
         "type": "scatter",
         "x": [
          13703.512719999999,
          13703.512719999999,
          13703.512719999999,
          13703.512719999999
         ],
         "xaxis": "x",
         "y": [
          2.8360000000000003,
          2.8360000000000003,
          2.8360000000000003,
          2.8360000000000003
         ],
         "yaxis": "y"
        },
        {
         "hovertemplate": "Country Name=Tonga<br>GDP=%{x}<br>Fertility Rate=%{y}<br>Bubble Size=%{marker.size}<extra></extra>",
         "legendgroup": "Tonga",
         "marker": {
          "color": "#636efa",
          "size": [
           2.9189700000000003,
           0,
           0,
           0
          ],
          "sizemode": "area",
          "sizeref": 0.0155840875,
          "symbol": "circle"
         },
         "mode": "markers",
         "name": "Tonga",
         "orientation": "v",
         "showlegend": true,
         "type": "scatter",
         "x": [
          6257.089734,
          6257.089734,
          6257.089734,
          6257.089734
         ],
         "xaxis": "x",
         "y": [
          3.407,
          3.407,
          3.407,
          3.407
         ],
         "yaxis": "y"
        },
        {
         "hovertemplate": "Country Name=Trinidad and Tobago<br>GDP=%{x}<br>Fertility Rate=%{y}<br>Bubble Size=%{marker.size}<extra></extra>",
         "legendgroup": "Trinidad and Tobago",
         "marker": {
          "color": "#EF553B",
          "size": [
           3.329938,
           0,
           0,
           0
          ],
          "sizemode": "area",
          "sizeref": 0.0155840875,
          "symbol": "circle"
         },
         "mode": "markers",
         "name": "Trinidad and Tobago",
         "orientation": "v",
         "showlegend": true,
         "type": "scatter",
         "x": [
          26213.92451,
          26213.92451,
          26213.92451,
          26213.92451
         ],
         "xaxis": "x",
         "y": [
          1.662,
          1.662,
          1.662,
          1.662
         ],
         "yaxis": "y"
        },
        {
         "hovertemplate": "Country Name=Tunisia<br>GDP=%{x}<br>Fertility Rate=%{y}<br>Bubble Size=%{marker.size}<extra></extra>",
         "legendgroup": "Tunisia",
         "marker": {
          "color": "#00cc96",
          "size": [
           3.915189,
           0,
           0,
           0
          ],
          "sizemode": "area",
          "sizeref": 0.0155840875,
          "symbol": "circle"
         },
         "mode": "markers",
         "name": "Tunisia",
         "orientation": "v",
         "showlegend": true,
         "type": "scatter",
         "x": [
          10874.946890000001,
          10874.946890000001,
          10874.946890000001,
          10874.946890000001
         ],
         "xaxis": "x",
         "y": [
          2.221,
          2.221,
          2.221,
          2.221
         ],
         "yaxis": "y"
        },
        {
         "hovertemplate": "Country Name=Tuvalu<br>GDP=%{x}<br>Fertility Rate=%{y}<br>Bubble Size=%{marker.size}<extra></extra>",
         "legendgroup": "Tuvalu",
         "marker": {
          "color": "#ab63fa",
          "size": [
           0,
           0
          ],
          "sizemode": "area",
          "sizeref": 0.0155840875,
          "symbol": "circle"
         },
         "mode": "markers",
         "name": "Tuvalu",
         "orientation": "v",
         "showlegend": true,
         "type": "scatter",
         "x": [
          4236.403023,
          4236.403023
         ],
         "xaxis": "x",
         "y": [
          3.1860000000000004,
          3.1860000000000004
         ],
         "yaxis": "y"
        },
        {
         "hovertemplate": "Country Name=Tanzania<br>GDP=%{x}<br>Fertility Rate=%{y}<br>Bubble Size=%{marker.size}<extra></extra>",
         "legendgroup": "Tanzania",
         "marker": {
          "color": "#FFA15A",
          "size": [
           3.6857480000000002,
           0,
           0,
           0
          ],
          "sizemode": "area",
          "sizeref": 0.0155840875,
          "symbol": "circle"
         },
         "mode": "markers",
         "name": "Tanzania",
         "orientation": "v",
         "showlegend": true,
         "type": "scatter",
         "x": [
          2457.618408,
          2457.618408,
          2457.618408,
          2457.618408
         ],
         "xaxis": "x",
         "y": [
          4.993,
          4.993,
          4.993,
          4.993
         ],
         "yaxis": "y"
        },
        {
         "hovertemplate": "Country Name=Uganda<br>GDP=%{x}<br>Fertility Rate=%{y}<br>Bubble Size=%{marker.size}<extra></extra>",
         "legendgroup": "Uganda",
         "marker": {
          "color": "#19d3f3",
          "size": [
           4.918028,
           0,
           0,
           0
          ],
          "sizemode": "area",
          "sizeref": 0.0155840875,
          "symbol": "circle"
         },
         "mode": "markers",
         "name": "Uganda",
         "orientation": "v",
         "showlegend": true,
         "type": "scatter",
         "x": [
          2128.396869,
          2128.396869,
          2128.396869,
          2128.396869
         ],
         "xaxis": "x",
         "y": [
          5.052,
          5.052,
          5.052,
          5.052
         ],
         "yaxis": "y"
        },
        {
         "hovertemplate": "Country Name=Ukraine<br>GDP=%{x}<br>Fertility Rate=%{y}<br>Bubble Size=%{marker.size}<extra></extra>",
         "legendgroup": "Ukraine",
         "marker": {
          "color": "#FF6692",
          "size": [
           4.071915,
           0,
           0,
           0
          ],
          "sizemode": "area",
          "sizeref": 0.0155840875,
          "symbol": "circle"
         },
         "mode": "markers",
         "name": "Ukraine",
         "orientation": "v",
         "showlegend": true,
         "type": "scatter",
         "x": [
          11860.56055,
          11860.56055,
          11860.56055,
          11860.56055
         ],
         "xaxis": "x",
         "y": [
          1.374,
          1.374,
          1.374,
          1.374
         ],
         "yaxis": "y"
        },
        {
         "hovertemplate": "Country Name=Uruguay<br>GDP=%{x}<br>Fertility Rate=%{y}<br>Bubble Size=%{marker.size}<extra></extra>",
         "legendgroup": "Uruguay",
         "marker": {
          "color": "#B6E880",
          "size": [
           3.617574,
           0,
           0,
           0
          ],
          "sizemode": "area",
          "sizeref": 0.0155840875,
          "symbol": "circle"
         },
         "mode": "markers",
         "name": "Uruguay",
         "orientation": "v",
         "showlegend": true,
         "type": "scatter",
         "x": [
          23384.74019,
          23384.74019,
          23384.74019,
          23384.74019
         ],
         "xaxis": "x",
         "y": [
          1.796,
          1.796,
          1.796,
          1.796
         ],
         "yaxis": "y"
        },
        {
         "hovertemplate": "Country Name=United States<br>GDP=%{x}<br>Fertility Rate=%{y}<br>Bubble Size=%{marker.size}<extra></extra>",
         "legendgroup": "United States",
         "marker": {
          "color": "#FF97FF",
          "size": [
           4.83561,
           0,
           0,
           0
          ],
          "sizemode": "area",
          "sizeref": 0.0155840875,
          "symbol": "circle"
         },
         "mode": "markers",
         "name": "United States",
         "orientation": "v",
         "showlegend": true,
         "type": "scatter",
         "x": [
          59907.75426,
          59907.75426,
          59907.75426,
          59907.75426
         ],
         "xaxis": "x",
         "y": [
          1.7655,
          1.7655,
          1.7655,
          1.7655
         ],
         "yaxis": "y"
        },
        {
         "hovertemplate": "Country Name=Uzbekistan<br>GDP=%{x}<br>Fertility Rate=%{y}<br>Bubble Size=%{marker.size}<extra></extra>",
         "legendgroup": "Uzbekistan",
         "marker": {
          "color": "#FECB52",
          "size": [
           2.886924,
           0,
           0,
           0
          ],
          "sizemode": "area",
          "sizeref": 0.0155840875,
          "symbol": "circle"
         },
         "mode": "markers",
         "name": "Uzbekistan",
         "orientation": "v",
         "showlegend": true,
         "type": "scatter",
         "x": [
          6840.709859999999,
          6840.709859999999,
          6840.709859999999,
          6840.709859999999
         ],
         "xaxis": "x",
         "y": [
          2.419,
          2.419,
          2.419,
          2.419
         ],
         "yaxis": "y"
        },
        {
         "hovertemplate": "Country Name=British Virgin Islands<br>GDP=%{x}<br>Fertility Rate=%{y}<br>Bubble Size=%{marker.size}<extra></extra>",
         "legendgroup": "British Virgin Islands",
         "marker": {
          "color": "#636efa",
          "size": [
           0,
           0
          ],
          "sizemode": "area",
          "sizeref": 0.0155840875,
          "symbol": "circle"
         },
         "mode": "markers",
         "name": "British Virgin Islands",
         "orientation": "v",
         "showlegend": true,
         "type": "scatter",
         "x": [
          0,
          0
         ],
         "xaxis": "x",
         "y": [
          0.872,
          0.872
         ],
         "yaxis": "y"
        },
        {
         "hovertemplate": "Country Name=Vietnam<br>GDP=%{x}<br>Fertility Rate=%{y}<br>Bubble Size=%{marker.size}<extra></extra>",
         "legendgroup": "Vietnam",
         "marker": {
          "color": "#EF553B",
          "size": [
           2.87945,
           0,
           0,
           0
          ],
          "sizemode": "area",
          "sizeref": 0.0155840875,
          "symbol": "circle"
         },
         "mode": "markers",
         "name": "Vietnam",
         "orientation": "v",
         "showlegend": true,
         "type": "scatter",
         "x": [
          9050.688534,
          9050.688534,
          9050.688534,
          9050.688534
         ],
         "xaxis": "x",
         "y": [
          1.93,
          1.93,
          1.93,
          1.93
         ],
         "yaxis": "y"
        },
        {
         "hovertemplate": "Country Name=Vanuatu<br>GDP=%{x}<br>Fertility Rate=%{y}<br>Bubble Size=%{marker.size}<extra></extra>",
         "legendgroup": "Vanuatu",
         "marker": {
          "color": "#00cc96",
          "size": [
           3.122695,
           0,
           0,
           0
          ],
          "sizemode": "area",
          "sizeref": 0.0155840875,
          "symbol": "circle"
         },
         "mode": "markers",
         "name": "Vanuatu",
         "orientation": "v",
         "showlegend": true,
         "type": "scatter",
         "x": [
          3031.243172,
          3031.243172,
          3031.243172,
          3031.243172
         ],
         "xaxis": "x",
         "y": [
          3.91,
          3.91,
          3.91,
          3.91
         ],
         "yaxis": "y"
        },
        {
         "hovertemplate": "Country Name=World<br>GDP=%{x}<br>Fertility Rate=%{y}<br>Bubble Size=%{marker.size}<extra></extra>",
         "legendgroup": "World",
         "marker": {
          "color": "#ab63fa",
          "size": [
           3.4410870000000005,
           0,
           0,
           0
          ],
          "sizemode": "area",
          "sizeref": 0.0155840875,
          "symbol": "circle"
         },
         "mode": "markers",
         "name": "World",
         "orientation": "v",
         "showlegend": true,
         "type": "scatter",
         "x": [
          16169.689869999998,
          16169.689869999998,
          16169.689869999998,
          16169.689869999998
         ],
         "xaxis": "x",
         "y": [
          2.459191351,
          2.459191351,
          2.459191351,
          2.459191351
         ],
         "yaxis": "y"
        },
        {
         "hovertemplate": "Country Name=Samoa<br>GDP=%{x}<br>Fertility Rate=%{y}<br>Bubble Size=%{marker.size}<extra></extra>",
         "legendgroup": "Samoa",
         "marker": {
          "color": "#FFA15A",
          "size": [
           3.038938,
           0,
           0,
           0
          ],
          "sizemode": "area",
          "sizeref": 0.0155840875,
          "symbol": "circle"
         },
         "mode": "markers",
         "name": "Samoa",
         "orientation": "v",
         "showlegend": true,
         "type": "scatter",
         "x": [
          6238.904021,
          6238.904021,
          6238.904021,
          6238.904021
         ],
         "xaxis": "x",
         "y": [
          4.183,
          4.183,
          4.183,
          4.183
         ],
         "yaxis": "y"
        },
        {
         "hovertemplate": "Country Name=South Africa<br>GDP=%{x}<br>Fertility Rate=%{y}<br>Bubble Size=%{marker.size}<extra></extra>",
         "legendgroup": "South Africa",
         "marker": {
          "color": "#19d3f3",
          "size": [
           3.7458709999999997,
           0,
           0,
           0
          ],
          "sizemode": "area",
          "sizeref": 0.0155840875,
          "symbol": "circle"
         },
         "mode": "markers",
         "name": "South Africa",
         "orientation": "v",
         "showlegend": true,
         "type": "scatter",
         "x": [
          13950.453480000002,
          13950.453480000002,
          13950.453480000002,
          13950.453480000002
         ],
         "xaxis": "x",
         "y": [
          2.334,
          2.334,
          2.334,
          2.334
         ],
         "yaxis": "y"
        },
        {
         "hovertemplate": "Country Name=Zambia<br>GDP=%{x}<br>Fertility Rate=%{y}<br>Bubble Size=%{marker.size}<extra></extra>",
         "legendgroup": "Zambia",
         "marker": {
          "color": "#FF6692",
          "size": [
           3.641811,
           0,
           0,
           0
          ],
          "sizemode": "area",
          "sizeref": 0.0155840875,
          "symbol": "circle"
         },
         "mode": "markers",
         "name": "Zambia",
         "orientation": "v",
         "showlegend": true,
         "type": "scatter",
         "x": [
          3395.479686,
          3395.479686,
          3395.479686,
          3395.479686
         ],
         "xaxis": "x",
         "y": [
          4.614,
          4.614,
          4.614,
          4.614
         ],
         "yaxis": "y"
        },
        {
         "hovertemplate": "Country Name=Zimbabwe<br>GDP=%{x}<br>Fertility Rate=%{y}<br>Bubble Size=%{marker.size}<extra></extra>",
         "legendgroup": "Zimbabwe",
         "marker": {
          "color": "#B6E880",
          "size": [
           3.192789,
           0,
           0,
           0
          ],
          "sizemode": "area",
          "sizeref": 0.0155840875,
          "symbol": "circle"
         },
         "mode": "markers",
         "name": "Zimbabwe",
         "orientation": "v",
         "showlegend": true,
         "type": "scatter",
         "x": [
          2331.780833,
          2331.780833,
          2331.780833,
          2331.780833
         ],
         "xaxis": "x",
         "y": [
          3.7060000000000004,
          3.7060000000000004,
          3.7060000000000004,
          3.7060000000000004
         ],
         "yaxis": "y"
        }
       ],
       "layout": {
        "legend": {
         "itemsizing": "constant",
         "title": {
          "text": "Country Name"
         },
         "tracegroupgap": 0
        },
        "template": {
         "data": {
          "bar": [
           {
            "error_x": {
             "color": "#2a3f5f"
            },
            "error_y": {
             "color": "#2a3f5f"
            },
            "marker": {
             "line": {
              "color": "#E5ECF6",
              "width": 0.5
             },
             "pattern": {
              "fillmode": "overlay",
              "size": 10,
              "solidity": 0.2
             }
            },
            "type": "bar"
           }
          ],
          "barpolar": [
           {
            "marker": {
             "line": {
              "color": "#E5ECF6",
              "width": 0.5
             },
             "pattern": {
              "fillmode": "overlay",
              "size": 10,
              "solidity": 0.2
             }
            },
            "type": "barpolar"
           }
          ],
          "carpet": [
           {
            "aaxis": {
             "endlinecolor": "#2a3f5f",
             "gridcolor": "white",
             "linecolor": "white",
             "minorgridcolor": "white",
             "startlinecolor": "#2a3f5f"
            },
            "baxis": {
             "endlinecolor": "#2a3f5f",
             "gridcolor": "white",
             "linecolor": "white",
             "minorgridcolor": "white",
             "startlinecolor": "#2a3f5f"
            },
            "type": "carpet"
           }
          ],
          "choropleth": [
           {
            "colorbar": {
             "outlinewidth": 0,
             "ticks": ""
            },
            "type": "choropleth"
           }
          ],
          "contour": [
           {
            "colorbar": {
             "outlinewidth": 0,
             "ticks": ""
            },
            "colorscale": [
             [
              0,
              "#0d0887"
             ],
             [
              0.1111111111111111,
              "#46039f"
             ],
             [
              0.2222222222222222,
              "#7201a8"
             ],
             [
              0.3333333333333333,
              "#9c179e"
             ],
             [
              0.4444444444444444,
              "#bd3786"
             ],
             [
              0.5555555555555556,
              "#d8576b"
             ],
             [
              0.6666666666666666,
              "#ed7953"
             ],
             [
              0.7777777777777778,
              "#fb9f3a"
             ],
             [
              0.8888888888888888,
              "#fdca26"
             ],
             [
              1,
              "#f0f921"
             ]
            ],
            "type": "contour"
           }
          ],
          "contourcarpet": [
           {
            "colorbar": {
             "outlinewidth": 0,
             "ticks": ""
            },
            "type": "contourcarpet"
           }
          ],
          "heatmap": [
           {
            "colorbar": {
             "outlinewidth": 0,
             "ticks": ""
            },
            "colorscale": [
             [
              0,
              "#0d0887"
             ],
             [
              0.1111111111111111,
              "#46039f"
             ],
             [
              0.2222222222222222,
              "#7201a8"
             ],
             [
              0.3333333333333333,
              "#9c179e"
             ],
             [
              0.4444444444444444,
              "#bd3786"
             ],
             [
              0.5555555555555556,
              "#d8576b"
             ],
             [
              0.6666666666666666,
              "#ed7953"
             ],
             [
              0.7777777777777778,
              "#fb9f3a"
             ],
             [
              0.8888888888888888,
              "#fdca26"
             ],
             [
              1,
              "#f0f921"
             ]
            ],
            "type": "heatmap"
           }
          ],
          "heatmapgl": [
           {
            "colorbar": {
             "outlinewidth": 0,
             "ticks": ""
            },
            "colorscale": [
             [
              0,
              "#0d0887"
             ],
             [
              0.1111111111111111,
              "#46039f"
             ],
             [
              0.2222222222222222,
              "#7201a8"
             ],
             [
              0.3333333333333333,
              "#9c179e"
             ],
             [
              0.4444444444444444,
              "#bd3786"
             ],
             [
              0.5555555555555556,
              "#d8576b"
             ],
             [
              0.6666666666666666,
              "#ed7953"
             ],
             [
              0.7777777777777778,
              "#fb9f3a"
             ],
             [
              0.8888888888888888,
              "#fdca26"
             ],
             [
              1,
              "#f0f921"
             ]
            ],
            "type": "heatmapgl"
           }
          ],
          "histogram": [
           {
            "marker": {
             "pattern": {
              "fillmode": "overlay",
              "size": 10,
              "solidity": 0.2
             }
            },
            "type": "histogram"
           }
          ],
          "histogram2d": [
           {
            "colorbar": {
             "outlinewidth": 0,
             "ticks": ""
            },
            "colorscale": [
             [
              0,
              "#0d0887"
             ],
             [
              0.1111111111111111,
              "#46039f"
             ],
             [
              0.2222222222222222,
              "#7201a8"
             ],
             [
              0.3333333333333333,
              "#9c179e"
             ],
             [
              0.4444444444444444,
              "#bd3786"
             ],
             [
              0.5555555555555556,
              "#d8576b"
             ],
             [
              0.6666666666666666,
              "#ed7953"
             ],
             [
              0.7777777777777778,
              "#fb9f3a"
             ],
             [
              0.8888888888888888,
              "#fdca26"
             ],
             [
              1,
              "#f0f921"
             ]
            ],
            "type": "histogram2d"
           }
          ],
          "histogram2dcontour": [
           {
            "colorbar": {
             "outlinewidth": 0,
             "ticks": ""
            },
            "colorscale": [
             [
              0,
              "#0d0887"
             ],
             [
              0.1111111111111111,
              "#46039f"
             ],
             [
              0.2222222222222222,
              "#7201a8"
             ],
             [
              0.3333333333333333,
              "#9c179e"
             ],
             [
              0.4444444444444444,
              "#bd3786"
             ],
             [
              0.5555555555555556,
              "#d8576b"
             ],
             [
              0.6666666666666666,
              "#ed7953"
             ],
             [
              0.7777777777777778,
              "#fb9f3a"
             ],
             [
              0.8888888888888888,
              "#fdca26"
             ],
             [
              1,
              "#f0f921"
             ]
            ],
            "type": "histogram2dcontour"
           }
          ],
          "mesh3d": [
           {
            "colorbar": {
             "outlinewidth": 0,
             "ticks": ""
            },
            "type": "mesh3d"
           }
          ],
          "parcoords": [
           {
            "line": {
             "colorbar": {
              "outlinewidth": 0,
              "ticks": ""
             }
            },
            "type": "parcoords"
           }
          ],
          "pie": [
           {
            "automargin": true,
            "type": "pie"
           }
          ],
          "scatter": [
           {
            "fillpattern": {
             "fillmode": "overlay",
             "size": 10,
             "solidity": 0.2
            },
            "type": "scatter"
           }
          ],
          "scatter3d": [
           {
            "line": {
             "colorbar": {
              "outlinewidth": 0,
              "ticks": ""
             }
            },
            "marker": {
             "colorbar": {
              "outlinewidth": 0,
              "ticks": ""
             }
            },
            "type": "scatter3d"
           }
          ],
          "scattercarpet": [
           {
            "marker": {
             "colorbar": {
              "outlinewidth": 0,
              "ticks": ""
             }
            },
            "type": "scattercarpet"
           }
          ],
          "scattergeo": [
           {
            "marker": {
             "colorbar": {
              "outlinewidth": 0,
              "ticks": ""
             }
            },
            "type": "scattergeo"
           }
          ],
          "scattergl": [
           {
            "marker": {
             "colorbar": {
              "outlinewidth": 0,
              "ticks": ""
             }
            },
            "type": "scattergl"
           }
          ],
          "scattermapbox": [
           {
            "marker": {
             "colorbar": {
              "outlinewidth": 0,
              "ticks": ""
             }
            },
            "type": "scattermapbox"
           }
          ],
          "scatterpolar": [
           {
            "marker": {
             "colorbar": {
              "outlinewidth": 0,
              "ticks": ""
             }
            },
            "type": "scatterpolar"
           }
          ],
          "scatterpolargl": [
           {
            "marker": {
             "colorbar": {
              "outlinewidth": 0,
              "ticks": ""
             }
            },
            "type": "scatterpolargl"
           }
          ],
          "scatterternary": [
           {
            "marker": {
             "colorbar": {
              "outlinewidth": 0,
              "ticks": ""
             }
            },
            "type": "scatterternary"
           }
          ],
          "surface": [
           {
            "colorbar": {
             "outlinewidth": 0,
             "ticks": ""
            },
            "colorscale": [
             [
              0,
              "#0d0887"
             ],
             [
              0.1111111111111111,
              "#46039f"
             ],
             [
              0.2222222222222222,
              "#7201a8"
             ],
             [
              0.3333333333333333,
              "#9c179e"
             ],
             [
              0.4444444444444444,
              "#bd3786"
             ],
             [
              0.5555555555555556,
              "#d8576b"
             ],
             [
              0.6666666666666666,
              "#ed7953"
             ],
             [
              0.7777777777777778,
              "#fb9f3a"
             ],
             [
              0.8888888888888888,
              "#fdca26"
             ],
             [
              1,
              "#f0f921"
             ]
            ],
            "type": "surface"
           }
          ],
          "table": [
           {
            "cells": {
             "fill": {
              "color": "#EBF0F8"
             },
             "line": {
              "color": "white"
             }
            },
            "header": {
             "fill": {
              "color": "#C8D4E3"
             },
             "line": {
              "color": "white"
             }
            },
            "type": "table"
           }
          ]
         },
         "layout": {
          "annotationdefaults": {
           "arrowcolor": "#2a3f5f",
           "arrowhead": 0,
           "arrowwidth": 1
          },
          "autotypenumbers": "strict",
          "coloraxis": {
           "colorbar": {
            "outlinewidth": 0,
            "ticks": ""
           }
          },
          "colorscale": {
           "diverging": [
            [
             0,
             "#8e0152"
            ],
            [
             0.1,
             "#c51b7d"
            ],
            [
             0.2,
             "#de77ae"
            ],
            [
             0.3,
             "#f1b6da"
            ],
            [
             0.4,
             "#fde0ef"
            ],
            [
             0.5,
             "#f7f7f7"
            ],
            [
             0.6,
             "#e6f5d0"
            ],
            [
             0.7,
             "#b8e186"
            ],
            [
             0.8,
             "#7fbc41"
            ],
            [
             0.9,
             "#4d9221"
            ],
            [
             1,
             "#276419"
            ]
           ],
           "sequential": [
            [
             0,
             "#0d0887"
            ],
            [
             0.1111111111111111,
             "#46039f"
            ],
            [
             0.2222222222222222,
             "#7201a8"
            ],
            [
             0.3333333333333333,
             "#9c179e"
            ],
            [
             0.4444444444444444,
             "#bd3786"
            ],
            [
             0.5555555555555556,
             "#d8576b"
            ],
            [
             0.6666666666666666,
             "#ed7953"
            ],
            [
             0.7777777777777778,
             "#fb9f3a"
            ],
            [
             0.8888888888888888,
             "#fdca26"
            ],
            [
             1,
             "#f0f921"
            ]
           ],
           "sequentialminus": [
            [
             0,
             "#0d0887"
            ],
            [
             0.1111111111111111,
             "#46039f"
            ],
            [
             0.2222222222222222,
             "#7201a8"
            ],
            [
             0.3333333333333333,
             "#9c179e"
            ],
            [
             0.4444444444444444,
             "#bd3786"
            ],
            [
             0.5555555555555556,
             "#d8576b"
            ],
            [
             0.6666666666666666,
             "#ed7953"
            ],
            [
             0.7777777777777778,
             "#fb9f3a"
            ],
            [
             0.8888888888888888,
             "#fdca26"
            ],
            [
             1,
             "#f0f921"
            ]
           ]
          },
          "colorway": [
           "#636efa",
           "#EF553B",
           "#00cc96",
           "#ab63fa",
           "#FFA15A",
           "#19d3f3",
           "#FF6692",
           "#B6E880",
           "#FF97FF",
           "#FECB52"
          ],
          "font": {
           "color": "#2a3f5f"
          },
          "geo": {
           "bgcolor": "white",
           "lakecolor": "white",
           "landcolor": "#E5ECF6",
           "showlakes": true,
           "showland": true,
           "subunitcolor": "white"
          },
          "hoverlabel": {
           "align": "left"
          },
          "hovermode": "closest",
          "mapbox": {
           "style": "light"
          },
          "paper_bgcolor": "white",
          "plot_bgcolor": "#E5ECF6",
          "polar": {
           "angularaxis": {
            "gridcolor": "white",
            "linecolor": "white",
            "ticks": ""
           },
           "bgcolor": "#E5ECF6",
           "radialaxis": {
            "gridcolor": "white",
            "linecolor": "white",
            "ticks": ""
           }
          },
          "scene": {
           "xaxis": {
            "backgroundcolor": "#E5ECF6",
            "gridcolor": "white",
            "gridwidth": 2,
            "linecolor": "white",
            "showbackground": true,
            "ticks": "",
            "zerolinecolor": "white"
           },
           "yaxis": {
            "backgroundcolor": "#E5ECF6",
            "gridcolor": "white",
            "gridwidth": 2,
            "linecolor": "white",
            "showbackground": true,
            "ticks": "",
            "zerolinecolor": "white"
           },
           "zaxis": {
            "backgroundcolor": "#E5ECF6",
            "gridcolor": "white",
            "gridwidth": 2,
            "linecolor": "white",
            "showbackground": true,
            "ticks": "",
            "zerolinecolor": "white"
           }
          },
          "shapedefaults": {
           "line": {
            "color": "#2a3f5f"
           }
          },
          "ternary": {
           "aaxis": {
            "gridcolor": "white",
            "linecolor": "white",
            "ticks": ""
           },
           "baxis": {
            "gridcolor": "white",
            "linecolor": "white",
            "ticks": ""
           },
           "bgcolor": "#E5ECF6",
           "caxis": {
            "gridcolor": "white",
            "linecolor": "white",
            "ticks": ""
           }
          },
          "title": {
           "x": 0.05
          },
          "xaxis": {
           "automargin": true,
           "gridcolor": "white",
           "linecolor": "white",
           "ticks": "",
           "title": {
            "standoff": 15
           },
           "zerolinecolor": "white",
           "zerolinewidth": 2
          },
          "yaxis": {
           "automargin": true,
           "gridcolor": "white",
           "linecolor": "white",
           "ticks": "",
           "title": {
            "standoff": 15
           },
           "zerolinecolor": "white",
           "zerolinewidth": 2
          }
         }
        },
        "title": {
         "text": "Bubble Chart for Year 2022"
        },
        "xaxis": {
         "anchor": "y",
         "domain": [
          0,
          1
         ],
         "title": {
          "text": "GDP"
         }
        },
        "yaxis": {
         "anchor": "x",
         "domain": [
          0,
          1
         ],
         "title": {
          "text": "Fertility Rate"
         }
        }
       }
      },
      "text/html": [
       "<div>                            <div id=\"1187e8ac-09cf-46b7-a1b0-26aae6b4f1dc\" class=\"plotly-graph-div\" style=\"height:525px; width:100%;\"></div>            <script type=\"text/javascript\">                require([\"plotly\"], function(Plotly) {                    window.PLOTLYENV=window.PLOTLYENV || {};                                    if (document.getElementById(\"1187e8ac-09cf-46b7-a1b0-26aae6b4f1dc\")) {                    Plotly.newPlot(                        \"1187e8ac-09cf-46b7-a1b0-26aae6b4f1dc\",                        [{\"hovertemplate\":\"Country Name=Aruba<br>GDP=%{x}<br>Fertility Rate=%{y}<br>Bubble Size=%{marker.size}<extra></extra>\",\"legendgroup\":\"Aruba\",\"marker\":{\"color\":\"#636efa\",\"size\":[0.0,0.0],\"sizemode\":\"area\",\"sizeref\":0.0155840875,\"symbol\":\"circle\"},\"mode\":\"markers\",\"name\":\"Aruba\",\"orientation\":\"v\",\"showlegend\":true,\"x\":[38865.1882,38865.1882],\"xaxis\":\"x\",\"y\":[1.839,1.839],\"yaxis\":\"y\",\"type\":\"scatter\"},{\"hovertemplate\":\"Country Name=Afghanistan<br>GDP=%{x}<br>Fertility Rate=%{y}<br>Bubble Size=%{marker.size}<extra></extra>\",\"legendgroup\":\"Afghanistan\",\"marker\":{\"color\":\"#EF553B\",\"size\":[4.136347,0.0,0.0,0.0],\"sizemode\":\"area\",\"sizeref\":0.0155840875,\"symbol\":\"circle\"},\"mode\":\"markers\",\"name\":\"Afghanistan\",\"orientation\":\"v\",\"showlegend\":true,\"x\":[2096.093111,2096.093111,2096.093111,2096.093111],\"xaxis\":\"x\",\"y\":[5.129,5.129,5.129,5.129],\"yaxis\":\"y\",\"type\":\"scatter\"},{\"hovertemplate\":\"Country Name=Angola<br>GDP=%{x}<br>Fertility Rate=%{y}<br>Bubble Size=%{marker.size}<extra></extra>\",\"legendgroup\":\"Angola\",\"marker\":{\"color\":\"#00cc96\",\"size\":[4.160483999999999,0.0,0.0,0.0],\"sizemode\":\"area\",\"sizeref\":0.0155840875,\"symbol\":\"circle\"},\"mode\":\"markers\",\"name\":\"Angola\",\"orientation\":\"v\",\"showlegend\":true,\"x\":[7216.0613730000005,7216.0613730000005,7216.0613730000005,7216.0613730000005],\"xaxis\":\"x\",\"y\":[5.6,5.6,5.6,5.6],\"yaxis\":\"y\",\"type\":\"scatter\"},{\"hovertemplate\":\"Country Name=Albania<br>GDP=%{x}<br>Fertility Rate=%{y}<br>Bubble Size=%{marker.size}<extra></extra>\",\"legendgroup\":\"Albania\",\"marker\":{\"color\":\"#ab63fa\",\"size\":[2.208414,0.0,0.0,0.0],\"sizemode\":\"area\",\"sizeref\":0.0155840875,\"symbol\":\"circle\"},\"mode\":\"markers\",\"name\":\"Albania\",\"orientation\":\"v\",\"showlegend\":true,\"x\":[12770.99186,12770.99186,12770.99186,12770.99186],\"xaxis\":\"x\",\"y\":[1.4909999999999999,1.4909999999999999,1.4909999999999999,1.4909999999999999],\"yaxis\":\"y\",\"type\":\"scatter\"},{\"hovertemplate\":\"Country Name=Andorra<br>GDP=%{x}<br>Fertility Rate=%{y}<br>Bubble Size=%{marker.size}<extra></extra>\",\"legendgroup\":\"Andorra\",\"marker\":{\"color\":\"#FFA15A\",\"size\":[3.729532,0.0,0.0,0.0],\"sizemode\":\"area\",\"sizeref\":0.0155840875,\"symbol\":\"circle\"},\"mode\":\"markers\",\"name\":\"Andorra\",\"orientation\":\"v\",\"showlegend\":true,\"x\":[0.0,0.0,0.0,0.0],\"xaxis\":\"x\",\"y\":[0.0,0.0,0.0,0.0],\"yaxis\":\"y\",\"type\":\"scatter\"},{\"hovertemplate\":\"Country Name=United Arab Emirates<br>GDP=%{x}<br>Fertility Rate=%{y}<br>Bubble Size=%{marker.size}<extra></extra>\",\"legendgroup\":\"United Arab Emirates\",\"marker\":{\"color\":\"#19d3f3\",\"size\":[2.877426,0.0,0.0,0.0],\"sizemode\":\"area\",\"sizeref\":0.0155840875,\"symbol\":\"circle\"},\"mode\":\"markers\",\"name\":\"United Arab Emirates\",\"orientation\":\"v\",\"showlegend\":true,\"x\":[71182.37072,71182.37072,71182.37072,71182.37072],\"xaxis\":\"x\",\"y\":[1.419,1.419,1.419,1.419],\"yaxis\":\"y\",\"type\":\"scatter\"},{\"hovertemplate\":\"Country Name=Argentina<br>GDP=%{x}<br>Fertility Rate=%{y}<br>Bubble Size=%{marker.size}<extra></extra>\",\"legendgroup\":\"Argentina\",\"marker\":{\"color\":\"#FF6692\",\"size\":[3.665488,0.0,0.0,0.0],\"sizemode\":\"area\",\"sizeref\":0.0155840875,\"symbol\":\"circle\"},\"mode\":\"markers\",\"name\":\"Argentina\",\"orientation\":\"v\",\"showlegend\":true,\"x\":[23597.11775,23597.11775,23597.11775,23597.11775],\"xaxis\":\"x\",\"y\":[2.168,2.168,2.168,2.168],\"yaxis\":\"y\",\"type\":\"scatter\"},{\"hovertemplate\":\"Country Name=Armenia<br>GDP=%{x}<br>Fertility Rate=%{y}<br>Bubble Size=%{marker.size}<extra></extra>\",\"legendgroup\":\"Armenia\",\"marker\":{\"color\":\"#B6E880\",\"size\":[2.7545830000000002,0.0,0.0,0.0],\"sizemode\":\"area\",\"sizeref\":0.0155840875,\"symbol\":\"circle\"},\"mode\":\"markers\",\"name\":\"Armenia\",\"orientation\":\"v\",\"showlegend\":true,\"x\":[12509.63961,12509.63961,12509.63961,12509.63961],\"xaxis\":\"x\",\"y\":[1.5619999999999998,1.5619999999999998,1.5619999999999998,1.5619999999999998],\"yaxis\":\"y\",\"type\":\"scatter\"},{\"hovertemplate\":\"Country Name=American Samoa<br>GDP=%{x}<br>Fertility Rate=%{y}<br>Bubble Size=%{marker.size}<extra></extra>\",\"legendgroup\":\"American Samoa\",\"marker\":{\"color\":\"#FF97FF\",\"size\":[2.939668,0.0,0.0,0.0],\"sizemode\":\"area\",\"sizeref\":0.0155840875,\"symbol\":\"circle\"},\"mode\":\"markers\",\"name\":\"American Samoa\",\"orientation\":\"v\",\"showlegend\":true,\"x\":[0.0,0.0,0.0,0.0],\"xaxis\":\"x\",\"y\":[0.0,0.0,0.0,0.0],\"yaxis\":\"y\",\"type\":\"scatter\"},{\"hovertemplate\":\"Country Name=Antigua and Barbuda<br>GDP=%{x}<br>Fertility Rate=%{y}<br>Bubble Size=%{marker.size}<extra></extra>\",\"legendgroup\":\"Antigua and Barbuda\",\"marker\":{\"color\":\"#FECB52\",\"size\":[2.557963,0.0,0.0,0.0],\"sizemode\":\"area\",\"sizeref\":0.0155840875,\"symbol\":\"circle\"},\"mode\":\"markers\",\"name\":\"Antigua and Barbuda\",\"orientation\":\"v\",\"showlegend\":true,\"x\":[20777.5595,20777.5595,20777.5595,20777.5595],\"xaxis\":\"x\",\"y\":[1.485,1.485,1.485,1.485],\"yaxis\":\"y\",\"type\":\"scatter\"},{\"hovertemplate\":\"Country Name=Australia<br>GDP=%{x}<br>Fertility Rate=%{y}<br>Bubble Size=%{marker.size}<extra></extra>\",\"legendgroup\":\"Australia\",\"marker\":{\"color\":\"#636efa\",\"size\":[4.623881,0.0,0.0,0.0],\"sizemode\":\"area\",\"sizeref\":0.0155840875,\"symbol\":\"circle\"},\"mode\":\"markers\",\"name\":\"Australia\",\"orientation\":\"v\",\"showlegend\":true,\"x\":[48400.24579,48400.24579,48400.24579,48400.24579],\"xaxis\":\"x\",\"y\":[1.7409999999999999,1.7409999999999999,1.7409999999999999,1.7409999999999999],\"yaxis\":\"y\",\"type\":\"scatter\"},{\"hovertemplate\":\"Country Name=Austria<br>GDP=%{x}<br>Fertility Rate=%{y}<br>Bubble Size=%{marker.size}<extra></extra>\",\"legendgroup\":\"Austria\",\"marker\":{\"color\":\"#EF553B\",\"size\":[3.26097,0.0,0.0,0.0],\"sizemode\":\"area\",\"sizeref\":0.0155840875,\"symbol\":\"circle\"},\"mode\":\"markers\",\"name\":\"Austria\",\"orientation\":\"v\",\"showlegend\":true,\"x\":[54172.986789999995,54172.986789999995,54172.986789999995,54172.986789999995],\"xaxis\":\"x\",\"y\":[1.52,1.52,1.52,1.52],\"yaxis\":\"y\",\"type\":\"scatter\"},{\"hovertemplate\":\"Country Name=Azerbaijan<br>GDP=%{x}<br>Fertility Rate=%{y}<br>Bubble Size=%{marker.size}<extra></extra>\",\"legendgroup\":\"Azerbaijan\",\"marker\":{\"color\":\"#00cc96\",\"size\":[2.592293,0.0,0.0,0.0],\"sizemode\":\"area\",\"sizeref\":0.0155840875,\"symbol\":\"circle\"},\"mode\":\"markers\",\"name\":\"Azerbaijan\",\"orientation\":\"v\",\"showlegend\":true,\"x\":[14121.40694,14121.40694,14121.40694,14121.40694],\"xaxis\":\"x\",\"y\":[1.75,1.75,1.75,1.75],\"yaxis\":\"y\",\"type\":\"scatter\"},{\"hovertemplate\":\"Country Name=Burundi<br>GDP=%{x}<br>Fertility Rate=%{y}<br>Bubble Size=%{marker.size}<extra></extra>\",\"legendgroup\":\"Burundi\",\"marker\":{\"color\":\"#ab63fa\",\"size\":[3.721228,0.0,0.0,0.0],\"sizemode\":\"area\",\"sizeref\":0.0155840875,\"symbol\":\"circle\"},\"mode\":\"markers\",\"name\":\"Burundi\",\"orientation\":\"v\",\"showlegend\":true,\"x\":[750.7876163,750.7876163,750.7876163,750.7876163],\"xaxis\":\"x\",\"y\":[5.481,5.481,5.481,5.481],\"yaxis\":\"y\",\"type\":\"scatter\"},{\"hovertemplate\":\"Country Name=Belgium<br>GDP=%{x}<br>Fertility Rate=%{y}<br>Bubble Size=%{marker.size}<extra></extra>\",\"legendgroup\":\"Belgium\",\"marker\":{\"color\":\"#FFA15A\",\"size\":[4.109186,0.0,0.0,0.0],\"sizemode\":\"area\",\"sizeref\":0.0155840875,\"symbol\":\"circle\"},\"mode\":\"markers\",\"name\":\"Belgium\",\"orientation\":\"v\",\"showlegend\":true,\"x\":[50442.27054,50442.27054,50442.27054,50442.27054],\"xaxis\":\"x\",\"y\":[1.65,1.65,1.65,1.65],\"yaxis\":\"y\",\"type\":\"scatter\"},{\"hovertemplate\":\"Country Name=Benin<br>GDP=%{x}<br>Fertility Rate=%{y}<br>Bubble Size=%{marker.size}<extra></extra>\",\"legendgroup\":\"Benin\",\"marker\":{\"color\":\"#19d3f3\",\"size\":[3.629899,0.0,0.0,0.0],\"sizemode\":\"area\",\"sizeref\":0.0155840875,\"symbol\":\"circle\"},\"mode\":\"markers\",\"name\":\"Benin\",\"orientation\":\"v\",\"showlegend\":true,\"x\":[2933.837384,2933.837384,2933.837384,2933.837384],\"xaxis\":\"x\",\"y\":[5.269,5.269,5.269,5.269],\"yaxis\":\"y\",\"type\":\"scatter\"},{\"hovertemplate\":\"Country Name=Burkina Faso<br>GDP=%{x}<br>Fertility Rate=%{y}<br>Bubble Size=%{marker.size}<extra></extra>\",\"legendgroup\":\"Burkina Faso\",\"marker\":{\"color\":\"#FF6692\",\"size\":[3.694254,0.0,0.0,0.0],\"sizemode\":\"area\",\"sizeref\":0.0155840875,\"symbol\":\"circle\"},\"mode\":\"markers\",\"name\":\"Burkina Faso\",\"orientation\":\"v\",\"showlegend\":true,\"x\":[1978.1550120000002,1978.1550120000002,1978.1550120000002,1978.1550120000002],\"xaxis\":\"x\",\"y\":[5.162000000000001,5.162000000000001,5.162000000000001,5.162000000000001],\"yaxis\":\"y\",\"type\":\"scatter\"},{\"hovertemplate\":\"Country Name=Bangladesh<br>GDP=%{x}<br>Fertility Rate=%{y}<br>Bubble Size=%{marker.size}<extra></extra>\",\"legendgroup\":\"Bangladesh\",\"marker\":{\"color\":\"#B6E880\",\"size\":[4.1106110000000005,0.0,0.0,0.0],\"sizemode\":\"area\",\"sizeref\":0.0155840875,\"symbol\":\"circle\"},\"mode\":\"markers\",\"name\":\"Bangladesh\",\"orientation\":\"v\",\"showlegend\":true,\"x\":[4830.776083,4830.776083,4830.776083,4830.776083],\"xaxis\":\"x\",\"y\":[2.043,2.043,2.043,2.043],\"yaxis\":\"y\",\"type\":\"scatter\"},{\"hovertemplate\":\"Country Name=Bulgaria<br>GDP=%{x}<br>Fertility Rate=%{y}<br>Bubble Size=%{marker.size}<extra></extra>\",\"legendgroup\":\"Bulgaria\",\"marker\":{\"color\":\"#FF97FF\",\"size\":[2.543141,0.0,0.0,0.0],\"sizemode\":\"area\",\"sizeref\":0.0155840875,\"symbol\":\"circle\"},\"mode\":\"markers\",\"name\":\"Bulgaria\",\"orientation\":\"v\",\"showlegend\":true,\"x\":[21469.97089,21469.97089,21469.97089,21469.97089],\"xaxis\":\"x\",\"y\":[1.56,1.56,1.56,1.56],\"yaxis\":\"y\",\"type\":\"scatter\"},{\"hovertemplate\":\"Country Name=Bahrain<br>GDP=%{x}<br>Fertility Rate=%{y}<br>Bubble Size=%{marker.size}<extra></extra>\",\"legendgroup\":\"Bahrain\",\"marker\":{\"color\":\"#FECB52\",\"size\":[3.8791050000000005,0.0,0.0,0.0],\"sizemode\":\"area\",\"sizeref\":0.0155840875,\"symbol\":\"circle\"},\"mode\":\"markers\",\"name\":\"Bahrain\",\"orientation\":\"v\",\"showlegend\":true,\"x\":[48929.44701,48929.44701,48929.44701,48929.44701],\"xaxis\":\"x\",\"y\":[2.006,2.006,2.006,2.006],\"yaxis\":\"y\",\"type\":\"scatter\"},{\"hovertemplate\":\"Country Name=Bosnia and Herzegovina<br>GDP=%{x}<br>Fertility Rate=%{y}<br>Bubble Size=%{marker.size}<extra></extra>\",\"legendgroup\":\"Bosnia and Herzegovina\",\"marker\":{\"color\":\"#636efa\",\"size\":[2.31961,0.0,0.0,0.0],\"sizemode\":\"area\",\"sizeref\":0.0155840875,\"symbol\":\"circle\"},\"mode\":\"markers\",\"name\":\"Bosnia and Herzegovina\",\"orientation\":\"v\",\"showlegend\":true,\"x\":[13582.18475,13582.18475,13582.18475,13582.18475],\"xaxis\":\"x\",\"y\":[1.355,1.355,1.355,1.355],\"yaxis\":\"y\",\"type\":\"scatter\"},{\"hovertemplate\":\"Country Name=Belarus<br>GDP=%{x}<br>Fertility Rate=%{y}<br>Bubble Size=%{marker.size}<extra></extra>\",\"legendgroup\":\"Belarus\",\"marker\":{\"color\":\"#EF553B\",\"size\":[4.022226,0.0,0.0,0.0],\"sizemode\":\"area\",\"sizeref\":0.0155840875,\"symbol\":\"circle\"},\"mode\":\"markers\",\"name\":\"Belarus\",\"orientation\":\"v\",\"showlegend\":true,\"x\":[18356.06606,18356.06606,18356.06606,18356.06606],\"xaxis\":\"x\",\"y\":[1.541,1.541,1.541,1.541],\"yaxis\":\"y\",\"type\":\"scatter\"},{\"hovertemplate\":\"Country Name=Belize<br>GDP=%{x}<br>Fertility Rate=%{y}<br>Bubble Size=%{marker.size}<extra></extra>\",\"legendgroup\":\"Belize\",\"marker\":{\"color\":\"#00cc96\",\"size\":[2.8386669999999996,0.0,0.0,0.0],\"sizemode\":\"area\",\"sizeref\":0.0155840875,\"symbol\":\"circle\"},\"mode\":\"markers\",\"name\":\"Belize\",\"orientation\":\"v\",\"showlegend\":true,\"x\":[8873.754025,8873.754025,8873.754025,8873.754025],\"xaxis\":\"x\",\"y\":[2.36,2.36,2.36,2.36],\"yaxis\":\"y\",\"type\":\"scatter\"},{\"hovertemplate\":\"Country Name=Bermuda<br>GDP=%{x}<br>Fertility Rate=%{y}<br>Bubble Size=%{marker.size}<extra></extra>\",\"legendgroup\":\"Bermuda\",\"marker\":{\"color\":\"#ab63fa\",\"size\":[2.826293,0.0,0.0,0.0],\"sizemode\":\"area\",\"sizeref\":0.0155840875,\"symbol\":\"circle\"},\"mode\":\"markers\",\"name\":\"Bermuda\",\"orientation\":\"v\",\"showlegend\":true,\"x\":[81834.95587,81834.95587,81834.95587,81834.95587],\"xaxis\":\"x\",\"y\":[1.4,1.4,1.4,1.4],\"yaxis\":\"y\",\"type\":\"scatter\"},{\"hovertemplate\":\"Country Name=Bolivia<br>GDP=%{x}<br>Fertility Rate=%{y}<br>Bubble Size=%{marker.size}<extra></extra>\",\"legendgroup\":\"Bolivia\",\"marker\":{\"color\":\"#FFA15A\",\"size\":[3.085905,0.0,0.0,0.0],\"sizemode\":\"area\",\"sizeref\":0.0155840875,\"symbol\":\"circle\"},\"mode\":\"markers\",\"name\":\"Bolivia\",\"orientation\":\"v\",\"showlegend\":true,\"x\":[8244.933446,8244.933446,8244.933446,8244.933446],\"xaxis\":\"x\",\"y\":[2.7769999999999997,2.7769999999999997,2.7769999999999997,2.7769999999999997],\"yaxis\":\"y\",\"type\":\"scatter\"},{\"hovertemplate\":\"Country Name=Brazil<br>GDP=%{x}<br>Fertility Rate=%{y}<br>Bubble Size=%{marker.size}<extra></extra>\",\"legendgroup\":\"Brazil\",\"marker\":{\"color\":\"#19d3f3\",\"size\":[3.297368,0.0,0.0,0.0],\"sizemode\":\"area\",\"sizeref\":0.0155840875,\"symbol\":\"circle\"},\"mode\":\"markers\",\"name\":\"Brazil\",\"orientation\":\"v\",\"showlegend\":true,\"x\":[14477.86177,14477.86177,14477.86177,14477.86177],\"xaxis\":\"x\",\"y\":[1.736,1.736,1.736,1.736],\"yaxis\":\"y\",\"type\":\"scatter\"},{\"hovertemplate\":\"Country Name=Barbados<br>GDP=%{x}<br>Fertility Rate=%{y}<br>Bubble Size=%{marker.size}<extra></extra>\",\"legendgroup\":\"Barbados\",\"marker\":{\"color\":\"#FF6692\",\"size\":[2.763322,0.0,0.0,0.0],\"sizemode\":\"area\",\"sizeref\":0.0155840875,\"symbol\":\"circle\"},\"mode\":\"markers\",\"name\":\"Barbados\",\"orientation\":\"v\",\"showlegend\":true,\"x\":[16198.96216,16198.96216,16198.96216,16198.96216],\"xaxis\":\"x\",\"y\":[1.615,1.615,1.615,1.615],\"yaxis\":\"y\",\"type\":\"scatter\"},{\"hovertemplate\":\"Country Name=Bhutan<br>GDP=%{x}<br>Fertility Rate=%{y}<br>Bubble Size=%{marker.size}<extra></extra>\",\"legendgroup\":\"Bhutan\",\"marker\":{\"color\":\"#B6E880\",\"size\":[3.4393339999999997,0.0,0.0,0.0],\"sizemode\":\"area\",\"sizeref\":0.0155840875,\"symbol\":\"circle\"},\"mode\":\"markers\",\"name\":\"Bhutan\",\"orientation\":\"v\",\"showlegend\":true,\"x\":[10986.888140000001,10986.888140000001,10986.888140000001,10986.888140000001],\"xaxis\":\"x\",\"y\":[1.704,1.704,1.704,1.704],\"yaxis\":\"y\",\"type\":\"scatter\"},{\"hovertemplate\":\"Country Name=Botswana<br>GDP=%{x}<br>Fertility Rate=%{y}<br>Bubble Size=%{marker.size}<extra></extra>\",\"legendgroup\":\"Botswana\",\"marker\":{\"color\":\"#FF97FF\",\"size\":[3.9681290000000002,0.0,0.0,0.0],\"sizemode\":\"area\",\"sizeref\":0.0155840875,\"symbol\":\"circle\"},\"mode\":\"markers\",\"name\":\"Botswana\",\"orientation\":\"v\",\"showlegend\":true,\"x\":[14656.772990000001,14656.772990000001,14656.772990000001,14656.772990000001],\"xaxis\":\"x\",\"y\":[2.91,2.91,2.91,2.91],\"yaxis\":\"y\",\"type\":\"scatter\"},{\"hovertemplate\":\"Country Name=Central African Republic<br>GDP=%{x}<br>Fertility Rate=%{y}<br>Bubble Size=%{marker.size}<extra></extra>\",\"legendgroup\":\"Central African Republic\",\"marker\":{\"color\":\"#FECB52\",\"size\":[4.211728,0.0,0.0,0.0],\"sizemode\":\"area\",\"sizeref\":0.0155840875,\"symbol\":\"circle\"},\"mode\":\"markers\",\"name\":\"Central African Republic\",\"orientation\":\"v\",\"showlegend\":true,\"x\":[839.6000095,839.6000095,839.6000095,839.6000095],\"xaxis\":\"x\",\"y\":[6.047999999999999,6.047999999999999,6.047999999999999,6.047999999999999],\"yaxis\":\"y\",\"type\":\"scatter\"},{\"hovertemplate\":\"Country Name=Canada<br>GDP=%{x}<br>Fertility Rate=%{y}<br>Bubble Size=%{marker.size}<extra></extra>\",\"legendgroup\":\"Canada\",\"marker\":{\"color\":\"#636efa\",\"size\":[3.9887919999999997,0.0,0.0,0.0],\"sizemode\":\"area\",\"sizeref\":0.0155840875,\"symbol\":\"circle\"},\"mode\":\"markers\",\"name\":\"Canada\",\"orientation\":\"v\",\"showlegend\":true,\"x\":[48317.17458,48317.17458,48317.17458,48317.17458],\"xaxis\":\"x\",\"y\":[1.55,1.55,1.55,1.55],\"yaxis\":\"y\",\"type\":\"scatter\"},{\"hovertemplate\":\"Country Name=Switzerland<br>GDP=%{x}<br>Fertility Rate=%{y}<br>Bubble Size=%{marker.size}<extra></extra>\",\"legendgroup\":\"Switzerland\",\"marker\":{\"color\":\"#EF553B\",\"size\":[3.7080599999999997,0.0,0.0,0.0],\"sizemode\":\"area\",\"sizeref\":0.0155840875,\"symbol\":\"circle\"},\"mode\":\"markers\",\"name\":\"Switzerland\",\"orientation\":\"v\",\"showlegend\":true,\"x\":[68193.50549,68193.50549,68193.50549,68193.50549],\"xaxis\":\"x\",\"y\":[1.52,1.52,1.52,1.52],\"yaxis\":\"y\",\"type\":\"scatter\"},{\"hovertemplate\":\"Country Name=Channel Islands<br>GDP=%{x}<br>Fertility Rate=%{y}<br>Bubble Size=%{marker.size}<extra></extra>\",\"legendgroup\":\"Channel Islands\",\"marker\":{\"color\":\"#00cc96\",\"size\":[0.0,0.0],\"sizemode\":\"area\",\"sizeref\":0.0155840875,\"symbol\":\"circle\"},\"mode\":\"markers\",\"name\":\"Channel Islands\",\"orientation\":\"v\",\"showlegend\":true,\"x\":[0.0,0.0],\"xaxis\":\"x\",\"y\":[1.466,1.466],\"yaxis\":\"y\",\"type\":\"scatter\"},{\"hovertemplate\":\"Country Name=Chile<br>GDP=%{x}<br>Fertility Rate=%{y}<br>Bubble Size=%{marker.size}<extra></extra>\",\"legendgroup\":\"Chile\",\"marker\":{\"color\":\"#ab63fa\",\"size\":[4.057723,0.0,0.0,0.0],\"sizemode\":\"area\",\"sizeref\":0.0155840875,\"symbol\":\"circle\"},\"mode\":\"markers\",\"name\":\"Chile\",\"orientation\":\"v\",\"showlegend\":true,\"x\":[24546.91242,24546.91242,24546.91242,24546.91242],\"xaxis\":\"x\",\"y\":[1.598,1.598,1.598,1.598],\"yaxis\":\"y\",\"type\":\"scatter\"},{\"hovertemplate\":\"Country Name=China<br>GDP=%{x}<br>Fertility Rate=%{y}<br>Bubble Size=%{marker.size}<extra></extra>\",\"legendgroup\":\"China\",\"marker\":{\"color\":\"#FFA15A\",\"size\":[3.3113059999999996,0.0,0.0,0.0],\"sizemode\":\"area\",\"sizeref\":0.0155840875,\"symbol\":\"circle\"},\"mode\":\"markers\",\"name\":\"China\",\"orientation\":\"v\",\"showlegend\":true,\"x\":[14243.53261,14243.53261,14243.53261,14243.53261],\"xaxis\":\"x\",\"y\":[1.8130000000000002,1.8130000000000002,1.8130000000000002,1.8130000000000002],\"yaxis\":\"y\",\"type\":\"scatter\"},{\"hovertemplate\":\"Country Name=Cote d'Ivoire<br>GDP=%{x}<br>Fertility Rate=%{y}<br>Bubble Size=%{marker.size}<extra></extra>\",\"legendgroup\":\"Cote d'Ivoire\",\"marker\":{\"color\":\"#19d3f3\",\"size\":[3.337989,0.0,0.0,0.0],\"sizemode\":\"area\",\"sizeref\":0.0155840875,\"symbol\":\"circle\"},\"mode\":\"markers\",\"name\":\"Cote d'Ivoire\",\"orientation\":\"v\",\"showlegend\":true,\"x\":[4836.048367,4836.048367,4836.048367,4836.048367],\"xaxis\":\"x\",\"y\":[4.742,4.742,4.742,4.742],\"yaxis\":\"y\",\"type\":\"scatter\"},{\"hovertemplate\":\"Country Name=Cameroon<br>GDP=%{x}<br>Fertility Rate=%{y}<br>Bubble Size=%{marker.size}<extra></extra>\",\"legendgroup\":\"Cameroon\",\"marker\":{\"color\":\"#FF6692\",\"size\":[3.745647,0.0,0.0,0.0],\"sizemode\":\"area\",\"sizeref\":0.0155840875,\"symbol\":\"circle\"},\"mode\":\"markers\",\"name\":\"Cameroon\",\"orientation\":\"v\",\"showlegend\":true,\"x\":[3691.094724,3691.094724,3691.094724,3691.094724],\"xaxis\":\"x\",\"y\":[4.774,4.774,4.774,4.774],\"yaxis\":\"y\",\"type\":\"scatter\"},{\"hovertemplate\":\"Country Name=Colombia<br>GDP=%{x}<br>Fertility Rate=%{y}<br>Bubble Size=%{marker.size}<extra></extra>\",\"legendgroup\":\"Colombia\",\"marker\":{\"color\":\"#B6E880\",\"size\":[2.196154,0.0,0.0,0.0],\"sizemode\":\"area\",\"sizeref\":0.0155840875,\"symbol\":\"circle\"},\"mode\":\"markers\",\"name\":\"Colombia\",\"orientation\":\"v\",\"showlegend\":true,\"x\":[14334.91461,14334.91461,14334.91461,14334.91461],\"xaxis\":\"x\",\"y\":[1.818,1.818,1.818,1.818],\"yaxis\":\"y\",\"type\":\"scatter\"},{\"hovertemplate\":\"Country Name=Comoros<br>GDP=%{x}<br>Fertility Rate=%{y}<br>Bubble Size=%{marker.size}<extra></extra>\",\"legendgroup\":\"Comoros\",\"marker\":{\"color\":\"#FF97FF\",\"size\":[3.330114,0.0,0.0,0.0],\"sizemode\":\"area\",\"sizeref\":0.0155840875,\"symbol\":\"circle\"},\"mode\":\"markers\",\"name\":\"Comoros\",\"orientation\":\"v\",\"showlegend\":true,\"x\":[3240.17917,3240.17917,3240.17917,3240.17917],\"xaxis\":\"x\",\"y\":[4.2780000000000005,4.2780000000000005,4.2780000000000005,4.2780000000000005],\"yaxis\":\"y\",\"type\":\"scatter\"},{\"hovertemplate\":\"Country Name=Costa Rica<br>GDP=%{x}<br>Fertility Rate=%{y}<br>Bubble Size=%{marker.size}<extra></extra>\",\"legendgroup\":\"Costa Rica\",\"marker\":{\"color\":\"#FECB52\",\"size\":[2.904788,0.0,0.0,0.0],\"sizemode\":\"area\",\"sizeref\":0.0155840875,\"symbol\":\"circle\"},\"mode\":\"markers\",\"name\":\"Costa Rica\",\"orientation\":\"v\",\"showlegend\":true,\"x\":[20168.22048,20168.22048,20168.22048,20168.22048],\"xaxis\":\"x\",\"y\":[1.74,1.74,1.74,1.74],\"yaxis\":\"y\",\"type\":\"scatter\"},{\"hovertemplate\":\"Country Name=Cuba<br>GDP=%{x}<br>Fertility Rate=%{y}<br>Bubble Size=%{marker.size}<extra></extra>\",\"legendgroup\":\"Cuba\",\"marker\":{\"color\":\"#636efa\",\"size\":[3.3191309999999996,0.0,0.0,0.0],\"sizemode\":\"area\",\"sizeref\":0.0155840875,\"symbol\":\"circle\"},\"mode\":\"markers\",\"name\":\"Cuba\",\"orientation\":\"v\",\"showlegend\":true,\"x\":[0.0,0.0,0.0,0.0],\"xaxis\":\"x\",\"y\":[1.5930000000000002,1.5930000000000002,1.5930000000000002,1.5930000000000002],\"yaxis\":\"y\",\"type\":\"scatter\"},{\"hovertemplate\":\"Country Name=Curacao<br>GDP=%{x}<br>Fertility Rate=%{y}<br>Bubble Size=%{marker.size}<extra></extra>\",\"legendgroup\":\"Curacao\",\"marker\":{\"color\":\"#EF553B\",\"size\":[0.0,0.0],\"sizemode\":\"area\",\"sizeref\":0.0155840875,\"symbol\":\"circle\"},\"mode\":\"markers\",\"name\":\"Curacao\",\"orientation\":\"v\",\"showlegend\":true,\"x\":[24599.937830000003,24599.937830000003],\"xaxis\":\"x\",\"y\":[1.5,1.5],\"yaxis\":\"y\",\"type\":\"scatter\"},{\"hovertemplate\":\"Country Name=Cayman Islands<br>GDP=%{x}<br>Fertility Rate=%{y}<br>Bubble Size=%{marker.size}<extra></extra>\",\"legendgroup\":\"Cayman Islands\",\"marker\":{\"color\":\"#00cc96\",\"size\":[0.0,0.0],\"sizemode\":\"area\",\"sizeref\":0.0155840875,\"symbol\":\"circle\"},\"mode\":\"markers\",\"name\":\"Cayman Islands\",\"orientation\":\"v\",\"showlegend\":true,\"x\":[69534.77175,69534.77175],\"xaxis\":\"x\",\"y\":[0.0,0.0],\"yaxis\":\"y\",\"type\":\"scatter\"},{\"hovertemplate\":\"Country Name=Cyprus<br>GDP=%{x}<br>Fertility Rate=%{y}<br>Bubble Size=%{marker.size}<extra></extra>\",\"legendgroup\":\"Cyprus\",\"marker\":{\"color\":\"#ab63fa\",\"size\":[3.3281110000000003,0.0,0.0,0.0],\"sizemode\":\"area\",\"sizeref\":0.0155840875,\"symbol\":\"circle\"},\"mode\":\"markers\",\"name\":\"Cyprus\",\"orientation\":\"v\",\"showlegend\":true,\"x\":[38415.10938,38415.10938,38415.10938,38415.10938],\"xaxis\":\"x\",\"y\":[1.3219999999999998,1.3219999999999998,1.3219999999999998,1.3219999999999998],\"yaxis\":\"y\",\"type\":\"scatter\"},{\"hovertemplate\":\"Country Name=Germany<br>GDP=%{x}<br>Fertility Rate=%{y}<br>Bubble Size=%{marker.size}<extra></extra>\",\"legendgroup\":\"Germany\",\"marker\":{\"color\":\"#FFA15A\",\"size\":[3.9598660000000003,0.0,0.0,0.0],\"sizemode\":\"area\",\"sizeref\":0.0155840875,\"symbol\":\"circle\"},\"mode\":\"markers\",\"name\":\"Germany\",\"orientation\":\"v\",\"showlegend\":true,\"x\":[53071.45557,53071.45557,53071.45557,53071.45557],\"xaxis\":\"x\",\"y\":[1.57,1.57,1.57,1.57],\"yaxis\":\"y\",\"type\":\"scatter\"},{\"hovertemplate\":\"Country Name=Djibouti<br>GDP=%{x}<br>Fertility Rate=%{y}<br>Bubble Size=%{marker.size}<extra></extra>\",\"legendgroup\":\"Djibouti\",\"marker\":{\"color\":\"#19d3f3\",\"size\":[3.60901,0.0,0.0,0.0],\"sizemode\":\"area\",\"sizeref\":0.0155840875,\"symbol\":\"circle\"},\"mode\":\"markers\",\"name\":\"Djibouti\",\"orientation\":\"v\",\"showlegend\":true,\"x\":[4451.683846,4451.683846,4451.683846,4451.683846],\"xaxis\":\"x\",\"y\":[2.972,2.972,2.972,2.972],\"yaxis\":\"y\",\"type\":\"scatter\"},{\"hovertemplate\":\"Country Name=Dominica<br>GDP=%{x}<br>Fertility Rate=%{y}<br>Bubble Size=%{marker.size}<extra></extra>\",\"legendgroup\":\"Dominica\",\"marker\":{\"color\":\"#FF6692\",\"size\":[2.629649,0.0,0.0,0.0],\"sizemode\":\"area\",\"sizeref\":0.0155840875,\"symbol\":\"circle\"},\"mode\":\"markers\",\"name\":\"Dominica\",\"orientation\":\"v\",\"showlegend\":true,\"x\":[11511.60642,11511.60642,11511.60642,11511.60642],\"xaxis\":\"x\",\"y\":[1.629,1.629,1.629,1.629],\"yaxis\":\"y\",\"type\":\"scatter\"},{\"hovertemplate\":\"Country Name=Denmark<br>GDP=%{x}<br>Fertility Rate=%{y}<br>Bubble Size=%{marker.size}<extra></extra>\",\"legendgroup\":\"Denmark\",\"marker\":{\"color\":\"#B6E880\",\"size\":[3.2918849999999997,0.0,0.0,0.0],\"sizemode\":\"area\",\"sizeref\":0.0155840875,\"symbol\":\"circle\"},\"mode\":\"markers\",\"name\":\"Denmark\",\"orientation\":\"v\",\"showlegend\":true,\"x\":[55356.680779999995,55356.680779999995,55356.680779999995,55356.680779999995],\"xaxis\":\"x\",\"y\":[1.75,1.75,1.75,1.75],\"yaxis\":\"y\",\"type\":\"scatter\"},{\"hovertemplate\":\"Country Name=Dominican Republic<br>GDP=%{x}<br>Fertility Rate=%{y}<br>Bubble Size=%{marker.size}<extra></extra>\",\"legendgroup\":\"Dominican Republic\",\"marker\":{\"color\":\"#FF97FF\",\"size\":[2.978523,0.0,0.0,0.0],\"sizemode\":\"area\",\"sizeref\":0.0155840875,\"symbol\":\"circle\"},\"mode\":\"markers\",\"name\":\"Dominican Republic\",\"orientation\":\"v\",\"showlegend\":true,\"x\":[16524.53384,16524.53384,16524.53384,16524.53384],\"xaxis\":\"x\",\"y\":[2.39,2.39,2.39,2.39],\"yaxis\":\"y\",\"type\":\"scatter\"},{\"hovertemplate\":\"Country Name=Algeria<br>GDP=%{x}<br>Fertility Rate=%{y}<br>Bubble Size=%{marker.size}<extra></extra>\",\"legendgroup\":\"Algeria\",\"marker\":{\"color\":\"#FECB52\",\"size\":[3.6610940000000003,0.0,0.0,0.0],\"sizemode\":\"area\",\"sizeref\":0.0155840875,\"symbol\":\"circle\"},\"mode\":\"markers\",\"name\":\"Algeria\",\"orientation\":\"v\",\"showlegend\":true,\"x\":[11809.48303,11809.48303,11809.48303,11809.48303],\"xaxis\":\"x\",\"y\":[3.05,3.05,3.05,3.05],\"yaxis\":\"y\",\"type\":\"scatter\"},{\"hovertemplate\":\"Country Name=Ecuador<br>GDP=%{x}<br>Fertility Rate=%{y}<br>Bubble Size=%{marker.size}<extra></extra>\",\"legendgroup\":\"Ecuador\",\"marker\":{\"color\":\"#636efa\",\"size\":[2.977117,0.0,0.0,0.0],\"sizemode\":\"area\",\"sizeref\":0.0155840875,\"symbol\":\"circle\"},\"mode\":\"markers\",\"name\":\"Ecuador\",\"orientation\":\"v\",\"showlegend\":true,\"x\":[11679.43023,11679.43023,11679.43023,11679.43023],\"xaxis\":\"x\",\"y\":[2.174,2.174,2.174,2.174],\"yaxis\":\"y\",\"type\":\"scatter\"},{\"hovertemplate\":\"Country Name=Eritrea<br>GDP=%{x}<br>Fertility Rate=%{y}<br>Bubble Size=%{marker.size}<extra></extra>\",\"legendgroup\":\"Eritrea\",\"marker\":{\"color\":\"#EF553B\",\"size\":[3.867377,0.0,0.0,0.0],\"sizemode\":\"area\",\"sizeref\":0.0155840875,\"symbol\":\"circle\"},\"mode\":\"markers\",\"name\":\"Eritrea\",\"orientation\":\"v\",\"showlegend\":true,\"x\":[0.0,0.0,0.0,0.0],\"xaxis\":\"x\",\"y\":[4.112,4.112,4.112,4.112],\"yaxis\":\"y\",\"type\":\"scatter\"},{\"hovertemplate\":\"Country Name=Spain<br>GDP=%{x}<br>Fertility Rate=%{y}<br>Bubble Size=%{marker.size}<extra></extra>\",\"legendgroup\":\"Spain\",\"marker\":{\"color\":\"#00cc96\",\"size\":[3.538359,0.0,0.0,0.0],\"sizemode\":\"area\",\"sizeref\":0.0155840875,\"symbol\":\"circle\"},\"mode\":\"markers\",\"name\":\"Spain\",\"orientation\":\"v\",\"showlegend\":true,\"x\":[39550.189080000004,39550.189080000004,39550.189080000004,39550.189080000004],\"xaxis\":\"x\",\"y\":[1.31,1.31,1.31,1.31],\"yaxis\":\"y\",\"type\":\"scatter\"},{\"hovertemplate\":\"Country Name=Estonia<br>GDP=%{x}<br>Fertility Rate=%{y}<br>Bubble Size=%{marker.size}<extra></extra>\",\"legendgroup\":\"Estonia\",\"marker\":{\"color\":\"#ab63fa\",\"size\":[3.848854,0.0,0.0,0.0],\"sizemode\":\"area\",\"sizeref\":0.0155840875,\"symbol\":\"circle\"},\"mode\":\"markers\",\"name\":\"Estonia\",\"orientation\":\"v\",\"showlegend\":true,\"x\":[33821.93291,33821.93291,33821.93291,33821.93291],\"xaxis\":\"x\",\"y\":[1.59,1.59,1.59,1.59],\"yaxis\":\"y\",\"type\":\"scatter\"},{\"hovertemplate\":\"Country Name=Ethiopia<br>GDP=%{x}<br>Fertility Rate=%{y}<br>Bubble Size=%{marker.size}<extra></extra>\",\"legendgroup\":\"Ethiopia\",\"marker\":{\"color\":\"#FFA15A\",\"size\":[3.816266,0.0,0.0,0.0],\"sizemode\":\"area\",\"sizeref\":0.0155840875,\"symbol\":\"circle\"},\"mode\":\"markers\",\"name\":\"Ethiopia\",\"orientation\":\"v\",\"showlegend\":true,\"x\":[1987.968754,1987.968754,1987.968754,1987.968754],\"xaxis\":\"x\",\"y\":[4.39,4.39,4.39,4.39],\"yaxis\":\"y\",\"type\":\"scatter\"},{\"hovertemplate\":\"Country Name=Finland<br>GDP=%{x}<br>Fertility Rate=%{y}<br>Bubble Size=%{marker.size}<extra></extra>\",\"legendgroup\":\"Finland\",\"marker\":{\"color\":\"#19d3f3\",\"size\":[4.792736,0.0,0.0,0.0],\"sizemode\":\"area\",\"sizeref\":0.0155840875,\"symbol\":\"circle\"},\"mode\":\"markers\",\"name\":\"Finland\",\"orientation\":\"v\",\"showlegend\":true,\"x\":[47570.13358,47570.13358,47570.13358,47570.13358],\"xaxis\":\"x\",\"y\":[1.49,1.49,1.49,1.49],\"yaxis\":\"y\",\"type\":\"scatter\"},{\"hovertemplate\":\"Country Name=Fiji<br>GDP=%{x}<br>Fertility Rate=%{y}<br>Bubble Size=%{marker.size}<extra></extra>\",\"legendgroup\":\"Fiji\",\"marker\":{\"color\":\"#FF6692\",\"size\":[3.171898,0.0,0.0,0.0],\"sizemode\":\"area\",\"sizeref\":0.0155840875,\"symbol\":\"circle\"},\"mode\":\"markers\",\"name\":\"Fiji\",\"orientation\":\"v\",\"showlegend\":true,\"x\":[12822.01361,12822.01361,12822.01361,12822.01361],\"xaxis\":\"x\",\"y\":[2.557,2.557,2.557,2.557],\"yaxis\":\"y\",\"type\":\"scatter\"},{\"hovertemplate\":\"Country Name=France<br>GDP=%{x}<br>Fertility Rate=%{y}<br>Bubble Size=%{marker.size}<extra></extra>\",\"legendgroup\":\"France\",\"marker\":{\"color\":\"#B6E880\",\"size\":[4.253807,0.0,0.0,0.0],\"sizemode\":\"area\",\"sizeref\":0.0155840875,\"symbol\":\"circle\"},\"mode\":\"markers\",\"name\":\"France\",\"orientation\":\"v\",\"showlegend\":true,\"x\":[44577.06457,44577.06457,44577.06457,44577.06457],\"xaxis\":\"x\",\"y\":[1.89,1.89,1.89,1.89],\"yaxis\":\"y\",\"type\":\"scatter\"},{\"hovertemplate\":\"Country Name=Gabon<br>GDP=%{x}<br>Fertility Rate=%{y}<br>Bubble Size=%{marker.size}<extra></extra>\",\"legendgroup\":\"Gabon\",\"marker\":{\"color\":\"#FF97FF\",\"size\":[4.049029,0.0,0.0,0.0],\"sizemode\":\"area\",\"sizeref\":0.0155840875,\"symbol\":\"circle\"},\"mode\":\"markers\",\"name\":\"Gabon\",\"orientation\":\"v\",\"showlegend\":true,\"x\":[14478.130309999999,14478.130309999999,14478.130309999999,14478.130309999999],\"xaxis\":\"x\",\"y\":[3.752,3.752,3.752,3.752],\"yaxis\":\"y\",\"type\":\"scatter\"},{\"hovertemplate\":\"Country Name=United Kingdom<br>GDP=%{x}<br>Fertility Rate=%{y}<br>Bubble Size=%{marker.size}<extra></extra>\",\"legendgroup\":\"United Kingdom\",\"marker\":{\"color\":\"#FECB52\",\"size\":[4.119524,0.0,0.0,0.0],\"sizemode\":\"area\",\"sizeref\":0.0155840875,\"symbol\":\"circle\"},\"mode\":\"markers\",\"name\":\"United Kingdom\",\"orientation\":\"v\",\"showlegend\":true,\"x\":[46104.0554,46104.0554,46104.0554,46104.0554],\"xaxis\":\"x\",\"y\":[1.74,1.74,1.74,1.74],\"yaxis\":\"y\",\"type\":\"scatter\"},{\"hovertemplate\":\"Country Name=Georgia<br>GDP=%{x}<br>Fertility Rate=%{y}<br>Bubble Size=%{marker.size}<extra></extra>\",\"legendgroup\":\"Georgia\",\"marker\":{\"color\":\"#636efa\",\"size\":[2.7973790000000003,0.0,0.0,0.0],\"sizemode\":\"area\",\"sizeref\":0.0155840875,\"symbol\":\"circle\"},\"mode\":\"markers\",\"name\":\"Georgia\",\"orientation\":\"v\",\"showlegend\":true,\"x\":[13589.707390000001,13589.707390000001,13589.707390000001,13589.707390000001],\"xaxis\":\"x\",\"y\":[2.144,2.144,2.144,2.144],\"yaxis\":\"y\",\"type\":\"scatter\"},{\"hovertemplate\":\"Country Name=Ghana<br>GDP=%{x}<br>Fertility Rate=%{y}<br>Bubble Size=%{marker.size}<extra></extra>\",\"legendgroup\":\"Ghana\",\"marker\":{\"color\":\"#EF553B\",\"size\":[3.396647,0.0,0.0,0.0],\"sizemode\":\"area\",\"sizeref\":0.0155840875,\"symbol\":\"circle\"},\"mode\":\"markers\",\"name\":\"Ghana\",\"orientation\":\"v\",\"showlegend\":true,\"x\":[4929.567954,4929.567954,4929.567954,4929.567954],\"xaxis\":\"x\",\"y\":[3.713,3.713,3.713,3.713],\"yaxis\":\"y\",\"type\":\"scatter\"},{\"hovertemplate\":\"Country Name=Gibraltar<br>GDP=%{x}<br>Fertility Rate=%{y}<br>Bubble Size=%{marker.size}<extra></extra>\",\"legendgroup\":\"Gibraltar\",\"marker\":{\"color\":\"#00cc96\",\"size\":[0.0,0.0],\"sizemode\":\"area\",\"sizeref\":0.0155840875,\"symbol\":\"circle\"},\"mode\":\"markers\",\"name\":\"Gibraltar\",\"orientation\":\"v\",\"showlegend\":true,\"x\":[0.0,0.0],\"xaxis\":\"x\",\"y\":[1.895,1.895],\"yaxis\":\"y\",\"type\":\"scatter\"},{\"hovertemplate\":\"Country Name=Guinea<br>GDP=%{x}<br>Fertility Rate=%{y}<br>Bubble Size=%{marker.size}<extra></extra>\",\"legendgroup\":\"Guinea\",\"marker\":{\"color\":\"#ab63fa\",\"size\":[3.5609330000000003,0.0,0.0,0.0],\"sizemode\":\"area\",\"sizeref\":0.0155840875,\"symbol\":\"circle\"},\"mode\":\"markers\",\"name\":\"Guinea\",\"orientation\":\"v\",\"showlegend\":true,\"x\":[2383.578867,2383.578867,2383.578867,2383.578867],\"xaxis\":\"x\",\"y\":[4.789,4.789,4.789,4.789],\"yaxis\":\"y\",\"type\":\"scatter\"},{\"hovertemplate\":\"Country Name=Guinea-Bissau<br>GDP=%{x}<br>Fertility Rate=%{y}<br>Bubble Size=%{marker.size}<extra></extra>\",\"legendgroup\":\"Guinea-Bissau\",\"marker\":{\"color\":\"#FFA15A\",\"size\":[3.66543,0.0,0.0,0.0],\"sizemode\":\"area\",\"sizeref\":0.0155840875,\"symbol\":\"circle\"},\"mode\":\"markers\",\"name\":\"Guinea-Bissau\",\"orientation\":\"v\",\"showlegend\":true,\"x\":[1872.3092809999998,1872.3092809999998,1872.3092809999998,1872.3092809999998],\"xaxis\":\"x\",\"y\":[4.3580000000000005,4.3580000000000005,4.3580000000000005,4.3580000000000005],\"yaxis\":\"y\",\"type\":\"scatter\"},{\"hovertemplate\":\"Country Name=Equatorial Guinea<br>GDP=%{x}<br>Fertility Rate=%{y}<br>Bubble Size=%{marker.size}<extra></extra>\",\"legendgroup\":\"Equatorial Guinea\",\"marker\":{\"color\":\"#19d3f3\",\"size\":[4.16709,0.0,0.0,0.0],\"sizemode\":\"area\",\"sizeref\":0.0155840875,\"symbol\":\"circle\"},\"mode\":\"markers\",\"name\":\"Equatorial Guinea\",\"orientation\":\"v\",\"showlegend\":true,\"x\":[19617.84471,19617.84471,19617.84471,19617.84471],\"xaxis\":\"x\",\"y\":[4.599,4.599,4.599,4.599],\"yaxis\":\"y\",\"type\":\"scatter\"},{\"hovertemplate\":\"Country Name=Greece<br>GDP=%{x}<br>Fertility Rate=%{y}<br>Bubble Size=%{marker.size}<extra></extra>\",\"legendgroup\":\"Greece\",\"marker\":{\"color\":\"#FF6692\",\"size\":[4.185864,0.0,0.0,0.0],\"sizemode\":\"area\",\"sizeref\":0.0155840875,\"symbol\":\"circle\"},\"mode\":\"markers\",\"name\":\"Greece\",\"orientation\":\"v\",\"showlegend\":true,\"x\":[28604.86094,28604.86094,28604.86094,28604.86094],\"xaxis\":\"x\",\"y\":[1.35,1.35,1.35,1.35],\"yaxis\":\"y\",\"type\":\"scatter\"},{\"hovertemplate\":\"Country Name=Grenada<br>GDP=%{x}<br>Fertility Rate=%{y}<br>Bubble Size=%{marker.size}<extra></extra>\",\"legendgroup\":\"Grenada\",\"marker\":{\"color\":\"#B6E880\",\"size\":[2.770066,0.0,0.0,0.0],\"sizemode\":\"area\",\"sizeref\":0.0155840875,\"symbol\":\"circle\"},\"mode\":\"markers\",\"name\":\"Grenada\",\"orientation\":\"v\",\"showlegend\":true,\"x\":[14870.031490000001,14870.031490000001,14870.031490000001,14870.031490000001],\"xaxis\":\"x\",\"y\":[2.083,2.083,2.083,2.083],\"yaxis\":\"y\",\"type\":\"scatter\"},{\"hovertemplate\":\"Country Name=Greenland<br>GDP=%{x}<br>Fertility Rate=%{y}<br>Bubble Size=%{marker.size}<extra></extra>\",\"legendgroup\":\"Greenland\",\"marker\":{\"color\":\"#FF97FF\",\"size\":[6.233635,0.0,0.0,0.0],\"sizemode\":\"area\",\"sizeref\":0.0155840875,\"symbol\":\"circle\"},\"mode\":\"markers\",\"name\":\"Greenland\",\"orientation\":\"v\",\"showlegend\":true,\"x\":[0.0,0.0,0.0,0.0],\"xaxis\":\"x\",\"y\":[2.09,2.09,2.09,2.09],\"yaxis\":\"y\",\"type\":\"scatter\"},{\"hovertemplate\":\"Country Name=Guatemala<br>GDP=%{x}<br>Fertility Rate=%{y}<br>Bubble Size=%{marker.size}<extra></extra>\",\"legendgroup\":\"Guatemala\",\"marker\":{\"color\":\"#FECB52\",\"size\":[3.216025,0.0,0.0,0.0],\"sizemode\":\"area\",\"sizeref\":0.0155840875,\"symbol\":\"circle\"},\"mode\":\"markers\",\"name\":\"Guatemala\",\"orientation\":\"v\",\"showlegend\":true,\"x\":[8322.21681,8322.21681,8322.21681,8322.21681],\"xaxis\":\"x\",\"y\":[2.8569999999999998,2.8569999999999998,2.8569999999999998,2.8569999999999998],\"yaxis\":\"y\",\"type\":\"scatter\"},{\"hovertemplate\":\"Country Name=Guam<br>GDP=%{x}<br>Fertility Rate=%{y}<br>Bubble Size=%{marker.size}<extra></extra>\",\"legendgroup\":\"Guam\",\"marker\":{\"color\":\"#636efa\",\"size\":[3.4928559999999997,0.0,0.0,0.0],\"sizemode\":\"area\",\"sizeref\":0.0155840875,\"symbol\":\"circle\"},\"mode\":\"markers\",\"name\":\"Guam\",\"orientation\":\"v\",\"showlegend\":true,\"x\":[0.0,0.0,0.0,0.0],\"xaxis\":\"x\",\"y\":[2.805,2.805,2.805,2.805],\"yaxis\":\"y\",\"type\":\"scatter\"},{\"hovertemplate\":\"Country Name=Guyana<br>GDP=%{x}<br>Fertility Rate=%{y}<br>Bubble Size=%{marker.size}<extra></extra>\",\"legendgroup\":\"Guyana\",\"marker\":{\"color\":\"#EF553B\",\"size\":[4.141724,0.0,0.0,0.0],\"sizemode\":\"area\",\"sizeref\":0.0155840875,\"symbol\":\"circle\"},\"mode\":\"markers\",\"name\":\"Guyana\",\"orientation\":\"v\",\"showlegend\":true,\"x\":[12193.62168,12193.62168,12193.62168,12193.62168],\"xaxis\":\"x\",\"y\":[2.485,2.485,2.485,2.485],\"yaxis\":\"y\",\"type\":\"scatter\"},{\"hovertemplate\":\"Country Name=Honduras<br>GDP=%{x}<br>Fertility Rate=%{y}<br>Bubble Size=%{marker.size}<extra></extra>\",\"legendgroup\":\"Honduras\",\"marker\":{\"color\":\"#00cc96\",\"size\":[2.7523009999999997,0.0,0.0,0.0],\"sizemode\":\"area\",\"sizeref\":0.0155840875,\"symbol\":\"circle\"},\"mode\":\"markers\",\"name\":\"Honduras\",\"orientation\":\"v\",\"showlegend\":true,\"x\":[5447.698792,5447.698792,5447.698792,5447.698792],\"xaxis\":\"x\",\"y\":[2.496,2.496,2.496,2.496],\"yaxis\":\"y\",\"type\":\"scatter\"},{\"hovertemplate\":\"Country Name=Croatia<br>GDP=%{x}<br>Fertility Rate=%{y}<br>Bubble Size=%{marker.size}<extra></extra>\",\"legendgroup\":\"Croatia\",\"marker\":{\"color\":\"#ab63fa\",\"size\":[2.779842,0.0,0.0,0.0],\"sizemode\":\"area\",\"sizeref\":0.0155840875,\"symbol\":\"circle\"},\"mode\":\"markers\",\"name\":\"Croatia\",\"orientation\":\"v\",\"showlegend\":true,\"x\":[27206.93571,27206.93571,27206.93571,27206.93571],\"xaxis\":\"x\",\"y\":[1.42,1.42,1.42,1.42],\"yaxis\":\"y\",\"type\":\"scatter\"},{\"hovertemplate\":\"Country Name=Haiti<br>GDP=%{x}<br>Fertility Rate=%{y}<br>Bubble Size=%{marker.size}<extra></extra>\",\"legendgroup\":\"Haiti\",\"marker\":{\"color\":\"#FFA15A\",\"size\":[2.957782,0.0,0.0,0.0],\"sizemode\":\"area\",\"sizeref\":0.0155840875,\"symbol\":\"circle\"},\"mode\":\"markers\",\"name\":\"Haiti\",\"orientation\":\"v\",\"showlegend\":true,\"x\":[3200.042183,3200.042183,3200.042183,3200.042183],\"xaxis\":\"x\",\"y\":[3.016,3.016,3.016,3.016],\"yaxis\":\"y\",\"type\":\"scatter\"},{\"hovertemplate\":\"Country Name=Hungary<br>GDP=%{x}<br>Fertility Rate=%{y}<br>Bubble Size=%{marker.size}<extra></extra>\",\"legendgroup\":\"Hungary\",\"marker\":{\"color\":\"#19d3f3\",\"size\":[2.7652419999999998,0.0,0.0,0.0],\"sizemode\":\"area\",\"sizeref\":0.0155840875,\"symbol\":\"circle\"},\"mode\":\"markers\",\"name\":\"Hungary\",\"orientation\":\"v\",\"showlegend\":true,\"x\":[29496.16368,29496.16368,29496.16368,29496.16368],\"xaxis\":\"x\",\"y\":[1.54,1.54,1.54,1.54],\"yaxis\":\"y\",\"type\":\"scatter\"},{\"hovertemplate\":\"Country Name=Indonesia<br>GDP=%{x}<br>Fertility Rate=%{y}<br>Bubble Size=%{marker.size}<extra></extra>\",\"legendgroup\":\"Indonesia\",\"marker\":{\"color\":\"#FF6692\",\"size\":[2.642736,0.0,0.0,0.0],\"sizemode\":\"area\",\"sizeref\":0.0155840875,\"symbol\":\"circle\"},\"mode\":\"markers\",\"name\":\"Indonesia\",\"orientation\":\"v\",\"showlegend\":true,\"x\":[10941.92095,10941.92095,10941.92095,10941.92095],\"xaxis\":\"x\",\"y\":[2.262,2.262,2.262,2.262],\"yaxis\":\"y\",\"type\":\"scatter\"},{\"hovertemplate\":\"Country Name=Isle of Man<br>GDP=%{x}<br>Fertility Rate=%{y}<br>Bubble Size=%{marker.size}<extra></extra>\",\"legendgroup\":\"Isle of Man\",\"marker\":{\"color\":\"#B6E880\",\"size\":[0.0,0.0],\"sizemode\":\"area\",\"sizeref\":0.0155840875,\"symbol\":\"circle\"},\"mode\":\"markers\",\"name\":\"Isle of Man\",\"orientation\":\"v\",\"showlegend\":true,\"x\":[0.0,0.0],\"xaxis\":\"x\",\"y\":[1.6769999999999998,1.6769999999999998],\"yaxis\":\"y\",\"type\":\"scatter\"},{\"hovertemplate\":\"Country Name=India<br>GDP=%{x}<br>Fertility Rate=%{y}<br>Bubble Size=%{marker.size}<extra></extra>\",\"legendgroup\":\"India\",\"marker\":{\"color\":\"#FF97FF\",\"size\":[3.5298529999999997,0.0,0.0,0.0],\"sizemode\":\"area\",\"sizeref\":0.0155840875,\"symbol\":\"circle\"},\"mode\":\"markers\",\"name\":\"India\",\"orientation\":\"v\",\"showlegend\":true,\"x\":[6112.06665,6112.06665,6112.06665,6112.06665],\"xaxis\":\"x\",\"y\":[2.2,2.2,2.2,2.2],\"yaxis\":\"y\",\"type\":\"scatter\"},{\"hovertemplate\":\"Country Name=Ireland<br>GDP=%{x}<br>Fertility Rate=%{y}<br>Bubble Size=%{marker.size}<extra></extra>\",\"legendgroup\":\"Ireland\",\"marker\":{\"color\":\"#FECB52\",\"size\":[4.250921,0.0,0.0,0.0],\"sizemode\":\"area\",\"sizeref\":0.0155840875,\"symbol\":\"circle\"},\"mode\":\"markers\",\"name\":\"Ireland\",\"orientation\":\"v\",\"showlegend\":true,\"x\":[77968.62985,77968.62985,77968.62985,77968.62985],\"xaxis\":\"x\",\"y\":[1.77,1.77,1.77,1.77],\"yaxis\":\"y\",\"type\":\"scatter\"},{\"hovertemplate\":\"Country Name=Iraq<br>GDP=%{x}<br>Fertility Rate=%{y}<br>Bubble Size=%{marker.size}<extra></extra>\",\"legendgroup\":\"Iraq\",\"marker\":{\"color\":\"#636efa\",\"size\":[3.8911629999999997,0.0,0.0,0.0],\"sizemode\":\"area\",\"sizeref\":0.0155840875,\"symbol\":\"circle\"},\"mode\":\"markers\",\"name\":\"Iraq\",\"orientation\":\"v\",\"showlegend\":true,\"x\":[9976.854942,9976.854942,9976.854942,9976.854942],\"xaxis\":\"x\",\"y\":[3.73,3.73,3.73,3.73],\"yaxis\":\"y\",\"type\":\"scatter\"},{\"hovertemplate\":\"Country Name=Iceland<br>GDP=%{x}<br>Fertility Rate=%{y}<br>Bubble Size=%{marker.size}<extra></extra>\",\"legendgroup\":\"Iceland\",\"marker\":{\"color\":\"#EF553B\",\"size\":[3.3616650000000003,0.0,0.0,0.0],\"sizemode\":\"area\",\"sizeref\":0.0155840875,\"symbol\":\"circle\"},\"mode\":\"markers\",\"name\":\"Iceland\",\"orientation\":\"v\",\"showlegend\":true,\"x\":[55638.492060000004,55638.492060000004,55638.492060000004,55638.492060000004],\"xaxis\":\"x\",\"y\":[1.71,1.71,1.71,1.71],\"yaxis\":\"y\",\"type\":\"scatter\"},{\"hovertemplate\":\"Country Name=Israel<br>GDP=%{x}<br>Fertility Rate=%{y}<br>Bubble Size=%{marker.size}<extra></extra>\",\"legendgroup\":\"Israel\",\"marker\":{\"color\":\"#00cc96\",\"size\":[3.832221,0.0,0.0,0.0],\"sizemode\":\"area\",\"sizeref\":0.0155840875,\"symbol\":\"circle\"},\"mode\":\"markers\",\"name\":\"Israel\",\"orientation\":\"v\",\"showlegend\":true,\"x\":[39448.13915,39448.13915,39448.13915,39448.13915],\"xaxis\":\"x\",\"y\":[3.11,3.11,3.11,3.11],\"yaxis\":\"y\",\"type\":\"scatter\"},{\"hovertemplate\":\"Country Name=Italy<br>GDP=%{x}<br>Fertility Rate=%{y}<br>Bubble Size=%{marker.size}<extra></extra>\",\"legendgroup\":\"Italy\",\"marker\":{\"color\":\"#ab63fa\",\"size\":[3.464256,0.0,0.0,0.0],\"sizemode\":\"area\",\"sizeref\":0.0155840875,\"symbol\":\"circle\"},\"mode\":\"markers\",\"name\":\"Italy\",\"orientation\":\"v\",\"showlegend\":true,\"x\":[41581.12079,41581.12079,41581.12079,41581.12079],\"xaxis\":\"x\",\"y\":[1.32,1.32,1.32,1.32],\"yaxis\":\"y\",\"type\":\"scatter\"},{\"hovertemplate\":\"Country Name=Jamaica<br>GDP=%{x}<br>Fertility Rate=%{y}<br>Bubble Size=%{marker.size}<extra></extra>\",\"legendgroup\":\"Jamaica\",\"marker\":{\"color\":\"#FFA15A\",\"size\":[2.5923849999999997,0.0,0.0,0.0],\"sizemode\":\"area\",\"sizeref\":0.0155840875,\"symbol\":\"circle\"},\"mode\":\"markers\",\"name\":\"Jamaica\",\"orientation\":\"v\",\"showlegend\":true,\"x\":[9984.577117,9984.577117,9984.577117,9984.577117],\"xaxis\":\"x\",\"y\":[1.44,1.44,1.44,1.44],\"yaxis\":\"y\",\"type\":\"scatter\"},{\"hovertemplate\":\"Country Name=Jordan<br>GDP=%{x}<br>Fertility Rate=%{y}<br>Bubble Size=%{marker.size}<extra></extra>\",\"legendgroup\":\"Jordan\",\"marker\":{\"color\":\"#19d3f3\",\"size\":[3.5636019999999995,0.0,0.0,0.0],\"sizemode\":\"area\",\"sizeref\":0.0155840875,\"symbol\":\"circle\"},\"mode\":\"markers\",\"name\":\"Jordan\",\"orientation\":\"v\",\"showlegend\":true,\"x\":[9629.102997,9629.102997,9629.102997,9629.102997],\"xaxis\":\"x\",\"y\":[3.0269999999999997,3.0269999999999997,3.0269999999999997,3.0269999999999997],\"yaxis\":\"y\",\"type\":\"scatter\"},{\"hovertemplate\":\"Country Name=Japan<br>GDP=%{x}<br>Fertility Rate=%{y}<br>Bubble Size=%{marker.size}<extra></extra>\",\"legendgroup\":\"Japan\",\"marker\":{\"color\":\"#FF6692\",\"size\":[3.341565,0.0,0.0,0.0],\"sizemode\":\"area\",\"sizeref\":0.0155840875,\"symbol\":\"circle\"},\"mode\":\"markers\",\"name\":\"Japan\",\"orientation\":\"v\",\"showlegend\":true,\"x\":[41444.21574,41444.21574,41444.21574,41444.21574],\"xaxis\":\"x\",\"y\":[1.43,1.43,1.43,1.43],\"yaxis\":\"y\",\"type\":\"scatter\"},{\"hovertemplate\":\"Country Name=Kazakhstan<br>GDP=%{x}<br>Fertility Rate=%{y}<br>Bubble Size=%{marker.size}<extra></extra>\",\"legendgroup\":\"Kazakhstan\",\"marker\":{\"color\":\"#B6E880\",\"size\":[3.511775,0.0,0.0,0.0],\"sizemode\":\"area\",\"sizeref\":0.0155840875,\"symbol\":\"circle\"},\"mode\":\"markers\",\"name\":\"Kazakhstan\",\"orientation\":\"v\",\"showlegend\":true,\"x\":[24862.966119999997,24862.966119999997,24862.966119999997,24862.966119999997],\"xaxis\":\"x\",\"y\":[2.75,2.75,2.75,2.75],\"yaxis\":\"y\",\"type\":\"scatter\"},{\"hovertemplate\":\"Country Name=Kenya<br>GDP=%{x}<br>Fertility Rate=%{y}<br>Bubble Size=%{marker.size}<extra></extra>\",\"legendgroup\":\"Kenya\",\"marker\":{\"color\":\"#FF97FF\",\"size\":[3.5084190000000004,0.0,0.0,0.0],\"sizemode\":\"area\",\"sizeref\":0.0155840875,\"symbol\":\"circle\"},\"mode\":\"markers\",\"name\":\"Kenya\",\"orientation\":\"v\",\"showlegend\":true,\"x\":[4312.908917,4312.908917,4312.908917,4312.908917],\"xaxis\":\"x\",\"y\":[3.6430000000000002,3.6430000000000002,3.6430000000000002,3.6430000000000002],\"yaxis\":\"y\",\"type\":\"scatter\"},{\"hovertemplate\":\"Country Name=Cambodia<br>GDP=%{x}<br>Fertility Rate=%{y}<br>Bubble Size=%{marker.size}<extra></extra>\",\"legendgroup\":\"Cambodia\",\"marker\":{\"color\":\"#FECB52\",\"size\":[3.094945,0.0,0.0,0.0],\"sizemode\":\"area\",\"sizeref\":0.0155840875,\"symbol\":\"circle\"},\"mode\":\"markers\",\"name\":\"Cambodia\",\"orientation\":\"v\",\"showlegend\":true,\"x\":[3972.724164,3972.724164,3972.724164,3972.724164],\"xaxis\":\"x\",\"y\":[2.4730000000000003,2.4730000000000003,2.4730000000000003,2.4730000000000003],\"yaxis\":\"y\",\"type\":\"scatter\"},{\"hovertemplate\":\"Country Name=Kiribati<br>GDP=%{x}<br>Fertility Rate=%{y}<br>Bubble Size=%{marker.size}<extra></extra>\",\"legendgroup\":\"Kiribati\",\"marker\":{\"color\":\"#636efa\",\"size\":[3.1727540000000003,0.0,0.0,0.0],\"sizemode\":\"area\",\"sizeref\":0.0155840875,\"symbol\":\"circle\"},\"mode\":\"markers\",\"name\":\"Kiribati\",\"orientation\":\"v\",\"showlegend\":true,\"x\":[1970.8258809999998,1970.8258809999998,1970.8258809999998,1970.8258809999998],\"xaxis\":\"x\",\"y\":[3.431,3.431,3.431,3.431],\"yaxis\":\"y\",\"type\":\"scatter\"},{\"hovertemplate\":\"Country Name=Kuwait<br>GDP=%{x}<br>Fertility Rate=%{y}<br>Bubble Size=%{marker.size}<extra></extra>\",\"legendgroup\":\"Kuwait\",\"marker\":{\"color\":\"#EF553B\",\"size\":[3.635679,0.0,0.0,0.0],\"sizemode\":\"area\",\"sizeref\":0.0155840875,\"symbol\":\"circle\"},\"mode\":\"markers\",\"name\":\"Kuwait\",\"orientation\":\"v\",\"showlegend\":true,\"x\":[50007.29954,50007.29954,50007.29954,50007.29954],\"xaxis\":\"x\",\"y\":[2.161,2.161,2.161,2.161],\"yaxis\":\"y\",\"type\":\"scatter\"},{\"hovertemplate\":\"Country Name=Lebanon<br>GDP=%{x}<br>Fertility Rate=%{y}<br>Bubble Size=%{marker.size}<extra></extra>\",\"legendgroup\":\"Lebanon\",\"marker\":{\"color\":\"#00cc96\",\"size\":[3.6767339999999997,0.0,0.0,0.0],\"sizemode\":\"area\",\"sizeref\":0.0155840875,\"symbol\":\"circle\"},\"mode\":\"markers\",\"name\":\"Lebanon\",\"orientation\":\"v\",\"showlegend\":true,\"x\":[17808.07689,17808.07689,17808.07689,17808.07689],\"xaxis\":\"x\",\"y\":[2.173,2.173,2.173,2.173],\"yaxis\":\"y\",\"type\":\"scatter\"},{\"hovertemplate\":\"Country Name=Liberia<br>GDP=%{x}<br>Fertility Rate=%{y}<br>Bubble Size=%{marker.size}<extra></extra>\",\"legendgroup\":\"Liberia\",\"marker\":{\"color\":\"#ab63fa\",\"size\":[3.803038,0.0,0.0,0.0],\"sizemode\":\"area\",\"sizeref\":0.0155840875,\"symbol\":\"circle\"},\"mode\":\"markers\",\"name\":\"Liberia\",\"orientation\":\"v\",\"showlegend\":true,\"x\":[1533.4112380000001,1533.4112380000001,1533.4112380000001,1533.4112380000001],\"xaxis\":\"x\",\"y\":[4.396,4.396,4.396,4.396],\"yaxis\":\"y\",\"type\":\"scatter\"},{\"hovertemplate\":\"Country Name=Libya<br>GDP=%{x}<br>Fertility Rate=%{y}<br>Bubble Size=%{marker.size}<extra></extra>\",\"legendgroup\":\"Libya\",\"marker\":{\"color\":\"#FFA15A\",\"size\":[3.8047910000000003,0.0,0.0,0.0],\"sizemode\":\"area\",\"sizeref\":0.0155840875,\"symbol\":\"circle\"},\"mode\":\"markers\",\"name\":\"Libya\",\"orientation\":\"v\",\"showlegend\":true,\"x\":[24212.910930000002,24212.910930000002,24212.910930000002,24212.910930000002],\"xaxis\":\"x\",\"y\":[2.6260000000000003,2.6260000000000003,2.6260000000000003,2.6260000000000003],\"yaxis\":\"y\",\"type\":\"scatter\"},{\"hovertemplate\":\"Country Name=Liechtenstein<br>GDP=%{x}<br>Fertility Rate=%{y}<br>Bubble Size=%{marker.size}<extra></extra>\",\"legendgroup\":\"Liechtenstein\",\"marker\":{\"color\":\"#19d3f3\",\"size\":[0.0,0.0],\"sizemode\":\"area\",\"sizeref\":0.0155840875,\"symbol\":\"circle\"},\"mode\":\"markers\",\"name\":\"Liechtenstein\",\"orientation\":\"v\",\"showlegend\":true,\"x\":[0.0,0.0],\"xaxis\":\"x\",\"y\":[1.44,1.44],\"yaxis\":\"y\",\"type\":\"scatter\"},{\"hovertemplate\":\"Country Name=Sri Lanka<br>GDP=%{x}<br>Fertility Rate=%{y}<br>Bubble Size=%{marker.size}<extra></extra>\",\"legendgroup\":\"Sri Lanka\",\"marker\":{\"color\":\"#FF6692\",\"size\":[3.4433300000000004,0.0,0.0,0.0],\"sizemode\":\"area\",\"sizeref\":0.0155840875,\"symbol\":\"circle\"},\"mode\":\"markers\",\"name\":\"Sri Lanka\",\"orientation\":\"v\",\"showlegend\":true,\"x\":[13544.51899,13544.51899,13544.51899,13544.51899],\"xaxis\":\"x\",\"y\":[2.053,2.053,2.053,2.053],\"yaxis\":\"y\",\"type\":\"scatter\"},{\"hovertemplate\":\"Country Name=Lesotho<br>GDP=%{x}<br>Fertility Rate=%{y}<br>Bubble Size=%{marker.size}<extra></extra>\",\"legendgroup\":\"Lesotho\",\"marker\":{\"color\":\"#B6E880\",\"size\":[5.636661,0.0,0.0,0.0],\"sizemode\":\"area\",\"sizeref\":0.0155840875,\"symbol\":\"circle\"},\"mode\":\"markers\",\"name\":\"Lesotho\",\"orientation\":\"v\",\"showlegend\":true,\"x\":[2571.694113,2571.694113,2571.694113,2571.694113],\"xaxis\":\"x\",\"y\":[3.187,3.187,3.187,3.187],\"yaxis\":\"y\",\"type\":\"scatter\"},{\"hovertemplate\":\"Country Name=Lithuania<br>GDP=%{x}<br>Fertility Rate=%{y}<br>Bubble Size=%{marker.size}<extra></extra>\",\"legendgroup\":\"Lithuania\",\"marker\":{\"color\":\"#FF97FF\",\"size\":[4.143254,0.0,0.0,0.0],\"sizemode\":\"area\",\"sizeref\":0.0155840875,\"symbol\":\"circle\"},\"mode\":\"markers\",\"name\":\"Lithuania\",\"orientation\":\"v\",\"showlegend\":true,\"x\":[33761.87124,33761.87124,33761.87124,33761.87124],\"xaxis\":\"x\",\"y\":[1.63,1.63,1.63,1.63],\"yaxis\":\"y\",\"type\":\"scatter\"},{\"hovertemplate\":\"Country Name=Luxembourg<br>GDP=%{x}<br>Fertility Rate=%{y}<br>Bubble Size=%{marker.size}<extra></extra>\",\"legendgroup\":\"Luxembourg\",\"marker\":{\"color\":\"#FECB52\",\"size\":[3.617719,0.0,0.0,0.0],\"sizemode\":\"area\",\"sizeref\":0.0155840875,\"symbol\":\"circle\"},\"mode\":\"markers\",\"name\":\"Luxembourg\",\"orientation\":\"v\",\"showlegend\":true,\"x\":[114985.8422,114985.8422,114985.8422,114985.8422],\"xaxis\":\"x\",\"y\":[1.39,1.39,1.39,1.39],\"yaxis\":\"y\",\"type\":\"scatter\"},{\"hovertemplate\":\"Country Name=Latvia<br>GDP=%{x}<br>Fertility Rate=%{y}<br>Bubble Size=%{marker.size}<extra></extra>\",\"legendgroup\":\"Latvia\",\"marker\":{\"color\":\"#636efa\",\"size\":[3.499571,0.0,0.0,0.0],\"sizemode\":\"area\",\"sizeref\":0.0155840875,\"symbol\":\"circle\"},\"mode\":\"markers\",\"name\":\"Latvia\",\"orientation\":\"v\",\"showlegend\":true,\"x\":[28673.5634,28673.5634,28673.5634,28673.5634],\"xaxis\":\"x\",\"y\":[1.69,1.69,1.69,1.69],\"yaxis\":\"y\",\"type\":\"scatter\"},{\"hovertemplate\":\"Country Name=Morocco<br>GDP=%{x}<br>Fertility Rate=%{y}<br>Bubble Size=%{marker.size}<extra></extra>\",\"legendgroup\":\"Morocco\",\"marker\":{\"color\":\"#EF553B\",\"size\":[5.413573,0.0,0.0,0.0],\"sizemode\":\"area\",\"sizeref\":0.0155840875,\"symbol\":\"circle\"},\"mode\":\"markers\",\"name\":\"Morocco\",\"orientation\":\"v\",\"showlegend\":true,\"x\":[7921.619140999999,7921.619140999999,7921.619140999999,7921.619140999999],\"xaxis\":\"x\",\"y\":[2.451,2.451,2.451,2.451],\"yaxis\":\"y\",\"type\":\"scatter\"},{\"hovertemplate\":\"Country Name=Monaco<br>GDP=%{x}<br>Fertility Rate=%{y}<br>Bubble Size=%{marker.size}<extra></extra>\",\"legendgroup\":\"Monaco\",\"marker\":{\"color\":\"#00cc96\",\"size\":[0.0,0.0],\"sizemode\":\"area\",\"sizeref\":0.0155840875,\"symbol\":\"circle\"},\"mode\":\"markers\",\"name\":\"Monaco\",\"orientation\":\"v\",\"showlegend\":true,\"x\":[0.0,0.0],\"xaxis\":\"x\",\"y\":[0.0,0.0],\"yaxis\":\"y\",\"type\":\"scatter\"},{\"hovertemplate\":\"Country Name=Moldova<br>GDP=%{x}<br>Fertility Rate=%{y}<br>Bubble Size=%{marker.size}<extra></extra>\",\"legendgroup\":\"Moldova\",\"marker\":{\"color\":\"#ab63fa\",\"size\":[3.432549,0.0,0.0,0.0],\"sizemode\":\"area\",\"sizeref\":0.0155840875,\"symbol\":\"circle\"},\"mode\":\"markers\",\"name\":\"Moldova\",\"orientation\":\"v\",\"showlegend\":true,\"x\":[11464.01815,11464.01815,11464.01815,11464.01815],\"xaxis\":\"x\",\"y\":[1.81,1.81,1.81,1.81],\"yaxis\":\"y\",\"type\":\"scatter\"},{\"hovertemplate\":\"Country Name=Madagascar<br>GDP=%{x}<br>Fertility Rate=%{y}<br>Bubble Size=%{marker.size}<extra></extra>\",\"legendgroup\":\"Madagascar\",\"marker\":{\"color\":\"#FFA15A\",\"size\":[3.708514,0.0,0.0,0.0],\"sizemode\":\"area\",\"sizeref\":0.0155840875,\"symbol\":\"circle\"},\"mode\":\"markers\",\"name\":\"Madagascar\",\"orientation\":\"v\",\"showlegend\":true,\"x\":[1548.156425,1548.156425,1548.156425,1548.156425],\"xaxis\":\"x\",\"y\":[4.109,4.109,4.109,4.109],\"yaxis\":\"y\",\"type\":\"scatter\"},{\"hovertemplate\":\"Country Name=Maldives<br>GDP=%{x}<br>Fertility Rate=%{y}<br>Bubble Size=%{marker.size}<extra></extra>\",\"legendgroup\":\"Maldives\",\"marker\":{\"color\":\"#19d3f3\",\"size\":[3.09997,0.0,0.0,0.0],\"sizemode\":\"area\",\"sizeref\":0.0155840875,\"symbol\":\"circle\"},\"mode\":\"markers\",\"name\":\"Maldives\",\"orientation\":\"v\",\"showlegend\":true,\"x\":[18973.56896,18973.56896,18973.56896,18973.56896],\"xaxis\":\"x\",\"y\":[1.845,1.845,1.845,1.845],\"yaxis\":\"y\",\"type\":\"scatter\"},{\"hovertemplate\":\"Country Name=Mexico<br>GDP=%{x}<br>Fertility Rate=%{y}<br>Bubble Size=%{marker.size}<extra></extra>\",\"legendgroup\":\"Mexico\",\"marker\":{\"color\":\"#FF6692\",\"size\":[2.788807,0.0,0.0,0.0],\"sizemode\":\"area\",\"sizeref\":0.0155840875,\"symbol\":\"circle\"},\"mode\":\"markers\",\"name\":\"Mexico\",\"orientation\":\"v\",\"showlegend\":true,\"x\":[20032.40861,20032.40861,20032.40861,20032.40861],\"xaxis\":\"x\",\"y\":[2.041,2.041,2.041,2.041],\"yaxis\":\"y\",\"type\":\"scatter\"},{\"hovertemplate\":\"Country Name=Marshall Islands<br>GDP=%{x}<br>Fertility Rate=%{y}<br>Bubble Size=%{marker.size}<extra></extra>\",\"legendgroup\":\"Marshall Islands\",\"marker\":{\"color\":\"#B6E880\",\"size\":[3.104347,0.0,0.0,0.0],\"sizemode\":\"area\",\"sizeref\":0.0155840875,\"symbol\":\"circle\"},\"mode\":\"markers\",\"name\":\"Marshall Islands\",\"orientation\":\"v\",\"showlegend\":true,\"x\":[4635.01719,4635.01719,4635.01719,4635.01719],\"xaxis\":\"x\",\"y\":[2.929,2.929,2.929,2.929],\"yaxis\":\"y\",\"type\":\"scatter\"},{\"hovertemplate\":\"Country Name=Mali<br>GDP=%{x}<br>Fertility Rate=%{y}<br>Bubble Size=%{marker.size}<extra></extra>\",\"legendgroup\":\"Mali\",\"marker\":{\"color\":\"#FF97FF\",\"size\":[3.00742,0.0,0.0,0.0],\"sizemode\":\"area\",\"sizeref\":0.0155840875,\"symbol\":\"circle\"},\"mode\":\"markers\",\"name\":\"Mali\",\"orientation\":\"v\",\"showlegend\":true,\"x\":[2153.845638,2153.845638,2153.845638,2153.845638],\"xaxis\":\"x\",\"y\":[6.251,6.251,6.251,6.251],\"yaxis\":\"y\",\"type\":\"scatter\"},{\"hovertemplate\":\"Country Name=Malta<br>GDP=%{x}<br>Fertility Rate=%{y}<br>Bubble Size=%{marker.size}<extra></extra>\",\"legendgroup\":\"Malta\",\"marker\":{\"color\":\"#FECB52\",\"size\":[3.374137,0.0,0.0,0.0],\"sizemode\":\"area\",\"sizeref\":0.0155840875,\"symbol\":\"circle\"},\"mode\":\"markers\",\"name\":\"Malta\",\"orientation\":\"v\",\"showlegend\":true,\"x\":[43508.783260000004,43508.783260000004,43508.783260000004,43508.783260000004],\"xaxis\":\"x\",\"y\":[1.26,1.26,1.26,1.26],\"yaxis\":\"y\",\"type\":\"scatter\"},{\"hovertemplate\":\"Country Name=Myanmar<br>GDP=%{x}<br>Fertility Rate=%{y}<br>Bubble Size=%{marker.size}<extra></extra>\",\"legendgroup\":\"Myanmar\",\"marker\":{\"color\":\"#636efa\",\"size\":[2.300982,0.0,0.0,0.0],\"sizemode\":\"area\",\"sizeref\":0.0155840875,\"symbol\":\"circle\"},\"mode\":\"markers\",\"name\":\"Myanmar\",\"orientation\":\"v\",\"showlegend\":true,\"x\":[4312.947389,4312.947389,4312.947389,4312.947389],\"xaxis\":\"x\",\"y\":[2.234,2.234,2.234,2.234],\"yaxis\":\"y\",\"type\":\"scatter\"},{\"hovertemplate\":\"Country Name=Montenegro<br>GDP=%{x}<br>Fertility Rate=%{y}<br>Bubble Size=%{marker.size}<extra></extra>\",\"legendgroup\":\"Montenegro\",\"marker\":{\"color\":\"#EF553B\",\"size\":[2.55864,0.0,0.0,0.0],\"sizemode\":\"area\",\"sizeref\":0.0155840875,\"symbol\":\"circle\"},\"mode\":\"markers\",\"name\":\"Montenegro\",\"orientation\":\"v\",\"showlegend\":true,\"x\":[19682.29415,19682.29415,19682.29415,19682.29415],\"xaxis\":\"x\",\"y\":[1.78,1.78,1.78,1.78],\"yaxis\":\"y\",\"type\":\"scatter\"},{\"hovertemplate\":\"Country Name=Mongolia<br>GDP=%{x}<br>Fertility Rate=%{y}<br>Bubble Size=%{marker.size}<extra></extra>\",\"legendgroup\":\"Mongolia\",\"marker\":{\"color\":\"#00cc96\",\"size\":[3.5254879999999997,0.0,0.0,0.0],\"sizemode\":\"area\",\"sizeref\":0.0155840875,\"symbol\":\"circle\"},\"mode\":\"markers\",\"name\":\"Mongolia\",\"orientation\":\"v\",\"showlegend\":true,\"x\":[11431.49802,11431.49802,11431.49802,11431.49802],\"xaxis\":\"x\",\"y\":[2.891,2.891,2.891,2.891],\"yaxis\":\"y\",\"type\":\"scatter\"},{\"hovertemplate\":\"Country Name=Northern Mariana Islands<br>GDP=%{x}<br>Fertility Rate=%{y}<br>Bubble Size=%{marker.size}<extra></extra>\",\"legendgroup\":\"Northern Mariana Islands\",\"marker\":{\"color\":\"#ab63fa\",\"size\":[3.097055,0.0,0.0,0.0],\"sizemode\":\"area\",\"sizeref\":0.0155840875,\"symbol\":\"circle\"},\"mode\":\"markers\",\"name\":\"Northern Mariana Islands\",\"orientation\":\"v\",\"showlegend\":true,\"x\":[0.0,0.0,0.0,0.0],\"xaxis\":\"x\",\"y\":[0.0,0.0,0.0,0.0],\"yaxis\":\"y\",\"type\":\"scatter\"},{\"hovertemplate\":\"Country Name=Mozambique<br>GDP=%{x}<br>Fertility Rate=%{y}<br>Bubble Size=%{marker.size}<extra></extra>\",\"legendgroup\":\"Mozambique\",\"marker\":{\"color\":\"#FFA15A\",\"size\":[3.901795,0.0,0.0,0.0],\"sizemode\":\"area\",\"sizeref\":0.0155840875,\"symbol\":\"circle\"},\"mode\":\"markers\",\"name\":\"Mozambique\",\"orientation\":\"v\",\"showlegend\":true,\"x\":[1287.234867,1287.234867,1287.234867,1287.234867],\"xaxis\":\"x\",\"y\":[4.922,4.922,4.922,4.922],\"yaxis\":\"y\",\"type\":\"scatter\"},{\"hovertemplate\":\"Country Name=Mauritania<br>GDP=%{x}<br>Fertility Rate=%{y}<br>Bubble Size=%{marker.size}<extra></extra>\",\"legendgroup\":\"Mauritania\",\"marker\":{\"color\":\"#19d3f3\",\"size\":[3.094161,0.0,0.0,0.0],\"sizemode\":\"area\",\"sizeref\":0.0155840875,\"symbol\":\"circle\"},\"mode\":\"markers\",\"name\":\"Mauritania\",\"orientation\":\"v\",\"showlegend\":true,\"x\":[5259.065063,5259.065063,5259.065063,5259.065063],\"xaxis\":\"x\",\"y\":[4.664,4.664,4.664,4.664],\"yaxis\":\"y\",\"type\":\"scatter\"},{\"hovertemplate\":\"Country Name=Mauritius<br>GDP=%{x}<br>Fertility Rate=%{y}<br>Bubble Size=%{marker.size}<extra></extra>\",\"legendgroup\":\"Mauritius\",\"marker\":{\"color\":\"#FF6692\",\"size\":[3.4785239999999997,0.0,0.0,0.0],\"sizemode\":\"area\",\"sizeref\":0.0155840875,\"symbol\":\"circle\"},\"mode\":\"markers\",\"name\":\"Mauritius\",\"orientation\":\"v\",\"showlegend\":true,\"x\":[22143.82655,22143.82655,22143.82655,22143.82655],\"xaxis\":\"x\",\"y\":[1.44,1.44,1.44,1.44],\"yaxis\":\"y\",\"type\":\"scatter\"},{\"hovertemplate\":\"Country Name=Malawi<br>GDP=%{x}<br>Fertility Rate=%{y}<br>Bubble Size=%{marker.size}<extra></extra>\",\"legendgroup\":\"Malawi\",\"marker\":{\"color\":\"#B6E880\",\"size\":[3.4461370000000002,0.0,0.0,0.0],\"sizemode\":\"area\",\"sizeref\":0.0155840875,\"symbol\":\"circle\"},\"mode\":\"markers\",\"name\":\"Malawi\",\"orientation\":\"v\",\"showlegend\":true,\"x\":[1454.777492,1454.777492,1454.777492,1454.777492],\"xaxis\":\"x\",\"y\":[4.22,4.22,4.22,4.22],\"yaxis\":\"y\",\"type\":\"scatter\"},{\"hovertemplate\":\"Country Name=Malaysia<br>GDP=%{x}<br>Fertility Rate=%{y}<br>Bubble Size=%{marker.size}<extra></extra>\",\"legendgroup\":\"Malaysia\",\"marker\":{\"color\":\"#FF97FF\",\"size\":[3.520854,0.0,0.0,0.0],\"sizemode\":\"area\",\"sizeref\":0.0155840875,\"symbol\":\"circle\"},\"mode\":\"markers\",\"name\":\"Malaysia\",\"orientation\":\"v\",\"showlegend\":true,\"x\":[25935.139519999997,25935.139519999997,25935.139519999997,25935.139519999997],\"xaxis\":\"x\",\"y\":[1.929,1.929,1.929,1.929],\"yaxis\":\"y\",\"type\":\"scatter\"},{\"hovertemplate\":\"Country Name=North America<br>GDP=%{x}<br>Fertility Rate=%{y}<br>Bubble Size=%{marker.size}<extra></extra>\",\"legendgroup\":\"North America\",\"marker\":{\"color\":\"#FECB52\",\"size\":[4.752802,0.0,0.0,0.0],\"sizemode\":\"area\",\"sizeref\":0.0155840875,\"symbol\":\"circle\"},\"mode\":\"markers\",\"name\":\"North America\",\"orientation\":\"v\",\"showlegend\":true,\"x\":[58740.6449,58740.6449,58740.6449,58740.6449],\"xaxis\":\"x\",\"y\":[1.7438884380000002,1.7438884380000002,1.7438884380000002,1.7438884380000002],\"yaxis\":\"y\",\"type\":\"scatter\"},{\"hovertemplate\":\"Country Name=Namibia<br>GDP=%{x}<br>Fertility Rate=%{y}<br>Bubble Size=%{marker.size}<extra></extra>\",\"legendgroup\":\"Namibia\",\"marker\":{\"color\":\"#636efa\",\"size\":[3.4599699999999998,0.0,0.0,0.0],\"sizemode\":\"area\",\"sizeref\":0.0155840875,\"symbol\":\"circle\"},\"mode\":\"markers\",\"name\":\"Namibia\",\"orientation\":\"v\",\"showlegend\":true,\"x\":[10335.26743,10335.26743,10335.26743,10335.26743],\"xaxis\":\"x\",\"y\":[3.511,3.511,3.511,3.511],\"yaxis\":\"y\",\"type\":\"scatter\"},{\"hovertemplate\":\"Country Name=New Caledonia<br>GDP=%{x}<br>Fertility Rate=%{y}<br>Bubble Size=%{marker.size}<extra></extra>\",\"legendgroup\":\"New Caledonia\",\"marker\":{\"color\":\"#EF553B\",\"size\":[0.0,0.0],\"sizemode\":\"area\",\"sizeref\":0.0155840875,\"symbol\":\"circle\"},\"mode\":\"markers\",\"name\":\"New Caledonia\",\"orientation\":\"v\",\"showlegend\":true,\"x\":[0.0,0.0],\"xaxis\":\"x\",\"y\":[2.04,2.04],\"yaxis\":\"y\",\"type\":\"scatter\"},{\"hovertemplate\":\"Country Name=Niger<br>GDP=%{x}<br>Fertility Rate=%{y}<br>Bubble Size=%{marker.size}<extra></extra>\",\"legendgroup\":\"Niger\",\"marker\":{\"color\":\"#00cc96\",\"size\":[3.463055,0.0,0.0,0.0],\"sizemode\":\"area\",\"sizeref\":0.0155840875,\"symbol\":\"circle\"},\"mode\":\"markers\",\"name\":\"Niger\",\"orientation\":\"v\",\"showlegend\":true,\"x\":[1155.973559,1155.973559,1155.973559,1155.973559],\"xaxis\":\"x\",\"y\":[7.084,7.084,7.084,7.084],\"yaxis\":\"y\",\"type\":\"scatter\"},{\"hovertemplate\":\"Country Name=Nigeria<br>GDP=%{x}<br>Fertility Rate=%{y}<br>Bubble Size=%{marker.size}<extra></extra>\",\"legendgroup\":\"Nigeria\",\"marker\":{\"color\":\"#ab63fa\",\"size\":[3.9176910000000005,0.0,0.0,0.0],\"sizemode\":\"area\",\"sizeref\":0.0155840875,\"symbol\":\"circle\"},\"mode\":\"markers\",\"name\":\"Nigeria\",\"orientation\":\"v\",\"showlegend\":true,\"x\":[5120.005598,5120.005598,5120.005598,5120.005598],\"xaxis\":\"x\",\"y\":[5.523,5.523,5.523,5.523],\"yaxis\":\"y\",\"type\":\"scatter\"},{\"hovertemplate\":\"Country Name=Nicaragua<br>GDP=%{x}<br>Fertility Rate=%{y}<br>Bubble Size=%{marker.size}<extra></extra>\",\"legendgroup\":\"Nicaragua\",\"marker\":{\"color\":\"#FFA15A\",\"size\":[2.854084,0.0,0.0,0.0],\"sizemode\":\"area\",\"sizeref\":0.0155840875,\"symbol\":\"circle\"},\"mode\":\"markers\",\"name\":\"Nicaragua\",\"orientation\":\"v\",\"showlegend\":true,\"x\":[5915.375443,5915.375443,5915.375443,5915.375443],\"xaxis\":\"x\",\"y\":[2.43,2.43,2.43,2.43],\"yaxis\":\"y\",\"type\":\"scatter\"},{\"hovertemplate\":\"Country Name=Netherlands<br>GDP=%{x}<br>Fertility Rate=%{y}<br>Bubble Size=%{marker.size}<extra></extra>\",\"legendgroup\":\"Netherlands\",\"marker\":{\"color\":\"#19d3f3\",\"size\":[4.026854,0.0,0.0,0.0],\"sizemode\":\"area\",\"sizeref\":0.0155840875,\"symbol\":\"circle\"},\"mode\":\"markers\",\"name\":\"Netherlands\",\"orientation\":\"v\",\"showlegend\":true,\"x\":[55088.6338,55088.6338,55088.6338,55088.6338],\"xaxis\":\"x\",\"y\":[1.62,1.62,1.62,1.62],\"yaxis\":\"y\",\"type\":\"scatter\"},{\"hovertemplate\":\"Country Name=Norway<br>GDP=%{x}<br>Fertility Rate=%{y}<br>Bubble Size=%{marker.size}<extra></extra>\",\"legendgroup\":\"Norway\",\"marker\":{\"color\":\"#FF6692\",\"size\":[3.7719099999999997,0.0,0.0,0.0],\"sizemode\":\"area\",\"sizeref\":0.0155840875,\"symbol\":\"circle\"},\"mode\":\"markers\",\"name\":\"Norway\",\"orientation\":\"v\",\"showlegend\":true,\"x\":[64589.555920000006,64589.555920000006,64589.555920000006,64589.555920000006],\"xaxis\":\"x\",\"y\":[1.62,1.62,1.62,1.62],\"yaxis\":\"y\",\"type\":\"scatter\"},{\"hovertemplate\":\"Country Name=Nepal<br>GDP=%{x}<br>Fertility Rate=%{y}<br>Bubble Size=%{marker.size}<extra></extra>\",\"legendgroup\":\"Nepal\",\"marker\":{\"color\":\"#B6E880\",\"size\":[3.606939,0.0,0.0,0.0],\"sizemode\":\"area\",\"sizeref\":0.0155840875,\"symbol\":\"circle\"},\"mode\":\"markers\",\"name\":\"Nepal\",\"orientation\":\"v\",\"showlegend\":true,\"x\":[3495.5288,3495.5288,3495.5288,3495.5288],\"xaxis\":\"x\",\"y\":[2.15,2.15,2.15,2.15],\"yaxis\":\"y\",\"type\":\"scatter\"},{\"hovertemplate\":\"Country Name=Nauru<br>GDP=%{x}<br>Fertility Rate=%{y}<br>Bubble Size=%{marker.size}<extra></extra>\",\"legendgroup\":\"Nauru\",\"marker\":{\"color\":\"#FF97FF\",\"size\":[0.0,0.0],\"sizemode\":\"area\",\"sizeref\":0.0155840875,\"symbol\":\"circle\"},\"mode\":\"markers\",\"name\":\"Nauru\",\"orientation\":\"v\",\"showlegend\":true,\"x\":[9359.986725,9359.986725],\"xaxis\":\"x\",\"y\":[3.7310000000000003,3.7310000000000003],\"yaxis\":\"y\",\"type\":\"scatter\"},{\"hovertemplate\":\"Country Name=New Zealand<br>GDP=%{x}<br>Fertility Rate=%{y}<br>Bubble Size=%{marker.size}<extra></extra>\",\"legendgroup\":\"New Zealand\",\"marker\":{\"color\":\"#FECB52\",\"size\":[3.9712650000000003,0.0,0.0,0.0],\"sizemode\":\"area\",\"sizeref\":0.0155840875,\"symbol\":\"circle\"},\"mode\":\"markers\",\"name\":\"New Zealand\",\"orientation\":\"v\",\"showlegend\":true,\"x\":[42204.74574,42204.74574,42204.74574,42204.74574],\"xaxis\":\"x\",\"y\":[1.81,1.81,1.81,1.81],\"yaxis\":\"y\",\"type\":\"scatter\"},{\"hovertemplate\":\"Country Name=Oman<br>GDP=%{x}<br>Fertility Rate=%{y}<br>Bubble Size=%{marker.size}<extra></extra>\",\"legendgroup\":\"Oman\",\"marker\":{\"color\":\"#636efa\",\"size\":[3.4339510000000004,0.0,0.0,0.0],\"sizemode\":\"area\",\"sizeref\":0.0155840875,\"symbol\":\"circle\"},\"mode\":\"markers\",\"name\":\"Oman\",\"orientation\":\"v\",\"showlegend\":true,\"x\":[34218.38813,34218.38813,34218.38813,34218.38813],\"xaxis\":\"x\",\"y\":[2.937,2.937,2.937,2.937],\"yaxis\":\"y\",\"type\":\"scatter\"},{\"hovertemplate\":\"Country Name=Pakistan<br>GDP=%{x}<br>Fertility Rate=%{y}<br>Bubble Size=%{marker.size}<extra></extra>\",\"legendgroup\":\"Pakistan\",\"marker\":{\"color\":\"#EF553B\",\"size\":[3.3312800000000005,0.0,0.0,0.0],\"sizemode\":\"area\",\"sizeref\":0.0155840875,\"symbol\":\"circle\"},\"mode\":\"markers\",\"name\":\"Pakistan\",\"orientation\":\"v\",\"showlegend\":true,\"x\":[4891.719774,4891.719774,4891.719774,4891.719774],\"xaxis\":\"x\",\"y\":[3.759,3.759,3.759,3.759],\"yaxis\":\"y\",\"type\":\"scatter\"},{\"hovertemplate\":\"Country Name=Panama<br>GDP=%{x}<br>Fertility Rate=%{y}<br>Bubble Size=%{marker.size}<extra></extra>\",\"legendgroup\":\"Panama\",\"marker\":{\"color\":\"#00cc96\",\"size\":[2.679025,0.0,0.0,0.0],\"sizemode\":\"area\",\"sizeref\":0.0155840875,\"symbol\":\"circle\"},\"mode\":\"markers\",\"name\":\"Panama\",\"orientation\":\"v\",\"showlegend\":true,\"x\":[31638.15192,31638.15192,31638.15192,31638.15192],\"xaxis\":\"x\",\"y\":[2.4930000000000003,2.4930000000000003,2.4930000000000003,2.4930000000000003],\"yaxis\":\"y\",\"type\":\"scatter\"},{\"hovertemplate\":\"Country Name=Peru<br>GDP=%{x}<br>Fertility Rate=%{y}<br>Bubble Size=%{marker.size}<extra></extra>\",\"legendgroup\":\"Peru\",\"marker\":{\"color\":\"#ab63fa\",\"size\":[2.276321,0.0,0.0,0.0],\"sizemode\":\"area\",\"sizeref\":0.0155840875,\"symbol\":\"circle\"},\"mode\":\"markers\",\"name\":\"Peru\",\"orientation\":\"v\",\"showlegend\":true,\"x\":[12442.74646,12442.74646,12442.74646,12442.74646],\"xaxis\":\"x\",\"y\":[2.281,2.281,2.281,2.281],\"yaxis\":\"y\",\"type\":\"scatter\"},{\"hovertemplate\":\"Country Name=Philippines<br>GDP=%{x}<br>Fertility Rate=%{y}<br>Bubble Size=%{marker.size}<extra></extra>\",\"legendgroup\":\"Philippines\",\"marker\":{\"color\":\"#FFA15A\",\"size\":[2.765176,0.0,0.0,0.0],\"sizemode\":\"area\",\"sizeref\":0.0155840875,\"symbol\":\"circle\"},\"mode\":\"markers\",\"name\":\"Philippines\",\"orientation\":\"v\",\"showlegend\":true,\"x\":[8001.75648,8001.75648,8001.75648,8001.75648],\"xaxis\":\"x\",\"y\":[2.865,2.865,2.865,2.865],\"yaxis\":\"y\",\"type\":\"scatter\"},{\"hovertemplate\":\"Country Name=Palau<br>GDP=%{x}<br>Fertility Rate=%{y}<br>Bubble Size=%{marker.size}<extra></extra>\",\"legendgroup\":\"Palau\",\"marker\":{\"color\":\"#19d3f3\",\"size\":[0.0,0.0],\"sizemode\":\"area\",\"sizeref\":0.0155840875,\"symbol\":\"circle\"},\"mode\":\"markers\",\"name\":\"Palau\",\"orientation\":\"v\",\"showlegend\":true,\"x\":[17594.99385,17594.99385],\"xaxis\":\"x\",\"y\":[0.0,0.0],\"yaxis\":\"y\",\"type\":\"scatter\"},{\"hovertemplate\":\"Country Name=Papua New Guinea<br>GDP=%{x}<br>Fertility Rate=%{y}<br>Bubble Size=%{marker.size}<extra></extra>\",\"legendgroup\":\"Papua New Guinea\",\"marker\":{\"color\":\"#FF6692\",\"size\":[3.168661,0.0,0.0,0.0],\"sizemode\":\"area\",\"sizeref\":0.0155840875,\"symbol\":\"circle\"},\"mode\":\"markers\",\"name\":\"Papua New Guinea\",\"orientation\":\"v\",\"showlegend\":true,\"x\":[3967.016196,3967.016196,3967.016196,3967.016196],\"xaxis\":\"x\",\"y\":[3.432,3.432,3.432,3.432],\"yaxis\":\"y\",\"type\":\"scatter\"},{\"hovertemplate\":\"Country Name=Poland<br>GDP=%{x}<br>Fertility Rate=%{y}<br>Bubble Size=%{marker.size}<extra></extra>\",\"legendgroup\":\"Poland\",\"marker\":{\"color\":\"#B6E880\",\"size\":[2.2504720000000002,0.0,0.0,0.0],\"sizemode\":\"area\",\"sizeref\":0.0155840875,\"symbol\":\"circle\"},\"mode\":\"markers\",\"name\":\"Poland\",\"orientation\":\"v\",\"showlegend\":true,\"x\":[29958.120710000003,29958.120710000003,29958.120710000003,29958.120710000003],\"xaxis\":\"x\",\"y\":[1.48,1.48,1.48,1.48],\"yaxis\":\"y\",\"type\":\"scatter\"},{\"hovertemplate\":\"Country Name=Puerto Rico<br>GDP=%{x}<br>Fertility Rate=%{y}<br>Bubble Size=%{marker.size}<extra></extra>\",\"legendgroup\":\"Puerto Rico\",\"marker\":{\"color\":\"#FF97FF\",\"size\":[2.726108,0.0,0.0,0.0],\"sizemode\":\"area\",\"sizeref\":0.0155840875,\"symbol\":\"circle\"},\"mode\":\"markers\",\"name\":\"Puerto Rico\",\"orientation\":\"v\",\"showlegend\":true,\"x\":[34363.745989999996,34363.745989999996,34363.745989999996,34363.745989999996],\"xaxis\":\"x\",\"y\":[1.101,1.101,1.101,1.101],\"yaxis\":\"y\",\"type\":\"scatter\"},{\"hovertemplate\":\"Country Name=Portugal<br>GDP=%{x}<br>Fertility Rate=%{y}<br>Bubble Size=%{marker.size}<extra></extra>\",\"legendgroup\":\"Portugal\",\"marker\":{\"color\":\"#FECB52\",\"size\":[4.421461,0.0,0.0,0.0],\"sizemode\":\"area\",\"sizeref\":0.0155840875,\"symbol\":\"circle\"},\"mode\":\"markers\",\"name\":\"Portugal\",\"orientation\":\"v\",\"showlegend\":true,\"x\":[33044.716739999996,33044.716739999996,33044.716739999996,33044.716739999996],\"xaxis\":\"x\",\"y\":[1.38,1.38,1.38,1.38],\"yaxis\":\"y\",\"type\":\"scatter\"},{\"hovertemplate\":\"Country Name=Paraguay<br>GDP=%{x}<br>Fertility Rate=%{y}<br>Bubble Size=%{marker.size}<extra></extra>\",\"legendgroup\":\"Paraguay\",\"marker\":{\"color\":\"#636efa\",\"size\":[2.9588400000000004,0.0,0.0,0.0],\"sizemode\":\"area\",\"sizeref\":0.0155840875,\"symbol\":\"circle\"},\"mode\":\"markers\",\"name\":\"Paraguay\",\"orientation\":\"v\",\"showlegend\":true,\"x\":[13604.174719999999,13604.174719999999,13604.174719999999,13604.174719999999],\"xaxis\":\"x\",\"y\":[2.591,2.591,2.591,2.591],\"yaxis\":\"y\",\"type\":\"scatter\"},{\"hovertemplate\":\"Country Name=French Polynesia<br>GDP=%{x}<br>Fertility Rate=%{y}<br>Bubble Size=%{marker.size}<extra></extra>\",\"legendgroup\":\"French Polynesia\",\"marker\":{\"color\":\"#EF553B\",\"size\":[0.0,0.0],\"sizemode\":\"area\",\"sizeref\":0.0155840875,\"symbol\":\"circle\"},\"mode\":\"markers\",\"name\":\"French Polynesia\",\"orientation\":\"v\",\"showlegend\":true,\"x\":[0.0,0.0],\"xaxis\":\"x\",\"y\":[1.804,1.804],\"yaxis\":\"y\",\"type\":\"scatter\"},{\"hovertemplate\":\"Country Name=Qatar<br>GDP=%{x}<br>Fertility Rate=%{y}<br>Bubble Size=%{marker.size}<extra></extra>\",\"legendgroup\":\"Qatar\",\"marker\":{\"color\":\"#00cc96\",\"size\":[3.4823269999999997,0.0,0.0,0.0],\"sizemode\":\"area\",\"sizeref\":0.0155840875,\"symbol\":\"circle\"},\"mode\":\"markers\",\"name\":\"Qatar\",\"orientation\":\"v\",\"showlegend\":true,\"x\":[92177.59594,92177.59594,92177.59594,92177.59594],\"xaxis\":\"x\",\"y\":[1.839,1.839,1.839,1.839],\"yaxis\":\"y\",\"type\":\"scatter\"},{\"hovertemplate\":\"Country Name=Romania<br>GDP=%{x}<br>Fertility Rate=%{y}<br>Bubble Size=%{marker.size}<extra></extra>\",\"legendgroup\":\"Romania\",\"marker\":{\"color\":\"#ab63fa\",\"size\":[2.3591740000000003,0.0,0.0,0.0],\"sizemode\":\"area\",\"sizeref\":0.0155840875,\"symbol\":\"circle\"},\"mode\":\"markers\",\"name\":\"Romania\",\"orientation\":\"v\",\"showlegend\":true,\"x\":[26943.347739999997,26943.347739999997,26943.347739999997,26943.347739999997],\"xaxis\":\"x\",\"y\":[1.71,1.71,1.71,1.71],\"yaxis\":\"y\",\"type\":\"scatter\"},{\"hovertemplate\":\"Country Name=Rwanda<br>GDP=%{x}<br>Fertility Rate=%{y}<br>Bubble Size=%{marker.size}<extra></extra>\",\"legendgroup\":\"Rwanda\",\"marker\":{\"color\":\"#FFA15A\",\"size\":[3.86945,0.0,0.0,0.0],\"sizemode\":\"area\",\"sizeref\":0.0155840875,\"symbol\":\"circle\"},\"mode\":\"markers\",\"name\":\"Rwanda\",\"orientation\":\"v\",\"showlegend\":true,\"x\":[1934.9729550000002,1934.9729550000002,1934.9729550000002,1934.9729550000002],\"xaxis\":\"x\",\"y\":[4.027,4.027,4.027,4.027],\"yaxis\":\"y\",\"type\":\"scatter\"},{\"hovertemplate\":\"Country Name=South Asia<br>GDP=%{x}<br>Fertility Rate=%{y}<br>Bubble Size=%{marker.size}<extra></extra>\",\"legendgroup\":\"South Asia\",\"marker\":{\"color\":\"#19d3f3\",\"size\":[3.5664480000000003,0.0,0.0,0.0],\"sizemode\":\"area\",\"sizeref\":0.0155840875,\"symbol\":\"circle\"},\"mode\":\"markers\",\"name\":\"South Asia\",\"orientation\":\"v\",\"showlegend\":true,\"x\":[5826.932931,5826.932931,5826.932931,5826.932931],\"xaxis\":\"x\",\"y\":[2.4061305269999997,2.4061305269999997,2.4061305269999997,2.4061305269999997],\"yaxis\":\"y\",\"type\":\"scatter\"},{\"hovertemplate\":\"Country Name=Saudi Arabia<br>GDP=%{x}<br>Fertility Rate=%{y}<br>Bubble Size=%{marker.size}<extra></extra>\",\"legendgroup\":\"Saudi Arabia\",\"marker\":{\"color\":\"#FF6692\",\"size\":[3.5368470000000003,0.0,0.0,0.0],\"sizemode\":\"area\",\"sizeref\":0.0155840875,\"symbol\":\"circle\"},\"mode\":\"markers\",\"name\":\"Saudi Arabia\",\"orientation\":\"v\",\"showlegend\":true,\"x\":[47551.85952,47551.85952,47551.85952,47551.85952],\"xaxis\":\"x\",\"y\":[2.5839999999999996,2.5839999999999996,2.5839999999999996,2.5839999999999996],\"yaxis\":\"y\",\"type\":\"scatter\"},{\"hovertemplate\":\"Country Name=Sudan<br>GDP=%{x}<br>Fertility Rate=%{y}<br>Bubble Size=%{marker.size}<extra></extra>\",\"legendgroup\":\"Sudan\",\"marker\":{\"color\":\"#B6E880\",\"size\":[3.781451,0.0,0.0,0.0],\"sizemode\":\"area\",\"sizeref\":0.0155840875,\"symbol\":\"circle\"},\"mode\":\"markers\",\"name\":\"Sudan\",\"orientation\":\"v\",\"showlegend\":true,\"x\":[4613.950195,4613.950195,4613.950195,4613.950195],\"xaxis\":\"x\",\"y\":[4.761,4.761,4.761,4.761],\"yaxis\":\"y\",\"type\":\"scatter\"},{\"hovertemplate\":\"Country Name=Senegal<br>GDP=%{x}<br>Fertility Rate=%{y}<br>Bubble Size=%{marker.size}<extra></extra>\",\"legendgroup\":\"Senegal\",\"marker\":{\"color\":\"#FF97FF\",\"size\":[3.3704970000000003,0.0,0.0,0.0],\"sizemode\":\"area\",\"sizeref\":0.0155840875,\"symbol\":\"circle\"},\"mode\":\"markers\",\"name\":\"Senegal\",\"orientation\":\"v\",\"showlegend\":true,\"x\":[3259.19258,3259.19258,3259.19258,3259.19258],\"xaxis\":\"x\",\"y\":[4.622,4.622,4.622,4.622],\"yaxis\":\"y\",\"type\":\"scatter\"},{\"hovertemplate\":\"Country Name=Singapore<br>GDP=%{x}<br>Fertility Rate=%{y}<br>Bubble Size=%{marker.size}<extra></extra>\",\"legendgroup\":\"Singapore\",\"marker\":{\"color\":\"#FECB52\",\"size\":[3.438271,0.0,0.0,0.0],\"sizemode\":\"area\",\"sizeref\":0.0155840875,\"symbol\":\"circle\"},\"mode\":\"markers\",\"name\":\"Singapore\",\"orientation\":\"v\",\"showlegend\":true,\"x\":[95334.14557000001,95334.14557000001,95334.14557000001,95334.14557000001],\"xaxis\":\"x\",\"y\":[1.16,1.16,1.16,1.16],\"yaxis\":\"y\",\"type\":\"scatter\"},{\"hovertemplate\":\"Country Name=Solomon Islands<br>GDP=%{x}<br>Fertility Rate=%{y}<br>Bubble Size=%{marker.size}<extra></extra>\",\"legendgroup\":\"Solomon Islands\",\"marker\":{\"color\":\"#636efa\",\"size\":[3.153068,0.0,0.0,0.0],\"sizemode\":\"area\",\"sizeref\":0.0155840875,\"symbol\":\"circle\"},\"mode\":\"markers\",\"name\":\"Solomon Islands\",\"orientation\":\"v\",\"showlegend\":true,\"x\":[2625.1345300000003,2625.1345300000003,2625.1345300000003,2625.1345300000003],\"xaxis\":\"x\",\"y\":[4.218,4.218,4.218,4.218],\"yaxis\":\"y\",\"type\":\"scatter\"},{\"hovertemplate\":\"Country Name=Sierra Leone<br>GDP=%{x}<br>Fertility Rate=%{y}<br>Bubble Size=%{marker.size}<extra></extra>\",\"legendgroup\":\"Sierra Leone\",\"marker\":{\"color\":\"#EF553B\",\"size\":[3.5815010000000003,0.0,0.0,0.0],\"sizemode\":\"area\",\"sizeref\":0.0155840875,\"symbol\":\"circle\"},\"mode\":\"markers\",\"name\":\"Sierra Leone\",\"orientation\":\"v\",\"showlegend\":true,\"x\":[1593.515322,1593.515322,1593.515322,1593.515322],\"xaxis\":\"x\",\"y\":[4.388999999999999,4.388999999999999,4.388999999999999,4.388999999999999],\"yaxis\":\"y\",\"type\":\"scatter\"},{\"hovertemplate\":\"Country Name=El Salvador<br>GDP=%{x}<br>Fertility Rate=%{y}<br>Bubble Size=%{marker.size}<extra></extra>\",\"legendgroup\":\"El Salvador\",\"marker\":{\"color\":\"#00cc96\",\"size\":[3.025887,0.0,0.0,0.0],\"sizemode\":\"area\",\"sizeref\":0.0155840875,\"symbol\":\"circle\"},\"mode\":\"markers\",\"name\":\"El Salvador\",\"orientation\":\"v\",\"showlegend\":true,\"x\":[8617.921708,8617.921708,8617.921708,8617.921708],\"xaxis\":\"x\",\"y\":[1.896,1.896,1.896,1.896],\"yaxis\":\"y\",\"type\":\"scatter\"},{\"hovertemplate\":\"Country Name=San Marino<br>GDP=%{x}<br>Fertility Rate=%{y}<br>Bubble Size=%{marker.size}<extra></extra>\",\"legendgroup\":\"San Marino\",\"marker\":{\"color\":\"#ab63fa\",\"size\":[0.0,0.0],\"sizemode\":\"area\",\"sizeref\":0.0155840875,\"symbol\":\"circle\"},\"mode\":\"markers\",\"name\":\"San Marino\",\"orientation\":\"v\",\"showlegend\":true,\"x\":[58201.5271,58201.5271],\"xaxis\":\"x\",\"y\":[0.0,0.0],\"yaxis\":\"y\",\"type\":\"scatter\"},{\"hovertemplate\":\"Country Name=Somalia<br>GDP=%{x}<br>Fertility Rate=%{y}<br>Bubble Size=%{marker.size}<extra></extra>\",\"legendgroup\":\"Somalia\",\"marker\":{\"color\":\"#FFA15A\",\"size\":[3.7847480000000004,0.0,0.0,0.0],\"sizemode\":\"area\",\"sizeref\":0.0155840875,\"symbol\":\"circle\"},\"mode\":\"markers\",\"name\":\"Somalia\",\"orientation\":\"v\",\"showlegend\":true,\"x\":[1059.143932,1059.143932,1059.143932,1059.143932],\"xaxis\":\"x\",\"y\":[6.7379999999999995,6.7379999999999995,6.7379999999999995,6.7379999999999995],\"yaxis\":\"y\",\"type\":\"scatter\"},{\"hovertemplate\":\"Country Name=Serbia<br>GDP=%{x}<br>Fertility Rate=%{y}<br>Bubble Size=%{marker.size}<extra></extra>\",\"legendgroup\":\"Serbia\",\"marker\":{\"color\":\"#19d3f3\",\"size\":[2.570068,0.0,0.0,0.0],\"sizemode\":\"area\",\"sizeref\":0.0155840875,\"symbol\":\"circle\"},\"mode\":\"markers\",\"name\":\"Serbia\",\"orientation\":\"v\",\"showlegend\":true,\"x\":[16611.04793,16611.04793,16611.04793,16611.04793],\"xaxis\":\"x\",\"y\":[1.49,1.49,1.49,1.49],\"yaxis\":\"y\",\"type\":\"scatter\"},{\"hovertemplate\":\"Country Name=South Sudan<br>GDP=%{x}<br>Fertility Rate=%{y}<br>Bubble Size=%{marker.size}<extra></extra>\",\"legendgroup\":\"South Sudan\",\"marker\":{\"color\":\"#FF6692\",\"size\":[3.699147,0.0,0.0,0.0],\"sizemode\":\"area\",\"sizeref\":0.0155840875,\"symbol\":\"circle\"},\"mode\":\"markers\",\"name\":\"South Sudan\",\"orientation\":\"v\",\"showlegend\":true,\"x\":[0.0,0.0,0.0,0.0],\"xaxis\":\"x\",\"y\":[4.775,4.775,4.775,4.775],\"yaxis\":\"y\",\"type\":\"scatter\"},{\"hovertemplate\":\"Country Name=Sub-Saharan Africa<br>GDP=%{x}<br>Fertility Rate=%{y}<br>Bubble Size=%{marker.size}<extra></extra>\",\"legendgroup\":\"Sub-Saharan Africa\",\"marker\":{\"color\":\"#B6E880\",\"size\":[3.776132,0.0,0.0,0.0],\"sizemode\":\"area\",\"sizeref\":0.0155840875,\"symbol\":\"circle\"},\"mode\":\"markers\",\"name\":\"Sub-Saharan Africa\",\"orientation\":\"v\",\"showlegend\":true,\"x\":[3803.309387,3803.309387,3803.309387,3803.309387],\"xaxis\":\"x\",\"y\":[4.840990383,4.840990383,4.840990383,4.840990383],\"yaxis\":\"y\",\"type\":\"scatter\"},{\"hovertemplate\":\"Country Name=Sao Tome and Principe<br>GDP=%{x}<br>Fertility Rate=%{y}<br>Bubble Size=%{marker.size}<extra></extra>\",\"legendgroup\":\"Sao Tome and Principe\",\"marker\":{\"color\":\"#FF97FF\",\"size\":[3.136314,0.0,0.0,0.0],\"sizemode\":\"area\",\"sizeref\":0.0155840875,\"symbol\":\"circle\"},\"mode\":\"markers\",\"name\":\"Sao Tome and Principe\",\"orientation\":\"v\",\"showlegend\":true,\"x\":[3934.8942,3934.8942,3934.8942,3934.8942],\"xaxis\":\"x\",\"y\":[4.1419999999999995,4.1419999999999995,4.1419999999999995,4.1419999999999995],\"yaxis\":\"y\",\"type\":\"scatter\"},{\"hovertemplate\":\"Country Name=Suriname<br>GDP=%{x}<br>Fertility Rate=%{y}<br>Bubble Size=%{marker.size}<extra></extra>\",\"legendgroup\":\"Suriname\",\"marker\":{\"color\":\"#FECB52\",\"size\":[3.973583,0.0,0.0,0.0],\"sizemode\":\"area\",\"sizeref\":0.0155840875,\"symbol\":\"circle\"},\"mode\":\"markers\",\"name\":\"Suriname\",\"orientation\":\"v\",\"showlegend\":true,\"x\":[17753.060269999998,17753.060269999998,17753.060269999998,17753.060269999998],\"xaxis\":\"x\",\"y\":[2.443,2.443,2.443,2.443],\"yaxis\":\"y\",\"type\":\"scatter\"},{\"hovertemplate\":\"Country Name=Slovenia<br>GDP=%{x}<br>Fertility Rate=%{y}<br>Bubble Size=%{marker.size}<extra></extra>\",\"legendgroup\":\"Slovenia\",\"marker\":{\"color\":\"#636efa\",\"size\":[2.8632779999999998,0.0,0.0,0.0],\"sizemode\":\"area\",\"sizeref\":0.0155840875,\"symbol\":\"circle\"},\"mode\":\"markers\",\"name\":\"Slovenia\",\"orientation\":\"v\",\"showlegend\":true,\"x\":[36507.55304,36507.55304,36507.55304,36507.55304],\"xaxis\":\"x\",\"y\":[1.62,1.62,1.62,1.62],\"yaxis\":\"y\",\"type\":\"scatter\"},{\"hovertemplate\":\"Country Name=Sweden<br>GDP=%{x}<br>Fertility Rate=%{y}<br>Bubble Size=%{marker.size}<extra></extra>\",\"legendgroup\":\"Sweden\",\"marker\":{\"color\":\"#EF553B\",\"size\":[4.487911,0.0,0.0,0.0],\"sizemode\":\"area\",\"sizeref\":0.0155840875,\"symbol\":\"circle\"},\"mode\":\"markers\",\"name\":\"Sweden\",\"orientation\":\"v\",\"showlegend\":true,\"x\":[51947.95425,51947.95425,51947.95425,51947.95425],\"xaxis\":\"x\",\"y\":[1.78,1.78,1.78,1.78],\"yaxis\":\"y\",\"type\":\"scatter\"},{\"hovertemplate\":\"Country Name=Sint Maarten (Dutch part)<br>GDP=%{x}<br>Fertility Rate=%{y}<br>Bubble Size=%{marker.size}<extra></extra>\",\"legendgroup\":\"Sint Maarten (Dutch part)\",\"marker\":{\"color\":\"#00cc96\",\"size\":[0.0,0.0],\"sizemode\":\"area\",\"sizeref\":0.0155840875,\"symbol\":\"circle\"},\"mode\":\"markers\",\"name\":\"Sint Maarten (Dutch part)\",\"orientation\":\"v\",\"showlegend\":true,\"x\":[37914.12297,37914.12297],\"xaxis\":\"x\",\"y\":[1.6269999999999998,1.6269999999999998],\"yaxis\":\"y\",\"type\":\"scatter\"},{\"hovertemplate\":\"Country Name=Seychelles<br>GDP=%{x}<br>Fertility Rate=%{y}<br>Bubble Size=%{marker.size}<extra></extra>\",\"legendgroup\":\"Seychelles\",\"marker\":{\"color\":\"#ab63fa\",\"size\":[2.886514,0.0,0.0,0.0],\"sizemode\":\"area\",\"sizeref\":0.0155840875,\"symbol\":\"circle\"},\"mode\":\"markers\",\"name\":\"Seychelles\",\"orientation\":\"v\",\"showlegend\":true,\"x\":[27336.608369999998,27336.608369999998,27336.608369999998,27336.608369999998],\"xaxis\":\"x\",\"y\":[2.41,2.41,2.41,2.41],\"yaxis\":\"y\",\"type\":\"scatter\"},{\"hovertemplate\":\"Country Name=Turks and Caicos Islands<br>GDP=%{x}<br>Fertility Rate=%{y}<br>Bubble Size=%{marker.size}<extra></extra>\",\"legendgroup\":\"Turks and Caicos Islands\",\"marker\":{\"color\":\"#FFA15A\",\"size\":[0.0,0.0],\"sizemode\":\"area\",\"sizeref\":0.0155840875,\"symbol\":\"circle\"},\"mode\":\"markers\",\"name\":\"Turks and Caicos Islands\",\"orientation\":\"v\",\"showlegend\":true,\"x\":[25207.83169,25207.83169],\"xaxis\":\"x\",\"y\":[1.7409999999999999,1.7409999999999999],\"yaxis\":\"y\",\"type\":\"scatter\"},{\"hovertemplate\":\"Country Name=Chad<br>GDP=%{x}<br>Fertility Rate=%{y}<br>Bubble Size=%{marker.size}<extra></extra>\",\"legendgroup\":\"Chad\",\"marker\":{\"color\":\"#19d3f3\",\"size\":[3.8748370000000003,0.0,0.0,0.0],\"sizemode\":\"area\",\"sizeref\":0.0155840875,\"symbol\":\"circle\"},\"mode\":\"markers\",\"name\":\"Chad\",\"orientation\":\"v\",\"showlegend\":true,\"x\":[1579.7606,1579.7606,1579.7606,1579.7606],\"xaxis\":\"x\",\"y\":[6.537000000000001,6.537000000000001,6.537000000000001,6.537000000000001],\"yaxis\":\"y\",\"type\":\"scatter\"},{\"hovertemplate\":\"Country Name=Togo<br>GDP=%{x}<br>Fertility Rate=%{y}<br>Bubble Size=%{marker.size}<extra></extra>\",\"legendgroup\":\"Togo\",\"marker\":{\"color\":\"#FF6692\",\"size\":[3.656725,0.0,0.0,0.0],\"sizemode\":\"area\",\"sizeref\":0.0155840875,\"symbol\":\"circle\"},\"mode\":\"markers\",\"name\":\"Togo\",\"orientation\":\"v\",\"showlegend\":true,\"x\":[1972.697196,1972.697196,1972.697196,1972.697196],\"xaxis\":\"x\",\"y\":[4.503,4.503,4.503,4.503],\"yaxis\":\"y\",\"type\":\"scatter\"},{\"hovertemplate\":\"Country Name=Thailand<br>GDP=%{x}<br>Fertility Rate=%{y}<br>Bubble Size=%{marker.size}<extra></extra>\",\"legendgroup\":\"Thailand\",\"marker\":{\"color\":\"#B6E880\",\"size\":[3.085057,0.0,0.0,0.0],\"sizemode\":\"area\",\"sizeref\":0.0155840875,\"symbol\":\"circle\"},\"mode\":\"markers\",\"name\":\"Thailand\",\"orientation\":\"v\",\"showlegend\":true,\"x\":[17008.038419999997,17008.038419999997,17008.038419999997,17008.038419999997],\"xaxis\":\"x\",\"y\":[1.41,1.41,1.41,1.41],\"yaxis\":\"y\",\"type\":\"scatter\"},{\"hovertemplate\":\"Country Name=Tajikistan<br>GDP=%{x}<br>Fertility Rate=%{y}<br>Bubble Size=%{marker.size}<extra></extra>\",\"legendgroup\":\"Tajikistan\",\"marker\":{\"color\":\"#FF97FF\",\"size\":[2.563961,0.0,0.0,0.0],\"sizemode\":\"area\",\"sizeref\":0.0155840875,\"symbol\":\"circle\"},\"mode\":\"markers\",\"name\":\"Tajikistan\",\"orientation\":\"v\",\"showlegend\":true,\"x\":[3236.4393440000003,3236.4393440000003,3236.4393440000003,3236.4393440000003],\"xaxis\":\"x\",\"y\":[3.29,3.29,3.29,3.29],\"yaxis\":\"y\",\"type\":\"scatter\"},{\"hovertemplate\":\"Country Name=Turkmenistan<br>GDP=%{x}<br>Fertility Rate=%{y}<br>Bubble Size=%{marker.size}<extra></extra>\",\"legendgroup\":\"Turkmenistan\",\"marker\":{\"color\":\"#FECB52\",\"size\":[2.823086,0.0,0.0,0.0],\"sizemode\":\"area\",\"sizeref\":0.0155840875,\"symbol\":\"circle\"},\"mode\":\"markers\",\"name\":\"Turkmenistan\",\"orientation\":\"v\",\"showlegend\":true,\"x\":[13703.512719999999,13703.512719999999,13703.512719999999,13703.512719999999],\"xaxis\":\"x\",\"y\":[2.8360000000000003,2.8360000000000003,2.8360000000000003,2.8360000000000003],\"yaxis\":\"y\",\"type\":\"scatter\"},{\"hovertemplate\":\"Country Name=Tonga<br>GDP=%{x}<br>Fertility Rate=%{y}<br>Bubble Size=%{marker.size}<extra></extra>\",\"legendgroup\":\"Tonga\",\"marker\":{\"color\":\"#636efa\",\"size\":[2.9189700000000003,0.0,0.0,0.0],\"sizemode\":\"area\",\"sizeref\":0.0155840875,\"symbol\":\"circle\"},\"mode\":\"markers\",\"name\":\"Tonga\",\"orientation\":\"v\",\"showlegend\":true,\"x\":[6257.089734,6257.089734,6257.089734,6257.089734],\"xaxis\":\"x\",\"y\":[3.407,3.407,3.407,3.407],\"yaxis\":\"y\",\"type\":\"scatter\"},{\"hovertemplate\":\"Country Name=Trinidad and Tobago<br>GDP=%{x}<br>Fertility Rate=%{y}<br>Bubble Size=%{marker.size}<extra></extra>\",\"legendgroup\":\"Trinidad and Tobago\",\"marker\":{\"color\":\"#EF553B\",\"size\":[3.329938,0.0,0.0,0.0],\"sizemode\":\"area\",\"sizeref\":0.0155840875,\"symbol\":\"circle\"},\"mode\":\"markers\",\"name\":\"Trinidad and Tobago\",\"orientation\":\"v\",\"showlegend\":true,\"x\":[26213.92451,26213.92451,26213.92451,26213.92451],\"xaxis\":\"x\",\"y\":[1.662,1.662,1.662,1.662],\"yaxis\":\"y\",\"type\":\"scatter\"},{\"hovertemplate\":\"Country Name=Tunisia<br>GDP=%{x}<br>Fertility Rate=%{y}<br>Bubble Size=%{marker.size}<extra></extra>\",\"legendgroup\":\"Tunisia\",\"marker\":{\"color\":\"#00cc96\",\"size\":[3.915189,0.0,0.0,0.0],\"sizemode\":\"area\",\"sizeref\":0.0155840875,\"symbol\":\"circle\"},\"mode\":\"markers\",\"name\":\"Tunisia\",\"orientation\":\"v\",\"showlegend\":true,\"x\":[10874.946890000001,10874.946890000001,10874.946890000001,10874.946890000001],\"xaxis\":\"x\",\"y\":[2.221,2.221,2.221,2.221],\"yaxis\":\"y\",\"type\":\"scatter\"},{\"hovertemplate\":\"Country Name=Tuvalu<br>GDP=%{x}<br>Fertility Rate=%{y}<br>Bubble Size=%{marker.size}<extra></extra>\",\"legendgroup\":\"Tuvalu\",\"marker\":{\"color\":\"#ab63fa\",\"size\":[0.0,0.0],\"sizemode\":\"area\",\"sizeref\":0.0155840875,\"symbol\":\"circle\"},\"mode\":\"markers\",\"name\":\"Tuvalu\",\"orientation\":\"v\",\"showlegend\":true,\"x\":[4236.403023,4236.403023],\"xaxis\":\"x\",\"y\":[3.1860000000000004,3.1860000000000004],\"yaxis\":\"y\",\"type\":\"scatter\"},{\"hovertemplate\":\"Country Name=Tanzania<br>GDP=%{x}<br>Fertility Rate=%{y}<br>Bubble Size=%{marker.size}<extra></extra>\",\"legendgroup\":\"Tanzania\",\"marker\":{\"color\":\"#FFA15A\",\"size\":[3.6857480000000002,0.0,0.0,0.0],\"sizemode\":\"area\",\"sizeref\":0.0155840875,\"symbol\":\"circle\"},\"mode\":\"markers\",\"name\":\"Tanzania\",\"orientation\":\"v\",\"showlegend\":true,\"x\":[2457.618408,2457.618408,2457.618408,2457.618408],\"xaxis\":\"x\",\"y\":[4.993,4.993,4.993,4.993],\"yaxis\":\"y\",\"type\":\"scatter\"},{\"hovertemplate\":\"Country Name=Uganda<br>GDP=%{x}<br>Fertility Rate=%{y}<br>Bubble Size=%{marker.size}<extra></extra>\",\"legendgroup\":\"Uganda\",\"marker\":{\"color\":\"#19d3f3\",\"size\":[4.918028,0.0,0.0,0.0],\"sizemode\":\"area\",\"sizeref\":0.0155840875,\"symbol\":\"circle\"},\"mode\":\"markers\",\"name\":\"Uganda\",\"orientation\":\"v\",\"showlegend\":true,\"x\":[2128.396869,2128.396869,2128.396869,2128.396869],\"xaxis\":\"x\",\"y\":[5.052,5.052,5.052,5.052],\"yaxis\":\"y\",\"type\":\"scatter\"},{\"hovertemplate\":\"Country Name=Ukraine<br>GDP=%{x}<br>Fertility Rate=%{y}<br>Bubble Size=%{marker.size}<extra></extra>\",\"legendgroup\":\"Ukraine\",\"marker\":{\"color\":\"#FF6692\",\"size\":[4.071915,0.0,0.0,0.0],\"sizemode\":\"area\",\"sizeref\":0.0155840875,\"symbol\":\"circle\"},\"mode\":\"markers\",\"name\":\"Ukraine\",\"orientation\":\"v\",\"showlegend\":true,\"x\":[11860.56055,11860.56055,11860.56055,11860.56055],\"xaxis\":\"x\",\"y\":[1.374,1.374,1.374,1.374],\"yaxis\":\"y\",\"type\":\"scatter\"},{\"hovertemplate\":\"Country Name=Uruguay<br>GDP=%{x}<br>Fertility Rate=%{y}<br>Bubble Size=%{marker.size}<extra></extra>\",\"legendgroup\":\"Uruguay\",\"marker\":{\"color\":\"#B6E880\",\"size\":[3.617574,0.0,0.0,0.0],\"sizemode\":\"area\",\"sizeref\":0.0155840875,\"symbol\":\"circle\"},\"mode\":\"markers\",\"name\":\"Uruguay\",\"orientation\":\"v\",\"showlegend\":true,\"x\":[23384.74019,23384.74019,23384.74019,23384.74019],\"xaxis\":\"x\",\"y\":[1.796,1.796,1.796,1.796],\"yaxis\":\"y\",\"type\":\"scatter\"},{\"hovertemplate\":\"Country Name=United States<br>GDP=%{x}<br>Fertility Rate=%{y}<br>Bubble Size=%{marker.size}<extra></extra>\",\"legendgroup\":\"United States\",\"marker\":{\"color\":\"#FF97FF\",\"size\":[4.83561,0.0,0.0,0.0],\"sizemode\":\"area\",\"sizeref\":0.0155840875,\"symbol\":\"circle\"},\"mode\":\"markers\",\"name\":\"United States\",\"orientation\":\"v\",\"showlegend\":true,\"x\":[59907.75426,59907.75426,59907.75426,59907.75426],\"xaxis\":\"x\",\"y\":[1.7655,1.7655,1.7655,1.7655],\"yaxis\":\"y\",\"type\":\"scatter\"},{\"hovertemplate\":\"Country Name=Uzbekistan<br>GDP=%{x}<br>Fertility Rate=%{y}<br>Bubble Size=%{marker.size}<extra></extra>\",\"legendgroup\":\"Uzbekistan\",\"marker\":{\"color\":\"#FECB52\",\"size\":[2.886924,0.0,0.0,0.0],\"sizemode\":\"area\",\"sizeref\":0.0155840875,\"symbol\":\"circle\"},\"mode\":\"markers\",\"name\":\"Uzbekistan\",\"orientation\":\"v\",\"showlegend\":true,\"x\":[6840.709859999999,6840.709859999999,6840.709859999999,6840.709859999999],\"xaxis\":\"x\",\"y\":[2.419,2.419,2.419,2.419],\"yaxis\":\"y\",\"type\":\"scatter\"},{\"hovertemplate\":\"Country Name=British Virgin Islands<br>GDP=%{x}<br>Fertility Rate=%{y}<br>Bubble Size=%{marker.size}<extra></extra>\",\"legendgroup\":\"British Virgin Islands\",\"marker\":{\"color\":\"#636efa\",\"size\":[0.0,0.0],\"sizemode\":\"area\",\"sizeref\":0.0155840875,\"symbol\":\"circle\"},\"mode\":\"markers\",\"name\":\"British Virgin Islands\",\"orientation\":\"v\",\"showlegend\":true,\"x\":[0.0,0.0],\"xaxis\":\"x\",\"y\":[0.872,0.872],\"yaxis\":\"y\",\"type\":\"scatter\"},{\"hovertemplate\":\"Country Name=Vietnam<br>GDP=%{x}<br>Fertility Rate=%{y}<br>Bubble Size=%{marker.size}<extra></extra>\",\"legendgroup\":\"Vietnam\",\"marker\":{\"color\":\"#EF553B\",\"size\":[2.87945,0.0,0.0,0.0],\"sizemode\":\"area\",\"sizeref\":0.0155840875,\"symbol\":\"circle\"},\"mode\":\"markers\",\"name\":\"Vietnam\",\"orientation\":\"v\",\"showlegend\":true,\"x\":[9050.688534,9050.688534,9050.688534,9050.688534],\"xaxis\":\"x\",\"y\":[1.93,1.93,1.93,1.93],\"yaxis\":\"y\",\"type\":\"scatter\"},{\"hovertemplate\":\"Country Name=Vanuatu<br>GDP=%{x}<br>Fertility Rate=%{y}<br>Bubble Size=%{marker.size}<extra></extra>\",\"legendgroup\":\"Vanuatu\",\"marker\":{\"color\":\"#00cc96\",\"size\":[3.122695,0.0,0.0,0.0],\"sizemode\":\"area\",\"sizeref\":0.0155840875,\"symbol\":\"circle\"},\"mode\":\"markers\",\"name\":\"Vanuatu\",\"orientation\":\"v\",\"showlegend\":true,\"x\":[3031.243172,3031.243172,3031.243172,3031.243172],\"xaxis\":\"x\",\"y\":[3.91,3.91,3.91,3.91],\"yaxis\":\"y\",\"type\":\"scatter\"},{\"hovertemplate\":\"Country Name=World<br>GDP=%{x}<br>Fertility Rate=%{y}<br>Bubble Size=%{marker.size}<extra></extra>\",\"legendgroup\":\"World\",\"marker\":{\"color\":\"#ab63fa\",\"size\":[3.4410870000000005,0.0,0.0,0.0],\"sizemode\":\"area\",\"sizeref\":0.0155840875,\"symbol\":\"circle\"},\"mode\":\"markers\",\"name\":\"World\",\"orientation\":\"v\",\"showlegend\":true,\"x\":[16169.689869999998,16169.689869999998,16169.689869999998,16169.689869999998],\"xaxis\":\"x\",\"y\":[2.459191351,2.459191351,2.459191351,2.459191351],\"yaxis\":\"y\",\"type\":\"scatter\"},{\"hovertemplate\":\"Country Name=Samoa<br>GDP=%{x}<br>Fertility Rate=%{y}<br>Bubble Size=%{marker.size}<extra></extra>\",\"legendgroup\":\"Samoa\",\"marker\":{\"color\":\"#FFA15A\",\"size\":[3.038938,0.0,0.0,0.0],\"sizemode\":\"area\",\"sizeref\":0.0155840875,\"symbol\":\"circle\"},\"mode\":\"markers\",\"name\":\"Samoa\",\"orientation\":\"v\",\"showlegend\":true,\"x\":[6238.904021,6238.904021,6238.904021,6238.904021],\"xaxis\":\"x\",\"y\":[4.183,4.183,4.183,4.183],\"yaxis\":\"y\",\"type\":\"scatter\"},{\"hovertemplate\":\"Country Name=South Africa<br>GDP=%{x}<br>Fertility Rate=%{y}<br>Bubble Size=%{marker.size}<extra></extra>\",\"legendgroup\":\"South Africa\",\"marker\":{\"color\":\"#19d3f3\",\"size\":[3.7458709999999997,0.0,0.0,0.0],\"sizemode\":\"area\",\"sizeref\":0.0155840875,\"symbol\":\"circle\"},\"mode\":\"markers\",\"name\":\"South Africa\",\"orientation\":\"v\",\"showlegend\":true,\"x\":[13950.453480000002,13950.453480000002,13950.453480000002,13950.453480000002],\"xaxis\":\"x\",\"y\":[2.334,2.334,2.334,2.334],\"yaxis\":\"y\",\"type\":\"scatter\"},{\"hovertemplate\":\"Country Name=Zambia<br>GDP=%{x}<br>Fertility Rate=%{y}<br>Bubble Size=%{marker.size}<extra></extra>\",\"legendgroup\":\"Zambia\",\"marker\":{\"color\":\"#FF6692\",\"size\":[3.641811,0.0,0.0,0.0],\"sizemode\":\"area\",\"sizeref\":0.0155840875,\"symbol\":\"circle\"},\"mode\":\"markers\",\"name\":\"Zambia\",\"orientation\":\"v\",\"showlegend\":true,\"x\":[3395.479686,3395.479686,3395.479686,3395.479686],\"xaxis\":\"x\",\"y\":[4.614,4.614,4.614,4.614],\"yaxis\":\"y\",\"type\":\"scatter\"},{\"hovertemplate\":\"Country Name=Zimbabwe<br>GDP=%{x}<br>Fertility Rate=%{y}<br>Bubble Size=%{marker.size}<extra></extra>\",\"legendgroup\":\"Zimbabwe\",\"marker\":{\"color\":\"#B6E880\",\"size\":[3.192789,0.0,0.0,0.0],\"sizemode\":\"area\",\"sizeref\":0.0155840875,\"symbol\":\"circle\"},\"mode\":\"markers\",\"name\":\"Zimbabwe\",\"orientation\":\"v\",\"showlegend\":true,\"x\":[2331.780833,2331.780833,2331.780833,2331.780833],\"xaxis\":\"x\",\"y\":[3.7060000000000004,3.7060000000000004,3.7060000000000004,3.7060000000000004],\"yaxis\":\"y\",\"type\":\"scatter\"}],                        {\"template\":{\"data\":{\"histogram2dcontour\":[{\"type\":\"histogram2dcontour\",\"colorbar\":{\"outlinewidth\":0,\"ticks\":\"\"},\"colorscale\":[[0.0,\"#0d0887\"],[0.1111111111111111,\"#46039f\"],[0.2222222222222222,\"#7201a8\"],[0.3333333333333333,\"#9c179e\"],[0.4444444444444444,\"#bd3786\"],[0.5555555555555556,\"#d8576b\"],[0.6666666666666666,\"#ed7953\"],[0.7777777777777778,\"#fb9f3a\"],[0.8888888888888888,\"#fdca26\"],[1.0,\"#f0f921\"]]}],\"choropleth\":[{\"type\":\"choropleth\",\"colorbar\":{\"outlinewidth\":0,\"ticks\":\"\"}}],\"histogram2d\":[{\"type\":\"histogram2d\",\"colorbar\":{\"outlinewidth\":0,\"ticks\":\"\"},\"colorscale\":[[0.0,\"#0d0887\"],[0.1111111111111111,\"#46039f\"],[0.2222222222222222,\"#7201a8\"],[0.3333333333333333,\"#9c179e\"],[0.4444444444444444,\"#bd3786\"],[0.5555555555555556,\"#d8576b\"],[0.6666666666666666,\"#ed7953\"],[0.7777777777777778,\"#fb9f3a\"],[0.8888888888888888,\"#fdca26\"],[1.0,\"#f0f921\"]]}],\"heatmap\":[{\"type\":\"heatmap\",\"colorbar\":{\"outlinewidth\":0,\"ticks\":\"\"},\"colorscale\":[[0.0,\"#0d0887\"],[0.1111111111111111,\"#46039f\"],[0.2222222222222222,\"#7201a8\"],[0.3333333333333333,\"#9c179e\"],[0.4444444444444444,\"#bd3786\"],[0.5555555555555556,\"#d8576b\"],[0.6666666666666666,\"#ed7953\"],[0.7777777777777778,\"#fb9f3a\"],[0.8888888888888888,\"#fdca26\"],[1.0,\"#f0f921\"]]}],\"heatmapgl\":[{\"type\":\"heatmapgl\",\"colorbar\":{\"outlinewidth\":0,\"ticks\":\"\"},\"colorscale\":[[0.0,\"#0d0887\"],[0.1111111111111111,\"#46039f\"],[0.2222222222222222,\"#7201a8\"],[0.3333333333333333,\"#9c179e\"],[0.4444444444444444,\"#bd3786\"],[0.5555555555555556,\"#d8576b\"],[0.6666666666666666,\"#ed7953\"],[0.7777777777777778,\"#fb9f3a\"],[0.8888888888888888,\"#fdca26\"],[1.0,\"#f0f921\"]]}],\"contourcarpet\":[{\"type\":\"contourcarpet\",\"colorbar\":{\"outlinewidth\":0,\"ticks\":\"\"}}],\"contour\":[{\"type\":\"contour\",\"colorbar\":{\"outlinewidth\":0,\"ticks\":\"\"},\"colorscale\":[[0.0,\"#0d0887\"],[0.1111111111111111,\"#46039f\"],[0.2222222222222222,\"#7201a8\"],[0.3333333333333333,\"#9c179e\"],[0.4444444444444444,\"#bd3786\"],[0.5555555555555556,\"#d8576b\"],[0.6666666666666666,\"#ed7953\"],[0.7777777777777778,\"#fb9f3a\"],[0.8888888888888888,\"#fdca26\"],[1.0,\"#f0f921\"]]}],\"surface\":[{\"type\":\"surface\",\"colorbar\":{\"outlinewidth\":0,\"ticks\":\"\"},\"colorscale\":[[0.0,\"#0d0887\"],[0.1111111111111111,\"#46039f\"],[0.2222222222222222,\"#7201a8\"],[0.3333333333333333,\"#9c179e\"],[0.4444444444444444,\"#bd3786\"],[0.5555555555555556,\"#d8576b\"],[0.6666666666666666,\"#ed7953\"],[0.7777777777777778,\"#fb9f3a\"],[0.8888888888888888,\"#fdca26\"],[1.0,\"#f0f921\"]]}],\"mesh3d\":[{\"type\":\"mesh3d\",\"colorbar\":{\"outlinewidth\":0,\"ticks\":\"\"}}],\"scatter\":[{\"fillpattern\":{\"fillmode\":\"overlay\",\"size\":10,\"solidity\":0.2},\"type\":\"scatter\"}],\"parcoords\":[{\"type\":\"parcoords\",\"line\":{\"colorbar\":{\"outlinewidth\":0,\"ticks\":\"\"}}}],\"scatterpolargl\":[{\"type\":\"scatterpolargl\",\"marker\":{\"colorbar\":{\"outlinewidth\":0,\"ticks\":\"\"}}}],\"bar\":[{\"error_x\":{\"color\":\"#2a3f5f\"},\"error_y\":{\"color\":\"#2a3f5f\"},\"marker\":{\"line\":{\"color\":\"#E5ECF6\",\"width\":0.5},\"pattern\":{\"fillmode\":\"overlay\",\"size\":10,\"solidity\":0.2}},\"type\":\"bar\"}],\"scattergeo\":[{\"type\":\"scattergeo\",\"marker\":{\"colorbar\":{\"outlinewidth\":0,\"ticks\":\"\"}}}],\"scatterpolar\":[{\"type\":\"scatterpolar\",\"marker\":{\"colorbar\":{\"outlinewidth\":0,\"ticks\":\"\"}}}],\"histogram\":[{\"marker\":{\"pattern\":{\"fillmode\":\"overlay\",\"size\":10,\"solidity\":0.2}},\"type\":\"histogram\"}],\"scattergl\":[{\"type\":\"scattergl\",\"marker\":{\"colorbar\":{\"outlinewidth\":0,\"ticks\":\"\"}}}],\"scatter3d\":[{\"type\":\"scatter3d\",\"line\":{\"colorbar\":{\"outlinewidth\":0,\"ticks\":\"\"}},\"marker\":{\"colorbar\":{\"outlinewidth\":0,\"ticks\":\"\"}}}],\"scattermapbox\":[{\"type\":\"scattermapbox\",\"marker\":{\"colorbar\":{\"outlinewidth\":0,\"ticks\":\"\"}}}],\"scatterternary\":[{\"type\":\"scatterternary\",\"marker\":{\"colorbar\":{\"outlinewidth\":0,\"ticks\":\"\"}}}],\"scattercarpet\":[{\"type\":\"scattercarpet\",\"marker\":{\"colorbar\":{\"outlinewidth\":0,\"ticks\":\"\"}}}],\"carpet\":[{\"aaxis\":{\"endlinecolor\":\"#2a3f5f\",\"gridcolor\":\"white\",\"linecolor\":\"white\",\"minorgridcolor\":\"white\",\"startlinecolor\":\"#2a3f5f\"},\"baxis\":{\"endlinecolor\":\"#2a3f5f\",\"gridcolor\":\"white\",\"linecolor\":\"white\",\"minorgridcolor\":\"white\",\"startlinecolor\":\"#2a3f5f\"},\"type\":\"carpet\"}],\"table\":[{\"cells\":{\"fill\":{\"color\":\"#EBF0F8\"},\"line\":{\"color\":\"white\"}},\"header\":{\"fill\":{\"color\":\"#C8D4E3\"},\"line\":{\"color\":\"white\"}},\"type\":\"table\"}],\"barpolar\":[{\"marker\":{\"line\":{\"color\":\"#E5ECF6\",\"width\":0.5},\"pattern\":{\"fillmode\":\"overlay\",\"size\":10,\"solidity\":0.2}},\"type\":\"barpolar\"}],\"pie\":[{\"automargin\":true,\"type\":\"pie\"}]},\"layout\":{\"autotypenumbers\":\"strict\",\"colorway\":[\"#636efa\",\"#EF553B\",\"#00cc96\",\"#ab63fa\",\"#FFA15A\",\"#19d3f3\",\"#FF6692\",\"#B6E880\",\"#FF97FF\",\"#FECB52\"],\"font\":{\"color\":\"#2a3f5f\"},\"hovermode\":\"closest\",\"hoverlabel\":{\"align\":\"left\"},\"paper_bgcolor\":\"white\",\"plot_bgcolor\":\"#E5ECF6\",\"polar\":{\"bgcolor\":\"#E5ECF6\",\"angularaxis\":{\"gridcolor\":\"white\",\"linecolor\":\"white\",\"ticks\":\"\"},\"radialaxis\":{\"gridcolor\":\"white\",\"linecolor\":\"white\",\"ticks\":\"\"}},\"ternary\":{\"bgcolor\":\"#E5ECF6\",\"aaxis\":{\"gridcolor\":\"white\",\"linecolor\":\"white\",\"ticks\":\"\"},\"baxis\":{\"gridcolor\":\"white\",\"linecolor\":\"white\",\"ticks\":\"\"},\"caxis\":{\"gridcolor\":\"white\",\"linecolor\":\"white\",\"ticks\":\"\"}},\"coloraxis\":{\"colorbar\":{\"outlinewidth\":0,\"ticks\":\"\"}},\"colorscale\":{\"sequential\":[[0.0,\"#0d0887\"],[0.1111111111111111,\"#46039f\"],[0.2222222222222222,\"#7201a8\"],[0.3333333333333333,\"#9c179e\"],[0.4444444444444444,\"#bd3786\"],[0.5555555555555556,\"#d8576b\"],[0.6666666666666666,\"#ed7953\"],[0.7777777777777778,\"#fb9f3a\"],[0.8888888888888888,\"#fdca26\"],[1.0,\"#f0f921\"]],\"sequentialminus\":[[0.0,\"#0d0887\"],[0.1111111111111111,\"#46039f\"],[0.2222222222222222,\"#7201a8\"],[0.3333333333333333,\"#9c179e\"],[0.4444444444444444,\"#bd3786\"],[0.5555555555555556,\"#d8576b\"],[0.6666666666666666,\"#ed7953\"],[0.7777777777777778,\"#fb9f3a\"],[0.8888888888888888,\"#fdca26\"],[1.0,\"#f0f921\"]],\"diverging\":[[0,\"#8e0152\"],[0.1,\"#c51b7d\"],[0.2,\"#de77ae\"],[0.3,\"#f1b6da\"],[0.4,\"#fde0ef\"],[0.5,\"#f7f7f7\"],[0.6,\"#e6f5d0\"],[0.7,\"#b8e186\"],[0.8,\"#7fbc41\"],[0.9,\"#4d9221\"],[1,\"#276419\"]]},\"xaxis\":{\"gridcolor\":\"white\",\"linecolor\":\"white\",\"ticks\":\"\",\"title\":{\"standoff\":15},\"zerolinecolor\":\"white\",\"automargin\":true,\"zerolinewidth\":2},\"yaxis\":{\"gridcolor\":\"white\",\"linecolor\":\"white\",\"ticks\":\"\",\"title\":{\"standoff\":15},\"zerolinecolor\":\"white\",\"automargin\":true,\"zerolinewidth\":2},\"scene\":{\"xaxis\":{\"backgroundcolor\":\"#E5ECF6\",\"gridcolor\":\"white\",\"linecolor\":\"white\",\"showbackground\":true,\"ticks\":\"\",\"zerolinecolor\":\"white\",\"gridwidth\":2},\"yaxis\":{\"backgroundcolor\":\"#E5ECF6\",\"gridcolor\":\"white\",\"linecolor\":\"white\",\"showbackground\":true,\"ticks\":\"\",\"zerolinecolor\":\"white\",\"gridwidth\":2},\"zaxis\":{\"backgroundcolor\":\"#E5ECF6\",\"gridcolor\":\"white\",\"linecolor\":\"white\",\"showbackground\":true,\"ticks\":\"\",\"zerolinecolor\":\"white\",\"gridwidth\":2}},\"shapedefaults\":{\"line\":{\"color\":\"#2a3f5f\"}},\"annotationdefaults\":{\"arrowcolor\":\"#2a3f5f\",\"arrowhead\":0,\"arrowwidth\":1},\"geo\":{\"bgcolor\":\"white\",\"landcolor\":\"#E5ECF6\",\"subunitcolor\":\"white\",\"showland\":true,\"showlakes\":true,\"lakecolor\":\"white\"},\"title\":{\"x\":0.05},\"mapbox\":{\"style\":\"light\"}}},\"xaxis\":{\"anchor\":\"y\",\"domain\":[0.0,1.0],\"title\":{\"text\":\"GDP\"}},\"yaxis\":{\"anchor\":\"x\",\"domain\":[0.0,1.0],\"title\":{\"text\":\"Fertility Rate\"}},\"legend\":{\"title\":{\"text\":\"Country Name\"},\"tracegroupgap\":0,\"itemsizing\":\"constant\"},\"title\":{\"text\":\"Bubble Chart for Year 2022\"}},                        {\"responsive\": true}                    ).then(function(){\n",
       "                            \n",
       "var gd = document.getElementById('1187e8ac-09cf-46b7-a1b0-26aae6b4f1dc');\n",
       "var x = new MutationObserver(function (mutations, observer) {{\n",
       "        var display = window.getComputedStyle(gd).display;\n",
       "        if (!display || display === 'none') {{\n",
       "            console.log([gd, 'removed!']);\n",
       "            Plotly.purge(gd);\n",
       "            observer.disconnect();\n",
       "        }}\n",
       "}});\n",
       "\n",
       "// Listen for the removal of the full notebook cells\n",
       "var notebookContainer = gd.closest('#notebook-container');\n",
       "if (notebookContainer) {{\n",
       "    x.observe(notebookContainer, {childList: true});\n",
       "}}\n",
       "\n",
       "// Listen for the clearing of the current output cell\n",
       "var outputEl = gd.closest('.output');\n",
       "if (outputEl) {{\n",
       "    x.observe(outputEl, {childList: true});\n",
       "}}\n",
       "\n",
       "                        })                };                });            </script>        </div>"
      ]
     },
     "metadata": {},
     "output_type": "display_data"
    }
   ],
   "source": [
    "# 將NaN值轉換為0\n",
    "df1_melted['GDP'].fillna(0, inplace=True)\n",
    "df2_melted['Fertility Rate'].fillna(0, inplace=True)\n",
    "\n",
    "# 将 'Depression (%)' 列中的 NaN 值替换为0\n",
    "data_2022['Depression (%)'].fillna(0, inplace=True)\n",
    "\n",
    "# 筛选 Year 为 2022 的数据，同时确保 'Depression (%)' 列不包含 NaN 值\n",
    "data_2022 = data_2022.dropna(subset=['Depression (%)'])\n",
    "\n",
    "# 创建 Bubble Chart\n",
    "fig = px.scatter(data_2022, x='GDP', y='Fertility Rate', size='Depression (%)', \n",
    "                 color='Country Name', labels={'Depression (%)': 'Bubble Size'}, \n",
    "                 title='Bubble Chart for Year 2022')\n",
    "\n",
    "# 显示图表\n",
    "fig.show()\n",
    "\n",
    "\n"
   ]
  }
 ],
 "metadata": {
  "kernelspec": {
   "display_name": "Python 3",
   "language": "python",
   "name": "python3"
  },
  "language_info": {
   "codemirror_mode": {
    "name": "ipython",
    "version": 3
   },
   "file_extension": ".py",
   "mimetype": "text/x-python",
   "name": "python",
   "nbconvert_exporter": "python",
   "pygments_lexer": "ipython3",
   "version": "3.6.13"
  }
 },
 "nbformat": 4,
 "nbformat_minor": 5
}
