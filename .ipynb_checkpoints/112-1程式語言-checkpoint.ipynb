{
 "cells": [
  {
   "cell_type": "code",
   "execution_count": 2,
   "id": "3abd226f",
   "metadata": {},
   "outputs": [],
   "source": [
    "import pandas as pd\n",
    "\n",
    "# 設定 CSV 檔案的路徑\n",
    "csv_file_path_HRIS = '人力資源系統.csv'\n",
    "csv_file_path_YUGI = '學習團成員.csv'\n",
    "\n",
    "\n",
    "# 使用 pandas 的 read_csv 函式讀取 CSV 檔案並將其轉換為 DataFrame\n",
    "df_HRIS = pd.read_csv(csv_file_path_HRIS)\n",
    "df_YUGI = pd.read_csv(csv_file_path_YUGI)"
   ]
  },
  {
   "cell_type": "code",
   "execution_count": 6,
   "id": "9ed898fe",
   "metadata": {},
   "outputs": [
    {
     "name": "stdout",
     "output_type": "stream",
     "text": [
      "同時是育碁學習團與人力資源系統的學生是哪幾位: {'張郁庭', '鄭宇庭', '張雅婷', '簡苡甯'}\n",
      "育碁學習團與人力資源系統的學生有哪幾位: {'張雅婷', '陳沛萭', '卓育霆', '馮景筠', '鄭宇庭', '劉子歆', '簡苡甯', '張郁庭', '李曜宇'}\n",
      "只上育碁學習團或人力資源系統的學生有哪幾位: set()\n"
     ]
    }
   ],
   "source": [
    "# 從 DataFrame 中取出學生名稱欄位，假設欄位名稱為 '學生名稱'，你可以根據實際情況調整\n",
    "student_names_HRIS = df_HRIS['姓名']\n",
    "student_names_YUGI = df_YUGI['姓名']\n",
    "\n",
    "\n",
    "# 將學生名稱轉換為 set 資料型態\n",
    "student_names_HRIS_set = set(student_names_HRIS)\n",
    "student_names_YUGI_set = set(student_names_YUGI)\n",
    "\n",
    "#交集\n",
    "print(\"同時是育碁學習團與人力資源系統的學生是哪幾位:\",student_names_HRIS_set & student_names_YUGI_set)\n",
    "\n",
    "#聯集\n",
    "print(\"育碁學習團與人力資源系統的學生有哪幾位:\",student_names_HRIS_set | student_names_YUGI_set)\n",
    "\n",
    "#差集\n",
    "print(\"只上育碁學習團或人力資源系統的學生有哪幾位:\",student_names_HRIS_set - student_names_YUGI_set)"
   ]
  },
  {
   "cell_type": "code",
   "execution_count": null,
   "id": "ecc07e87",
   "metadata": {},
   "outputs": [],
   "source": []
  }
 ],
 "metadata": {
  "kernelspec": {
   "display_name": "Python 3",
   "language": "python",
   "name": "python3"
  },
  "language_info": {
   "codemirror_mode": {
    "name": "ipython",
    "version": 3
   },
   "file_extension": ".py",
   "mimetype": "text/x-python",
   "name": "python",
   "nbconvert_exporter": "python",
   "pygments_lexer": "ipython3",
   "version": "3.6.13"
  }
 },
 "nbformat": 4,
 "nbformat_minor": 5
}
