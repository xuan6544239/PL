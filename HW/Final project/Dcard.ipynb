{
 "cells": [
  {
   "cell_type": "code",
   "execution_count": 1,
   "id": "bebe6219",
   "metadata": {},
   "outputs": [
    {
     "name": "stdout",
     "output_type": "stream",
     "text": [
      "403\n"
     ]
    }
   ],
   "source": [
    "#透過Python取得該頁資料\n",
    "#使用requests套件的requests.get()方法\n",
    "import requests\n",
    "url = 'https://www.dcard.tw/f'\n",
    "resp = requests.get(url) #回傳為一個request.Response的物件\n",
    "print(resp.status_code)\n",
    "#物件的statu_code屬性取得server回覆的狀態碼(200表示正常,404表示找不到網頁)"
   ]
  }
 ],
 "metadata": {
  "kernelspec": {
   "display_name": "Python 3",
   "language": "python",
   "name": "python3"
  },
  "language_info": {
   "codemirror_mode": {
    "name": "ipython",
    "version": 3
   },
   "file_extension": ".py",
   "mimetype": "text/x-python",
   "name": "python",
   "nbconvert_exporter": "python",
   "pygments_lexer": "ipython3",
   "version": "3.6.13"
  }
 },
 "nbformat": 4,
 "nbformat_minor": 5
}
